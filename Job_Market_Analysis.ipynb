{
 "cells": [
  {
   "cell_type": "markdown",
   "metadata": {
    "id": "Qy6axQMvq14F"
   },
   "source": [
    "This Dataset consists list of AI Jobs in india .\n",
    "\n",
    "Job titles which are interchangeably used ('Data Scientist', 'Data Engineer' ,'Machine Learning Engineer','Data Analyst')\n",
    "\n",
    "Number of rows in data - 885\n",
    "\n",
    "Number of columns/attribute in data - 19\n",
    "\n"
   ]
  },
  {
   "cell_type": "markdown",
   "metadata": {
    "id": "m38rujk9q14M"
   },
   "source": [
    "\n"
   ]
  },
  {
   "cell_type": "markdown",
   "metadata": {
    "id": "Af-PH5Xtq14N"
   },
   "source": [
    "Objective:\n",
    "Finding Companies most probable to hire an ML Engineer/Data Analyst Applicant in respect to his/her skillset.\n",
    "\n",
    "To analyse Machine Learning Job Market in India with respect to the given problem statement using Segmentation analysis and outline the segments most optimal to apply or prepare for Machine Learning Jobs."
   ]
  },
  {
   "cell_type": "code",
   "execution_count": 109,
   "metadata": {
    "id": "j0GDb8rCq14O"
   },
   "outputs": [],
   "source": [
    "# Techniques and Algorithms used - Machine learning using python with numpy , pandas and Basic maths.\n",
    "# In this project we took Dataset consists list of AI Jobs in india and\n",
    "# analyzed the dataset using various data analysis techniques and using various python libraries\n",
    "# and Various Plotting techniques."
   ]
  },
  {
   "cell_type": "code",
   "execution_count": 2,
   "metadata": {
    "id": "9OYbsgWdq14P"
   },
   "outputs": [
    {
     "ename": "SyntaxError",
     "evalue": "invalid syntax (<ipython-input-2-2766dfbb0bc2>, line 1)",
     "output_type": "error",
     "traceback": [
      "\u001b[1;36m  File \u001b[1;32m\"<ipython-input-2-2766dfbb0bc2>\"\u001b[1;36m, line \u001b[1;32m1\u001b[0m\n\u001b[1;33m    Attribute Information:\u001b[0m\n\u001b[1;37m              ^\u001b[0m\n\u001b[1;31mSyntaxError\u001b[0m\u001b[1;31m:\u001b[0m invalid syntax\n"
     ]
    }
   ],
   "source": [
    "Attribute Information:\n",
    "\n",
    "'Job.Title' : Job title\n",
    "\n",
    "'Job.Description': Job description\n",
    "\n",
    "'Rating': Job rating\n",
    "\n",
    "'Company.Name': Company name\n",
    "\n",
    "'Location': Location of the company\n",
    "\n",
    "'Headquarters': Company headquarters\n",
    "\n",
    "'Size': the Size of the company\n",
    "\n",
    "'Founded': The year it was founded\n",
    "\n",
    "'Type.of.ownership': Public or private ownership\n",
    "\n",
    "'Industry': Type of industry company belongs\n",
    "\n",
    "'Sector': Type of sector company belongs\n",
    "\n",
    "'Revenue': Yearly revenue by company\n",
    "\n",
    "'Competitors': Company competitors\n",
    "\n",
    "'Python': Does description has python keyword in it 1 if yes 0 if no\n",
    "\n",
    "'R.Prog': Does description has R prog keyword in it 1 if yes 0 if no\n",
    "\n",
    "'Excel': Does description has Excel keyword in it 1 if yes 0 if no\n",
    "\n",
    "'Hadoop': Does description has Hadoop keyword in it 1 if yes 0 if no\n",
    "\n",
    "'SQL': Does description has SQL keyword in it 1 if yes 0 if no\n",
    "\n",
    "'SAS: Does description has SAS keyword in it 1 if yes 0 if no"
   ]
  },
  {
   "cell_type": "code",
   "execution_count": null,
   "metadata": {},
   "outputs": [],
   "source": []
  },
  {
   "cell_type": "code",
   "execution_count": 216,
   "metadata": {
    "id": "NdtB8jfRq14Q"
   },
   "outputs": [],
   "source": [
    "import pandas as pd\n",
    "import numpy as np\n",
    "import seaborn as sns\n",
    "import matplotlib.pyplot as plt"
   ]
  },
  {
   "cell_type": "code",
   "execution_count": 21,
   "metadata": {
    "colab": {
     "base_uri": "https://localhost:8080/"
    },
    "id": "uHXsUBhBx6iR",
    "outputId": "f95b93f8-fcae-40f7-8eee-e86573bfd43c"
   },
   "outputs": [],
   "source": [
    "# from google.colab import drive\n",
    "# drive.mount(\"Mydrive\")"
   ]
  },
  {
   "cell_type": "code",
   "execution_count": null,
   "metadata": {
    "id": "vuqUsnSMyDxT"
   },
   "outputs": [],
   "source": [
    "#upload dataset in googledrive\n",
    "#Connect google drive with google colab \n",
    "#Read the datset in googlecolab"
   ]
  },
  {
   "cell_type": "code",
   "execution_count": 217,
   "metadata": {
    "colab": {
     "base_uri": "https://localhost:8080/",
     "height": 434
    },
    "id": "QnNHeftvq14R",
    "outputId": "0c04358e-0123-4127-b452-d76a427396f5"
   },
   "outputs": [
    {
     "data": {
      "text/html": [
       "<div>\n",
       "<style scoped>\n",
       "    .dataframe tbody tr th:only-of-type {\n",
       "        vertical-align: middle;\n",
       "    }\n",
       "\n",
       "    .dataframe tbody tr th {\n",
       "        vertical-align: top;\n",
       "    }\n",
       "\n",
       "    .dataframe thead th {\n",
       "        text-align: right;\n",
       "    }\n",
       "</style>\n",
       "<table border=\"1\" class=\"dataframe\">\n",
       "  <thead>\n",
       "    <tr style=\"text-align: right;\">\n",
       "      <th></th>\n",
       "      <th>Job.Title</th>\n",
       "      <th>Job.Description</th>\n",
       "      <th>Rating</th>\n",
       "      <th>Company.Name</th>\n",
       "      <th>Location</th>\n",
       "      <th>Headquarters</th>\n",
       "      <th>Size</th>\n",
       "      <th>Founded</th>\n",
       "      <th>Type.of.ownership</th>\n",
       "      <th>Industry</th>\n",
       "      <th>Sector</th>\n",
       "      <th>Revenue</th>\n",
       "      <th>Competitors</th>\n",
       "      <th>Python</th>\n",
       "      <th>R Prog</th>\n",
       "      <th>Excel</th>\n",
       "      <th>Hadoop</th>\n",
       "      <th>SQL</th>\n",
       "      <th>SAS</th>\n",
       "    </tr>\n",
       "  </thead>\n",
       "  <tbody>\n",
       "    <tr>\n",
       "      <th>0</th>\n",
       "      <td>Data Scientist</td>\n",
       "      <td>Site Name: India - Karnataka - Bangalore\\r\\nPo...</td>\n",
       "      <td>3.9</td>\n",
       "      <td>GSK</td>\n",
       "      <td>Bengaluru</td>\n",
       "      <td>Brentford, United Kingdom</td>\n",
       "      <td>10000+ employees</td>\n",
       "      <td>1830</td>\n",
       "      <td>Company - Public</td>\n",
       "      <td>Biotech &amp; Pharmaceuticals</td>\n",
       "      <td>Biotech &amp; Pharmaceuticals</td>\n",
       "      <td>500+ billion (INR)</td>\n",
       "      <td>Pfizer, AstraZeneca, Merck</td>\n",
       "      <td>1</td>\n",
       "      <td>0</td>\n",
       "      <td>0</td>\n",
       "      <td>1</td>\n",
       "      <td>0</td>\n",
       "      <td>0</td>\n",
       "    </tr>\n",
       "    <tr>\n",
       "      <th>1</th>\n",
       "      <td>Data Scientist</td>\n",
       "      <td>Overview\\r\\n\\r\\n\\r\\nWe have an exciting opport...</td>\n",
       "      <td>4.0</td>\n",
       "      <td>Quanticate</td>\n",
       "      <td>Bengaluru</td>\n",
       "      <td>Hitchin, United Kingdom</td>\n",
       "      <td>201 to 500 employees</td>\n",
       "      <td>1995</td>\n",
       "      <td>Company - Private</td>\n",
       "      <td>Biotech &amp; Pharmaceuticals</td>\n",
       "      <td>Biotech &amp; Pharmaceuticals</td>\n",
       "      <td>1 to 5 billion (INR)</td>\n",
       "      <td>GCE Solutions, Parexel, IQVIA</td>\n",
       "      <td>1</td>\n",
       "      <td>0</td>\n",
       "      <td>0</td>\n",
       "      <td>0</td>\n",
       "      <td>0</td>\n",
       "      <td>1</td>\n",
       "    </tr>\n",
       "    <tr>\n",
       "      <th>2</th>\n",
       "      <td>Data Scientist</td>\n",
       "      <td>Provide analytical insights into emerging prob...</td>\n",
       "      <td>3.5</td>\n",
       "      <td>PayPal</td>\n",
       "      <td>Bengaluru</td>\n",
       "      <td>San Jose, CA</td>\n",
       "      <td>10000+ employees</td>\n",
       "      <td>1998</td>\n",
       "      <td>Company - Public</td>\n",
       "      <td>Internet</td>\n",
       "      <td>Information Technology</td>\n",
       "      <td>500+ billion (INR)</td>\n",
       "      <td>Square, Amazon, Apple</td>\n",
       "      <td>1</td>\n",
       "      <td>0</td>\n",
       "      <td>0</td>\n",
       "      <td>0</td>\n",
       "      <td>1</td>\n",
       "      <td>1</td>\n",
       "    </tr>\n",
       "    <tr>\n",
       "      <th>3</th>\n",
       "      <td>Data Scientist</td>\n",
       "      <td>At Amazon, we strive to be most customer-centr...</td>\n",
       "      <td>4.2</td>\n",
       "      <td>Amazon</td>\n",
       "      <td>Hyderabad</td>\n",
       "      <td>Seattle, WA</td>\n",
       "      <td>10000+ employees</td>\n",
       "      <td>1994</td>\n",
       "      <td>Company - Public</td>\n",
       "      <td>Internet</td>\n",
       "      <td>Information Technology</td>\n",
       "      <td>500+ billion (INR)</td>\n",
       "      <td>Google, Microsoft, Walmart</td>\n",
       "      <td>1</td>\n",
       "      <td>0</td>\n",
       "      <td>1</td>\n",
       "      <td>0</td>\n",
       "      <td>1</td>\n",
       "      <td>0</td>\n",
       "    </tr>\n",
       "    <tr>\n",
       "      <th>4</th>\n",
       "      <td>Data Scientist</td>\n",
       "      <td>When everything's connected, how we connect is...</td>\n",
       "      <td>3.3</td>\n",
       "      <td>TTEC</td>\n",
       "      <td>Hyderabad</td>\n",
       "      <td>Englewood, CO</td>\n",
       "      <td>10000+ employees</td>\n",
       "      <td>1982</td>\n",
       "      <td>Company - Public</td>\n",
       "      <td>Staffing &amp; Outsourcing</td>\n",
       "      <td>Business Services</td>\n",
       "      <td>100 to 500 billion (INR)</td>\n",
       "      <td>Teleperformance, TaskUs, Convergys</td>\n",
       "      <td>1</td>\n",
       "      <td>0</td>\n",
       "      <td>1</td>\n",
       "      <td>0</td>\n",
       "      <td>0</td>\n",
       "      <td>1</td>\n",
       "    </tr>\n",
       "  </tbody>\n",
       "</table>\n",
       "</div>"
      ],
      "text/plain": [
       "        Job.Title                                    Job.Description  Rating  \\\n",
       "0  Data Scientist  Site Name: India - Karnataka - Bangalore\\r\\nPo...     3.9   \n",
       "1  Data Scientist  Overview\\r\\n\\r\\n\\r\\nWe have an exciting opport...     4.0   \n",
       "2  Data Scientist  Provide analytical insights into emerging prob...     3.5   \n",
       "3  Data Scientist  At Amazon, we strive to be most customer-centr...     4.2   \n",
       "4  Data Scientist  When everything's connected, how we connect is...     3.3   \n",
       "\n",
       "  Company.Name   Location               Headquarters                  Size  \\\n",
       "0          GSK  Bengaluru  Brentford, United Kingdom      10000+ employees   \n",
       "1   Quanticate  Bengaluru    Hitchin, United Kingdom  201 to 500 employees   \n",
       "2       PayPal  Bengaluru               San Jose, CA      10000+ employees   \n",
       "3       Amazon  Hyderabad                Seattle, WA      10000+ employees   \n",
       "4         TTEC  Hyderabad              Englewood, CO      10000+ employees   \n",
       "\n",
       "   Founded  Type.of.ownership                   Industry  \\\n",
       "0     1830   Company - Public  Biotech & Pharmaceuticals   \n",
       "1     1995  Company - Private  Biotech & Pharmaceuticals   \n",
       "2     1998   Company - Public                   Internet   \n",
       "3     1994   Company - Public                   Internet   \n",
       "4     1982   Company - Public     Staffing & Outsourcing   \n",
       "\n",
       "                      Sector                   Revenue  \\\n",
       "0  Biotech & Pharmaceuticals        500+ billion (INR)   \n",
       "1  Biotech & Pharmaceuticals      1 to 5 billion (INR)   \n",
       "2     Information Technology        500+ billion (INR)   \n",
       "3     Information Technology        500+ billion (INR)   \n",
       "4          Business Services  100 to 500 billion (INR)   \n",
       "\n",
       "                          Competitors  Python  R Prog  Excel  Hadoop  SQL  SAS  \n",
       "0          Pfizer, AstraZeneca, Merck       1       0      0       1    0    0  \n",
       "1       GCE Solutions, Parexel, IQVIA       1       0      0       0    0    1  \n",
       "2               Square, Amazon, Apple       1       0      0       0    1    1  \n",
       "3          Google, Microsoft, Walmart       1       0      1       0    1    0  \n",
       "4  Teleperformance, TaskUs, Convergys       1       0      1       0    0    1  "
      ]
     },
     "execution_count": 217,
     "metadata": {},
     "output_type": "execute_result"
    }
   ],
   "source": [
    "df1=pd.read_csv(r'E:\\DS projects(only ipynb files & datasets)\\Job market analysis\\cleaned_job_dataset.csv',encoding='ISO-8859-1')\n",
    "df1.head()"
   ]
  },
  {
   "cell_type": "code",
   "execution_count": 3,
   "metadata": {
    "id": "u1b6h6Ztq14T",
    "outputId": "f4fefdcc-af59-4cbb-8296-303cb03ffef4",
    "scrolled": false
   },
   "outputs": [
    {
     "data": {
      "text/plain": [
       "(885, 19)"
      ]
     },
     "execution_count": 3,
     "metadata": {},
     "output_type": "execute_result"
    }
   ],
   "source": [
    "df1.shape"
   ]
  },
  {
   "cell_type": "code",
   "execution_count": null,
   "metadata": {},
   "outputs": [],
   "source": [
    "#change date column to datetime format\n",
    "#change Programming Leanguages columns 6 to object dtype"
   ]
  },
  {
   "cell_type": "code",
   "execution_count": null,
   "metadata": {},
   "outputs": [],
   "source": []
  },
  {
   "cell_type": "code",
   "execution_count": 218,
   "metadata": {},
   "outputs": [],
   "source": [
    "df1['Founded']=pd.to_datetime(df1[\"Founded\"],utc=True)"
   ]
  },
  {
   "cell_type": "code",
   "execution_count": 40,
   "metadata": {},
   "outputs": [],
   "source": [
    "#Founded column is converted to datetime.\n",
    "#When I set utc=True i convert all the datetime values in same time zone i.e GMT greenwich\n",
    "#i.e GMT 0:00"
   ]
  },
  {
   "cell_type": "code",
   "execution_count": 219,
   "metadata": {},
   "outputs": [],
   "source": [
    "df1['Python']=df1['Python'].astype(object)"
   ]
  },
  {
   "cell_type": "code",
   "execution_count": null,
   "metadata": {},
   "outputs": [],
   "source": []
  },
  {
   "cell_type": "code",
   "execution_count": 99,
   "metadata": {},
   "outputs": [
    {
     "data": {
      "text/plain": [
       "dtype('float64')"
      ]
     },
     "execution_count": 99,
     "metadata": {},
     "output_type": "execute_result"
    }
   ],
   "source": [
    "df1['Rating'].dtype"
   ]
  },
  {
   "cell_type": "code",
   "execution_count": 220,
   "metadata": {},
   "outputs": [],
   "source": [
    "df1['Rating']=df1['Rating'].astype('float64')\n",
    "#Rating col has float values.ITs d type must be float."
   ]
  },
  {
   "cell_type": "code",
   "execution_count": 221,
   "metadata": {},
   "outputs": [],
   "source": [
    "df1['R Prog']=df1['R Prog'].astype(object)"
   ]
  },
  {
   "cell_type": "code",
   "execution_count": 222,
   "metadata": {},
   "outputs": [],
   "source": [
    "df1['Excel']=df1['Excel'].astype(object)"
   ]
  },
  {
   "cell_type": "code",
   "execution_count": 90,
   "metadata": {
    "scrolled": true
   },
   "outputs": [
    {
     "data": {
      "text/plain": [
       "dtype('O')"
      ]
     },
     "execution_count": 90,
     "metadata": {},
     "output_type": "execute_result"
    }
   ],
   "source": [
    "df1['Excel'].dtype"
   ]
  },
  {
   "cell_type": "code",
   "execution_count": 149,
   "metadata": {},
   "outputs": [],
   "source": [
    "df1['SQL']=df1['SQL'].astype(object)"
   ]
  },
  {
   "cell_type": "code",
   "execution_count": 150,
   "metadata": {},
   "outputs": [],
   "source": [
    "df1['SAS']=df1['SAS'].astype(object)"
   ]
  },
  {
   "cell_type": "code",
   "execution_count": 151,
   "metadata": {},
   "outputs": [],
   "source": [
    "df1['Hadoop']=df1['Hadoop'].astype(object)"
   ]
  },
  {
   "cell_type": "code",
   "execution_count": 52,
   "metadata": {
    "scrolled": false
   },
   "outputs": [
    {
     "data": {
      "text/plain": [
       "Job.Title                         object\n",
       "Job.Description                   object\n",
       "Rating                           float64\n",
       "Company.Name                      object\n",
       "Location                          object\n",
       "Headquarters                      object\n",
       "Size                              object\n",
       "Founded              datetime64[ns, UTC]\n",
       "Type.of.ownership                 object\n",
       "Industry                          object\n",
       "Sector                            object\n",
       "Revenue                           object\n",
       "Competitors                       object\n",
       "Python                            object\n",
       "R Prog                            object\n",
       "Excel                             object\n",
       "Hadoop                            object\n",
       "SQL                               object\n",
       "SAS                               object\n",
       "dtype: object"
      ]
     },
     "execution_count": 52,
     "metadata": {},
     "output_type": "execute_result"
    }
   ],
   "source": [
    "df1.dtypes"
   ]
  },
  {
   "cell_type": "code",
   "execution_count": 11,
   "metadata": {},
   "outputs": [],
   "source": [
    "#All the columns have correct data types."
   ]
  },
  {
   "cell_type": "code",
   "execution_count": 152,
   "metadata": {
    "id": "Zw7thPOfq14U",
    "outputId": "51324ba9-a2f2-4af1-8289-7416cbad7473",
    "scrolled": false
   },
   "outputs": [
    {
     "data": {
      "text/plain": [
       "Job.Title            0\n",
       "Job.Description      0\n",
       "Rating               0\n",
       "Company.Name         0\n",
       "Location             0\n",
       "Headquarters         0\n",
       "Size                 0\n",
       "Founded              0\n",
       "Type.of.ownership    0\n",
       "Industry             0\n",
       "Sector               0\n",
       "Revenue              0\n",
       "Competitors          0\n",
       "Python               0\n",
       "R Prog               0\n",
       "Excel                0\n",
       "Hadoop               0\n",
       "SQL                  0\n",
       "SAS                  0\n",
       "dtype: int64"
      ]
     },
     "execution_count": 152,
     "metadata": {},
     "output_type": "execute_result"
    }
   ],
   "source": [
    "df1.isnull().sum()\n",
    "#nonull values"
   ]
  },
  {
   "cell_type": "code",
   "execution_count": 341,
   "metadata": {
    "id": "OaHbVMe8q14V",
    "outputId": "6148b046-b227-445c-81a7-d91914545096",
    "scrolled": true
   },
   "outputs": [],
   "source": [
    "# df.dtypes\n",
    "#founded must be obj as it is date column"
   ]
  },
  {
   "cell_type": "code",
   "execution_count": 343,
   "metadata": {},
   "outputs": [],
   "source": [
    "##f.isnull().sum()\n"
   ]
  },
  {
   "cell_type": "code",
   "execution_count": 20,
   "metadata": {},
   "outputs": [],
   "source": [
    "#Step1:No irrelevent columns\n",
    "#Step2:Change dtype of some columns.\n",
    "#Step3:Null value Treatment"
   ]
  },
  {
   "cell_type": "code",
   "execution_count": 199,
   "metadata": {
    "scrolled": false
   },
   "outputs": [],
   "source": [
    "# df_cat=df.select_dtypes(include=object)\n",
    "# df_cat.head(2)"
   ]
  },
  {
   "cell_type": "code",
   "execution_count": null,
   "metadata": {},
   "outputs": [],
   "source": []
  },
  {
   "cell_type": "code",
   "execution_count": 235,
   "metadata": {
    "scrolled": false
   },
   "outputs": [],
   "source": [
    "# #The below code checks if there are special charaters in a cate column or not(like $,#,-1)\n",
    "# for i in df_cat.columns:\n",
    "#     print(df_cat[i].value_counts())"
   ]
  },
  {
   "cell_type": "code",
   "execution_count": 344,
   "metadata": {
    "scrolled": true
   },
   "outputs": [],
   "source": [
    "# df_cat.dtypes\n",
    "#The columns in df_cat df are object dtype.All columns have correct dtypes."
   ]
  },
  {
   "cell_type": "code",
   "execution_count": null,
   "metadata": {},
   "outputs": [],
   "source": []
  },
  {
   "cell_type": "code",
   "execution_count": 54,
   "metadata": {},
   "outputs": [],
   "source": [
    "#Job.Title has no special chars...no -1\n",
    "#Job.Description has no -1 value\n",
    "#Company.Name has no -1 value\n",
    "#Location col has -1 value.count is 12\n",
    "##Headquarters col has -1 value.count is 72.\n",
    "#Size col has -1 value.count is 134.\n",
    "#Type.of.ownership col has -1 value.count is 101\n",
    "#Industry col has -1 value.count is 249.\n",
    "#Sector col has -1 value.count is 248.\n",
    "#Revenue col has -1 value.Count is 498.\n",
    "#Competitors col has -1 value.count is 639."
   ]
  },
  {
   "cell_type": "code",
   "execution_count": null,
   "metadata": {},
   "outputs": [],
   "source": []
  },
  {
   "cell_type": "code",
   "execution_count": null,
   "metadata": {},
   "outputs": [],
   "source": []
  },
  {
   "cell_type": "code",
   "execution_count": 19,
   "metadata": {
    "scrolled": true
   },
   "outputs": [],
   "source": [
    "# df[df.columns[0]]"
   ]
  },
  {
   "cell_type": "code",
   "execution_count": null,
   "metadata": {},
   "outputs": [],
   "source": []
  },
  {
   "cell_type": "code",
   "execution_count": 56,
   "metadata": {},
   "outputs": [],
   "source": [
    "#no location means how will job title exist?\n",
    "#Replace -1 with Locationn not known,found\n"
   ]
  },
  {
   "cell_type": "code",
   "execution_count": null,
   "metadata": {},
   "outputs": [],
   "source": []
  },
  {
   "cell_type": "code",
   "execution_count": 153,
   "metadata": {
    "scrolled": true
   },
   "outputs": [],
   "source": [
    "df1.loc[df1.Location=='-1','Location']='not mentioned'"
   ]
  },
  {
   "cell_type": "code",
   "execution_count": null,
   "metadata": {},
   "outputs": [],
   "source": []
  },
  {
   "cell_type": "code",
   "execution_count": 16,
   "metadata": {
    "scrolled": true
   },
   "outputs": [
    {
     "data": {
      "text/html": [
       "<div>\n",
       "<style scoped>\n",
       "    .dataframe tbody tr th:only-of-type {\n",
       "        vertical-align: middle;\n",
       "    }\n",
       "\n",
       "    .dataframe tbody tr th {\n",
       "        vertical-align: top;\n",
       "    }\n",
       "\n",
       "    .dataframe thead th {\n",
       "        text-align: right;\n",
       "    }\n",
       "</style>\n",
       "<table border=\"1\" class=\"dataframe\">\n",
       "  <thead>\n",
       "    <tr style=\"text-align: right;\">\n",
       "      <th></th>\n",
       "      <th>Job.Title</th>\n",
       "      <th>Job.Description</th>\n",
       "      <th>Rating</th>\n",
       "      <th>Company.Name</th>\n",
       "      <th>Location</th>\n",
       "      <th>Headquarters</th>\n",
       "      <th>Size</th>\n",
       "      <th>Founded</th>\n",
       "      <th>Type.of.ownership</th>\n",
       "      <th>Industry</th>\n",
       "      <th>Sector</th>\n",
       "      <th>Revenue</th>\n",
       "      <th>Competitors</th>\n",
       "      <th>Python</th>\n",
       "      <th>R Prog</th>\n",
       "      <th>Excel</th>\n",
       "      <th>Hadoop</th>\n",
       "      <th>SQL</th>\n",
       "      <th>SAS</th>\n",
       "    </tr>\n",
       "  </thead>\n",
       "  <tbody>\n",
       "  </tbody>\n",
       "</table>\n",
       "</div>"
      ],
      "text/plain": [
       "Empty DataFrame\n",
       "Columns: [Job.Title, Job.Description, Rating, Company.Name, Location, Headquarters, Size, Founded, Type.of.ownership, Industry, Sector, Revenue, Competitors, Python, R Prog, Excel, Hadoop, SQL, SAS]\n",
       "Index: []"
      ]
     },
     "execution_count": 16,
     "metadata": {},
     "output_type": "execute_result"
    }
   ],
   "source": [
    "df1.loc[df1.Location=='-1']\n",
    "#I have replaced -1 with not mentioned"
   ]
  },
  {
   "cell_type": "code",
   "execution_count": 154,
   "metadata": {},
   "outputs": [],
   "source": [
    "df1.loc[df1.Headquarters=='-1',['Headquarters']]='not mentioned'"
   ]
  },
  {
   "cell_type": "code",
   "execution_count": 115,
   "metadata": {
    "scrolled": true
   },
   "outputs": [
    {
     "data": {
      "text/html": [
       "<div>\n",
       "<style scoped>\n",
       "    .dataframe tbody tr th:only-of-type {\n",
       "        vertical-align: middle;\n",
       "    }\n",
       "\n",
       "    .dataframe tbody tr th {\n",
       "        vertical-align: top;\n",
       "    }\n",
       "\n",
       "    .dataframe thead th {\n",
       "        text-align: right;\n",
       "    }\n",
       "</style>\n",
       "<table border=\"1\" class=\"dataframe\">\n",
       "  <thead>\n",
       "    <tr style=\"text-align: right;\">\n",
       "      <th></th>\n",
       "      <th>Job.Title</th>\n",
       "      <th>Job.Description</th>\n",
       "      <th>Rating</th>\n",
       "      <th>Company.Name</th>\n",
       "      <th>Location</th>\n",
       "      <th>Headquarters</th>\n",
       "      <th>Size</th>\n",
       "      <th>Founded</th>\n",
       "      <th>Type.of.ownership</th>\n",
       "      <th>Industry</th>\n",
       "      <th>Sector</th>\n",
       "      <th>Revenue</th>\n",
       "      <th>Competitors</th>\n",
       "      <th>Python</th>\n",
       "      <th>R Prog</th>\n",
       "      <th>Excel</th>\n",
       "      <th>Hadoop</th>\n",
       "      <th>SQL</th>\n",
       "      <th>SAS</th>\n",
       "    </tr>\n",
       "  </thead>\n",
       "  <tbody>\n",
       "  </tbody>\n",
       "</table>\n",
       "</div>"
      ],
      "text/plain": [
       "Empty DataFrame\n",
       "Columns: [Job.Title, Job.Description, Rating, Company.Name, Location, Headquarters, Size, Founded, Type.of.ownership, Industry, Sector, Revenue, Competitors, Python, R Prog, Excel, Hadoop, SQL, SAS]\n",
       "Index: []"
      ]
     },
     "execution_count": 115,
     "metadata": {},
     "output_type": "execute_result"
    }
   ],
   "source": [
    "df1.loc[df1.Location=='-1']"
   ]
  },
  {
   "cell_type": "code",
   "execution_count": 155,
   "metadata": {},
   "outputs": [],
   "source": [
    "df1.loc[df1.Size=='-1',['Size']]='not mentioned'"
   ]
  },
  {
   "cell_type": "code",
   "execution_count": 117,
   "metadata": {
    "scrolled": true
   },
   "outputs": [
    {
     "data": {
      "text/html": [
       "<div>\n",
       "<style scoped>\n",
       "    .dataframe tbody tr th:only-of-type {\n",
       "        vertical-align: middle;\n",
       "    }\n",
       "\n",
       "    .dataframe tbody tr th {\n",
       "        vertical-align: top;\n",
       "    }\n",
       "\n",
       "    .dataframe thead th {\n",
       "        text-align: right;\n",
       "    }\n",
       "</style>\n",
       "<table border=\"1\" class=\"dataframe\">\n",
       "  <thead>\n",
       "    <tr style=\"text-align: right;\">\n",
       "      <th></th>\n",
       "      <th>Job.Title</th>\n",
       "      <th>Job.Description</th>\n",
       "      <th>Rating</th>\n",
       "      <th>Company.Name</th>\n",
       "      <th>Location</th>\n",
       "      <th>Headquarters</th>\n",
       "      <th>Size</th>\n",
       "      <th>Founded</th>\n",
       "      <th>Type.of.ownership</th>\n",
       "      <th>Industry</th>\n",
       "      <th>Sector</th>\n",
       "      <th>Revenue</th>\n",
       "      <th>Competitors</th>\n",
       "      <th>Python</th>\n",
       "      <th>R Prog</th>\n",
       "      <th>Excel</th>\n",
       "      <th>Hadoop</th>\n",
       "      <th>SQL</th>\n",
       "      <th>SAS</th>\n",
       "    </tr>\n",
       "  </thead>\n",
       "  <tbody>\n",
       "  </tbody>\n",
       "</table>\n",
       "</div>"
      ],
      "text/plain": [
       "Empty DataFrame\n",
       "Columns: [Job.Title, Job.Description, Rating, Company.Name, Location, Headquarters, Size, Founded, Type.of.ownership, Industry, Sector, Revenue, Competitors, Python, R Prog, Excel, Hadoop, SQL, SAS]\n",
       "Index: []"
      ]
     },
     "execution_count": 117,
     "metadata": {},
     "output_type": "execute_result"
    }
   ],
   "source": [
    "df1.loc[df1.Size=='-1']\n",
    "#I have replaced -1 with not mentioned.\n",
    "#Number of employees in the company is not mentioned.it is the meaning of size=-1.\n",
    "#size of the company is not mentioned."
   ]
  },
  {
   "cell_type": "code",
   "execution_count": 156,
   "metadata": {},
   "outputs": [],
   "source": [
    "df1.loc[df1.Revenue=='-1',['Revenue']]='not mentioned'"
   ]
  },
  {
   "cell_type": "code",
   "execution_count": null,
   "metadata": {},
   "outputs": [],
   "source": [
    "#There are some job titles or vacancies in some companies where the companies revenue is not mentioned."
   ]
  },
  {
   "cell_type": "code",
   "execution_count": 157,
   "metadata": {},
   "outputs": [],
   "source": [
    "df1.loc[df1.Competitors=='-1',['Competitors']]='not mentioned'\n",
    "#There are some job tiles in some companies whose competetors is not mentioned  and their revenue is also not mentioned.\n",
    "#I have repalce -1 values in cate vars using not mentioned string."
   ]
  },
  {
   "cell_type": "code",
   "execution_count": 26,
   "metadata": {},
   "outputs": [],
   "source": [
    "# for i in df_num.columns:\n",
    "#     print(df_num[i].value_counts())"
   ]
  },
  {
   "cell_type": "code",
   "execution_count": 143,
   "metadata": {},
   "outputs": [],
   "source": [
    "# df.columns"
   ]
  },
  {
   "cell_type": "code",
   "execution_count": 158,
   "metadata": {
    "scrolled": true
   },
   "outputs": [],
   "source": [
    "df1.loc[df1[df1.columns[8]]=='-1',df1.columns[8]]='not mentioned'\n"
   ]
  },
  {
   "cell_type": "code",
   "execution_count": 102,
   "metadata": {},
   "outputs": [
    {
     "data": {
      "text/plain": [
       "Series([], Name: Type.of.ownership, dtype: object)"
      ]
     },
     "execution_count": 102,
     "metadata": {},
     "output_type": "execute_result"
    }
   ],
   "source": [
    "df1.loc[df1[df1.columns[8]]=='-1',df1.columns[8]]"
   ]
  },
  {
   "cell_type": "code",
   "execution_count": 50,
   "metadata": {},
   "outputs": [],
   "source": [
    "\n",
    "# df.loc[df.Type.of.ownership=='-1',['Size']]='not mentioned'"
   ]
  },
  {
   "cell_type": "code",
   "execution_count": 159,
   "metadata": {},
   "outputs": [],
   "source": [
    "df1.loc[df1['Industry']=='-1',['Industry']]='not mentioned'\n",
    "#where industry is -1 it means that industry type is not mentioned.\n"
   ]
  },
  {
   "cell_type": "code",
   "execution_count": 23,
   "metadata": {
    "scrolled": true
   },
   "outputs": [
    {
     "data": {
      "text/html": [
       "<div>\n",
       "<style scoped>\n",
       "    .dataframe tbody tr th:only-of-type {\n",
       "        vertical-align: middle;\n",
       "    }\n",
       "\n",
       "    .dataframe tbody tr th {\n",
       "        vertical-align: top;\n",
       "    }\n",
       "\n",
       "    .dataframe thead th {\n",
       "        text-align: right;\n",
       "    }\n",
       "</style>\n",
       "<table border=\"1\" class=\"dataframe\">\n",
       "  <thead>\n",
       "    <tr style=\"text-align: right;\">\n",
       "      <th></th>\n",
       "      <th>Job.Title</th>\n",
       "      <th>Job.Description</th>\n",
       "      <th>Rating</th>\n",
       "      <th>Company.Name</th>\n",
       "      <th>Location</th>\n",
       "      <th>Headquarters</th>\n",
       "      <th>Size</th>\n",
       "      <th>Founded</th>\n",
       "      <th>Type.of.ownership</th>\n",
       "      <th>Industry</th>\n",
       "      <th>Sector</th>\n",
       "      <th>Revenue</th>\n",
       "      <th>Competitors</th>\n",
       "      <th>Python</th>\n",
       "      <th>R Prog</th>\n",
       "      <th>Excel</th>\n",
       "      <th>Hadoop</th>\n",
       "      <th>SQL</th>\n",
       "      <th>SAS</th>\n",
       "    </tr>\n",
       "  </thead>\n",
       "  <tbody>\n",
       "  </tbody>\n",
       "</table>\n",
       "</div>"
      ],
      "text/plain": [
       "Empty DataFrame\n",
       "Columns: [Job.Title, Job.Description, Rating, Company.Name, Location, Headquarters, Size, Founded, Type.of.ownership, Industry, Sector, Revenue, Competitors, Python, R Prog, Excel, Hadoop, SQL, SAS]\n",
       "Index: []"
      ]
     },
     "execution_count": 23,
     "metadata": {},
     "output_type": "execute_result"
    }
   ],
   "source": [
    "df1.loc[df1['Industry']=='-1']\n",
    "#For some job titles the industry type is not mentioned."
   ]
  },
  {
   "cell_type": "code",
   "execution_count": 160,
   "metadata": {},
   "outputs": [],
   "source": [
    "df1.loc[df1.Sector=='-1',['Sector']]='not mentioned'\n",
    "#There are some job titles  whose Sector is not mentioned"
   ]
  },
  {
   "cell_type": "code",
   "execution_count": null,
   "metadata": {},
   "outputs": [],
   "source": [
    "#there are many companies which do not have headquarters.say 72.\n",
    "#These 72 companies are registered,legal without headquarters.\n",
    "#Set -1 with 'No Headquarters'.I cannot replace -1 with mode value.I cannot replace -1 with say Banglore.\n",
    "#A company which does not have hq cannot be set to say banglore.\n",
    "#I cannot assign any headquarter city name to a company."
   ]
  },
  {
   "cell_type": "code",
   "execution_count": 368,
   "metadata": {
    "scrolled": true
   },
   "outputs": [],
   "source": [
    "# df.Location"
   ]
  },
  {
   "cell_type": "code",
   "execution_count": 149,
   "metadata": {
    "scrolled": true
   },
   "outputs": [],
   "source": [
    "# df.Headquarters"
   ]
  },
  {
   "cell_type": "code",
   "execution_count": 369,
   "metadata": {},
   "outputs": [],
   "source": [
    "# df.columns"
   ]
  },
  {
   "cell_type": "code",
   "execution_count": 182,
   "metadata": {},
   "outputs": [],
   "source": [
    "#df.loc[df.Size=='-1']['Job.Title']\n",
    "#I am selecting the job titles with size==-1.\n",
    "#These job titles are there in company with no employees.This is logically wrong.\n",
    "#generally,when job titles are there vacancies are there then company will have employees."
   ]
  },
  {
   "cell_type": "code",
   "execution_count": 29,
   "metadata": {},
   "outputs": [],
   "source": [
    "# df.columns[8]"
   ]
  },
  {
   "cell_type": "code",
   "execution_count": 89,
   "metadata": {
    "scrolled": false
   },
   "outputs": [
    {
     "data": {
      "text/plain": [
       "0       Company - Public\n",
       "1      Company - Private\n",
       "2       Company - Public\n",
       "3       Company - Public\n",
       "4       Company - Public\n",
       "             ...        \n",
       "880    Company - Private\n",
       "881    Company - Private\n",
       "882        not mentioned\n",
       "883    Company - Private\n",
       "884     Company - Public\n",
       "Name: Type.of.ownership, Length: 885, dtype: object"
      ]
     },
     "execution_count": 89,
     "metadata": {},
     "output_type": "execute_result"
    }
   ],
   "source": [
    "# df[df.columns[8]]"
   ]
  },
  {
   "cell_type": "code",
   "execution_count": 184,
   "metadata": {
    "scrolled": true
   },
   "outputs": [],
   "source": [
    "# df[df.columns[8]].value_counts()\n",
    "\n",
    "# for i in df_cat.columns:\n",
    "#     print(i)\n",
    "\n",
    "#check for -1 values in type of ownership,Rating column,\n",
    "\n",
    "# for i in df_cat.columns:\n",
    "#     print(df_cat[i].value_counts())\n",
    "# df1_num=df1.select_dtypes(include=['int64','float64'])\n",
    "# df1_num\n",
    "#The rating column has float values its dtype is float.When i add not mentioned striing then\n",
    "#its dtype must be object.\n",
    "#There are no -1 values in 2 columns in numerical dataframe.\n",
    "# df_num.Hadoop.value_counts()#Hadoop col has 0 and 1.its d type must be object.\n",
    "#its fine.\n",
    "# df_num.Rating.value_counts().head(5)\n",
    "# df.loc[df.Rating=='-1',['Rating']]\n",
    "# df1.Rating.value_counts()\n",
    "# #"
   ]
  },
  {
   "cell_type": "code",
   "execution_count": null,
   "metadata": {},
   "outputs": [],
   "source": [
    "#We replaced -1 values in rating column with 0.Only then we can plot pie chart.\n",
    "#when we repl -1 to not mentioned we can not p pie ch."
   ]
  },
  {
   "cell_type": "code",
   "execution_count": 161,
   "metadata": {},
   "outputs": [],
   "source": [
    "df1.loc[df1.Rating==-1,['Rating']]=0\n",
    "#Rating column had -1 not '-1'.other col had '-1'\n",
    "#There are some JOb titles or vacancies in some companies whose Rating is not mentioned.\n",
    "#There ratings of the companies are not mentioned.\n",
    "#CHanges are saved in original df named df not in df_cat or df_num."
   ]
  },
  {
   "cell_type": "code",
   "execution_count": null,
   "metadata": {},
   "outputs": [],
   "source": [
    "#In df dataframe,The rating column has not mentioned string.\n",
    "#df_num df has -1 values.let it have.not an issue."
   ]
  },
  {
   "cell_type": "markdown",
   "metadata": {},
   "source": [
    " The df1 dataframe has no '-1' values.The cate cols do not have '-1'.The num vars also do not have\n",
    " '-1' values.All the  '-1' values are replaced by 'not mentioned'."
   ]
  },
  {
   "cell_type": "code",
   "execution_count": 387,
   "metadata": {},
   "outputs": [],
   "source": [
    "# for i in df1.columns:\n",
    "#     print(df1[i].value_counts())correct"
   ]
  },
  {
   "cell_type": "code",
   "execution_count": 165,
   "metadata": {
    "scrolled": false
   },
   "outputs": [
    {
     "data": {
      "text/html": [
       "<div>\n",
       "<style scoped>\n",
       "    .dataframe tbody tr th:only-of-type {\n",
       "        vertical-align: middle;\n",
       "    }\n",
       "\n",
       "    .dataframe tbody tr th {\n",
       "        vertical-align: top;\n",
       "    }\n",
       "\n",
       "    .dataframe thead th {\n",
       "        text-align: right;\n",
       "    }\n",
       "</style>\n",
       "<table border=\"1\" class=\"dataframe\">\n",
       "  <thead>\n",
       "    <tr style=\"text-align: right;\">\n",
       "      <th></th>\n",
       "      <th>Job.Title</th>\n",
       "      <th>Job.Description</th>\n",
       "      <th>Rating</th>\n",
       "      <th>Company.Name</th>\n",
       "      <th>Location</th>\n",
       "      <th>Headquarters</th>\n",
       "      <th>Size</th>\n",
       "      <th>Founded</th>\n",
       "      <th>Type.of.ownership</th>\n",
       "      <th>Industry</th>\n",
       "      <th>Sector</th>\n",
       "      <th>Revenue</th>\n",
       "      <th>Competitors</th>\n",
       "      <th>Python</th>\n",
       "      <th>R Prog</th>\n",
       "      <th>Excel</th>\n",
       "      <th>Hadoop</th>\n",
       "      <th>SQL</th>\n",
       "      <th>SAS</th>\n",
       "    </tr>\n",
       "  </thead>\n",
       "  <tbody>\n",
       "    <tr>\n",
       "      <th>0</th>\n",
       "      <td>Data Scientist</td>\n",
       "      <td>Site Name: India - Karnataka - Bangalore\\r\\nPo...</td>\n",
       "      <td>3.9</td>\n",
       "      <td>GSK</td>\n",
       "      <td>Bengaluru</td>\n",
       "      <td>Brentford, United Kingdom</td>\n",
       "      <td>10000+ employees</td>\n",
       "      <td>1970-01-01 00:00:00.000001830+00:00</td>\n",
       "      <td>Company - Public</td>\n",
       "      <td>Biotech &amp; Pharmaceuticals</td>\n",
       "      <td>Biotech &amp; Pharmaceuticals</td>\n",
       "      <td>500+ billion (INR)</td>\n",
       "      <td>Pfizer, AstraZeneca, Merck</td>\n",
       "      <td>1</td>\n",
       "      <td>0</td>\n",
       "      <td>0</td>\n",
       "      <td>1</td>\n",
       "      <td>0</td>\n",
       "      <td>0</td>\n",
       "    </tr>\n",
       "    <tr>\n",
       "      <th>1</th>\n",
       "      <td>Data Scientist</td>\n",
       "      <td>Overview\\r\\n\\r\\n\\r\\nWe have an exciting opport...</td>\n",
       "      <td>4.0</td>\n",
       "      <td>Quanticate</td>\n",
       "      <td>Bengaluru</td>\n",
       "      <td>Hitchin, United Kingdom</td>\n",
       "      <td>201 to 500 employees</td>\n",
       "      <td>1970-01-01 00:00:00.000001995+00:00</td>\n",
       "      <td>Company - Private</td>\n",
       "      <td>Biotech &amp; Pharmaceuticals</td>\n",
       "      <td>Biotech &amp; Pharmaceuticals</td>\n",
       "      <td>1 to 5 billion (INR)</td>\n",
       "      <td>GCE Solutions, Parexel, IQVIA</td>\n",
       "      <td>1</td>\n",
       "      <td>0</td>\n",
       "      <td>0</td>\n",
       "      <td>0</td>\n",
       "      <td>0</td>\n",
       "      <td>1</td>\n",
       "    </tr>\n",
       "    <tr>\n",
       "      <th>2</th>\n",
       "      <td>Data Scientist</td>\n",
       "      <td>Provide analytical insights into emerging prob...</td>\n",
       "      <td>3.5</td>\n",
       "      <td>PayPal</td>\n",
       "      <td>Bengaluru</td>\n",
       "      <td>San Jose, CA</td>\n",
       "      <td>10000+ employees</td>\n",
       "      <td>1970-01-01 00:00:00.000001998+00:00</td>\n",
       "      <td>Company - Public</td>\n",
       "      <td>Internet</td>\n",
       "      <td>Information Technology</td>\n",
       "      <td>500+ billion (INR)</td>\n",
       "      <td>Square, Amazon, Apple</td>\n",
       "      <td>1</td>\n",
       "      <td>0</td>\n",
       "      <td>0</td>\n",
       "      <td>0</td>\n",
       "      <td>1</td>\n",
       "      <td>1</td>\n",
       "    </tr>\n",
       "    <tr>\n",
       "      <th>3</th>\n",
       "      <td>Data Scientist</td>\n",
       "      <td>At Amazon, we strive to be most customer-centr...</td>\n",
       "      <td>4.2</td>\n",
       "      <td>Amazon</td>\n",
       "      <td>Hyderabad</td>\n",
       "      <td>Seattle, WA</td>\n",
       "      <td>10000+ employees</td>\n",
       "      <td>1970-01-01 00:00:00.000001994+00:00</td>\n",
       "      <td>Company - Public</td>\n",
       "      <td>Internet</td>\n",
       "      <td>Information Technology</td>\n",
       "      <td>500+ billion (INR)</td>\n",
       "      <td>Google, Microsoft, Walmart</td>\n",
       "      <td>1</td>\n",
       "      <td>0</td>\n",
       "      <td>1</td>\n",
       "      <td>0</td>\n",
       "      <td>1</td>\n",
       "      <td>0</td>\n",
       "    </tr>\n",
       "  </tbody>\n",
       "</table>\n",
       "</div>"
      ],
      "text/plain": [
       "        Job.Title                                    Job.Description  Rating  \\\n",
       "0  Data Scientist  Site Name: India - Karnataka - Bangalore\\r\\nPo...     3.9   \n",
       "1  Data Scientist  Overview\\r\\n\\r\\n\\r\\nWe have an exciting opport...     4.0   \n",
       "2  Data Scientist  Provide analytical insights into emerging prob...     3.5   \n",
       "3  Data Scientist  At Amazon, we strive to be most customer-centr...     4.2   \n",
       "\n",
       "  Company.Name   Location               Headquarters                  Size  \\\n",
       "0          GSK  Bengaluru  Brentford, United Kingdom      10000+ employees   \n",
       "1   Quanticate  Bengaluru    Hitchin, United Kingdom  201 to 500 employees   \n",
       "2       PayPal  Bengaluru               San Jose, CA      10000+ employees   \n",
       "3       Amazon  Hyderabad                Seattle, WA      10000+ employees   \n",
       "\n",
       "                              Founded  Type.of.ownership  \\\n",
       "0 1970-01-01 00:00:00.000001830+00:00   Company - Public   \n",
       "1 1970-01-01 00:00:00.000001995+00:00  Company - Private   \n",
       "2 1970-01-01 00:00:00.000001998+00:00   Company - Public   \n",
       "3 1970-01-01 00:00:00.000001994+00:00   Company - Public   \n",
       "\n",
       "                    Industry                     Sector               Revenue  \\\n",
       "0  Biotech & Pharmaceuticals  Biotech & Pharmaceuticals    500+ billion (INR)   \n",
       "1  Biotech & Pharmaceuticals  Biotech & Pharmaceuticals  1 to 5 billion (INR)   \n",
       "2                   Internet     Information Technology    500+ billion (INR)   \n",
       "3                   Internet     Information Technology    500+ billion (INR)   \n",
       "\n",
       "                     Competitors Python R Prog Excel Hadoop SQL SAS  \n",
       "0     Pfizer, AstraZeneca, Merck      1      0     0      1   0   0  \n",
       "1  GCE Solutions, Parexel, IQVIA      1      0     0      0   0   1  \n",
       "2          Square, Amazon, Apple      1      0     0      0   1   1  \n",
       "3     Google, Microsoft, Walmart      1      0     1      0   1   0  "
      ]
     },
     "execution_count": 165,
     "metadata": {},
     "output_type": "execute_result"
    }
   ],
   "source": [
    "df1.head(4)"
   ]
  },
  {
   "cell_type": "code",
   "execution_count": 139,
   "metadata": {},
   "outputs": [],
   "source": []
  },
  {
   "cell_type": "code",
   "execution_count": null,
   "metadata": {},
   "outputs": [],
   "source": [
    "#Piechart "
   ]
  },
  {
   "cell_type": "code",
   "execution_count": 167,
   "metadata": {},
   "outputs": [
    {
     "data": {
      "text/plain": [
       "3.0146520146520146"
      ]
     },
     "execution_count": 167,
     "metadata": {},
     "output_type": "execute_result"
    }
   ],
   "source": [
    "df1[df1[df1.columns[0]]=='Data Scientist']['Rating'].mean()"
   ]
  },
  {
   "cell_type": "code",
   "execution_count": 170,
   "metadata": {},
   "outputs": [
    {
     "data": {
      "text/plain": [
       "2.455882352941177"
      ]
     },
     "execution_count": 170,
     "metadata": {},
     "output_type": "execute_result"
    }
   ],
   "source": [
    "df1[df1[df1.columns[0]]=='Machine Learning Engineer']['Rating'].mean()"
   ]
  },
  {
   "cell_type": "code",
   "execution_count": 172,
   "metadata": {},
   "outputs": [],
   "source": [
    "rr=[3.015,3.63,3.862,2.456]"
   ]
  },
  {
   "cell_type": "code",
   "execution_count": 171,
   "metadata": {
    "scrolled": true
   },
   "outputs": [
    {
     "data": {
      "text/plain": [
       "Data Scientist               546\n",
       "Data Analyst                 228\n",
       "Data Engineer                 77\n",
       "Machine Learning Engineer     34\n",
       "Name: Job.Title, dtype: int64"
      ]
     },
     "execution_count": 171,
     "metadata": {},
     "output_type": "execute_result"
    }
   ],
   "source": [
    "df1[df1.columns[0]].value_counts()"
   ]
  },
  {
   "cell_type": "code",
   "execution_count": 173,
   "metadata": {},
   "outputs": [],
   "source": [
    "cc=df1[df1.columns[0]].value_counts().index"
   ]
  },
  {
   "cell_type": "code",
   "execution_count": 174,
   "metadata": {},
   "outputs": [
    {
     "data": {
      "text/plain": [
       "Index(['Data Scientist', 'Data Analyst', 'Data Engineer',\n",
       "       'Machine Learning Engineer'],\n",
       "      dtype='object')"
      ]
     },
     "execution_count": 174,
     "metadata": {},
     "output_type": "execute_result"
    }
   ],
   "source": [
    "cc"
   ]
  },
  {
   "cell_type": "code",
   "execution_count": 80,
   "metadata": {},
   "outputs": [],
   "source": []
  },
  {
   "cell_type": "code",
   "execution_count": 138,
   "metadata": {
    "scrolled": true
   },
   "outputs": [
    {
     "data": {
      "text/plain": [
       "count               885\n",
       "unique               32\n",
       "top       not mentioned\n",
       "freq                143\n",
       "Name: Rating, dtype: object"
      ]
     },
     "execution_count": 138,
     "metadata": {},
     "output_type": "execute_result"
    }
   ],
   "source": [
    "df1['Rating'].describe()"
   ]
  },
  {
   "cell_type": "code",
   "execution_count": null,
   "metadata": {},
   "outputs": [],
   "source": []
  },
  {
   "cell_type": "code",
   "execution_count": null,
   "metadata": {},
   "outputs": [],
   "source": [
    "#Pie chart plots the distribution of rating for each job titles"
   ]
  },
  {
   "cell_type": "code",
   "execution_count": 176,
   "metadata": {
    "scrolled": true
   },
   "outputs": [
    {
     "data": {
      "image/png": "[encoded data removed]",
      "text/plain": [
       "<Figure size 432x288 with 1 Axes>"
      ]
     },
     "metadata": {},
     "output_type": "display_data"
    }
   ],
   "source": [
    "plt.pie(x=rr,labels=cc,autopct='%.2f%%')#'%.2f'\n",
    "plt.show()"
   ]
  },
  {
   "cell_type": "code",
   "execution_count": null,
   "metadata": {},
   "outputs": [],
   "source": [
    "Inference:\n",
    "Data Engineer Job  have vacancies are present in high Rating companies."
   ]
  },
  {
   "cell_type": "code",
   "execution_count": 214,
   "metadata": {
    "scrolled": false
   },
   "outputs": [],
   "source": [
    "# df_num.head(3)\n",
    "#There are no -1 values in any of the columns in the df.\n",
    "#no -1 values in numerical and cate gorical df.\n",
    "# df.loc[df[df.columns[8]]=='-1']['Job.Title'].value_counts()\n",
    "#Where type of ownership is -1 the job titles are displayed.\n",
    "#There are 69 Data Scientist job vacancies  where type of ownership is -1.\n",
    "#So,replace the -1 values in TO ownership column with 'NOt Known'.\n",
    "# df.Industry.value_counts().head(8)\n",
    "# df.shape\n",
    "#103 job titles are there in IT services industry\n",
    "#249 job titles are there in -1 type of industry\n",
    "#I cannot replace 249 job titles in -1 type of industry with IT services\n",
    "#it is logically wrong.with a particuly type only.\n",
    "#set -1 with Not Known,not registered.\n",
    "#these 249 job titles ka industry type is not known.\n",
    "#company itself isnot known then how will i now the industry type?\n",
    "# df_num=df.select_dtypes(include=['int64','float64'])\n",
    "# df_num\n",
    "#rating of company\n",
    "#loc and headquarters of the company\n",
    "#size of the company\n",
    "#year in which the company was founded\n",
    "#revenue and competitors of the company\n",
    "#Python to SAS are features which have categories in it.yes means 1 and no means 0.so these 6 columns are\n",
    "#categorical columns with dtype object.\n",
    "# def unique():\n",
    "#     for i in df.columns:\n",
    "#         print(df[i].unique())\n",
    "# unique()\n",
    "#competitors,founded,job description columns have many unique values.\n",
    "# df['Job.Title'].unique()\n",
    "#df.Rating\n",
    "#df['Company.Name'].unique()\n",
    "# df.groupby(by=['Company.Name'])['Rating'].mean().sort_values(ascending=False).head(5)\n",
    "# df_num=df.select_dtypes(include=['int64','float64'])\n",
    "#df1.Rating\n",
    "#df_cat=df.select_dtypes(include=['object'])\n",
    "# df_cat.head()\n",
    "# for i in df_num:\n",
    "#print(df_num[i].value_counts())\n",
    "# df_cat\n",
    "#number of categories in job title colum are 4.\n",
    "##number of categories in Job.Description column are many.\n",
    "#The paragraphs length is high.\n",
    "#number of categories in Company.Name column are around 10.\n",
    "#number of categories in location column is around 30.\n",
    "#number of categories in Headquarters column is around 30.\n",
    "#Size\n",
    "##number of categories in Size column is around 5.\n",
    "# for i in df_cat:\n",
    "#     print(df_cat[i].value_counts())\n",
    "# for i in df.columns:\n",
    "#     print(df[i].value_counts())"
   ]
  },
  {
   "cell_type": "markdown",
   "metadata": {
    "id": "qLbOczFZq14Y"
   },
   "source": [
    "Machstatz is highly rated company."
   ]
  },
  {
   "cell_type": "code",
   "execution_count": 177,
   "metadata": {
    "id": "yVOA_trHq14Y",
    "outputId": "612ec1c3-8327-49b3-ac67-9c6bf743f28b",
    "scrolled": false
   },
   "outputs": [],
   "source": [
    "# df.Size.value_counts()"
   ]
  },
  {
   "cell_type": "markdown",
   "metadata": {
    "id": "ZOouNrZhq14Z"
   },
   "source": [
    "count of each and every value in Size column\n",
    "number of times 1 to 50 empp value occuring in Size column is 226\n",
    "many companies hire employee btw 1 to 50 only.\n",
    "There are very few companies hiring in bulk.\n",
    "226 companies hire few companies(less than 50)\n",
    "168 companies hire more employees(more than 10000)\n",
    "nice inference.Contrasting extreme inference.\n"
   ]
  },
  {
   "cell_type": "code",
   "execution_count": 178,
   "metadata": {
    "id": "uWtTDWIhq14Z",
    "outputId": "1077a4e7-f269-4d77-e711-b0631952c18d",
    "scrolled": false
   },
   "outputs": [
    {
     "data": {
      "text/plain": [
       "Company.Name                    Size                   \n",
       "ZoomRx                          51 to 200 employees        22\n",
       "Quantzig                        not mentioned              12\n",
       "EY                              10000+ employees           12\n",
       "Amazon                          10000+ employees           12\n",
       "String Bio                      1 to 50 employees          12\n",
       "Walmart                         1001 to 5000 employees     12\n",
       "Citi                            10000+ employees           12\n",
       "Sanofi                          10000+ employees           12\n",
       "LogisticsNow                    1 to 50 employees          11\n",
       "Magna Infotech (India)          5001 to 10000 employees    11\n",
       "Crescendo Global Services       1 to 50 employees          11\n",
       "Approgence                      1 to 50 employees          11\n",
       "WDB Inida Private Limited       not mentioned              11\n",
       "Matelabs Innovations Pvt. Ltd.  not mentioned              11\n",
       "Live Connections                201 to 500 employees       11\n",
       "The Edge Asia                   1 to 50 employees          11\n",
       "Pype                            1 to 50 employees          11\n",
       "Copiousminds                    not mentioned              11\n",
       "Happy Marketer                  1 to 50 employees          11\n",
       "Kwalee                          1 to 50 employees          11\n",
       "Name: Size, dtype: int64"
      ]
     },
     "execution_count": 178,
     "metadata": {},
     "output_type": "execute_result"
    }
   ],
   "source": [
    "df1.groupby(by=['Company.Name'])['Size'].value_counts().sort_values(ascending=False).head(20)\n",
    "#Bi=pd.DataFrame((bind))\n",
    "#bind.loc[bind.Size=='51 to 200 employees']\n",
    "#df2=pd.DataFrame()\n",
    "#df2['company']=list(Bi.index)#multi(2 indexes are there..)"
   ]
  },
  {
   "cell_type": "code",
   "execution_count": null,
   "metadata": {},
   "outputs": [],
   "source": []
  },
  {
   "cell_type": "code",
   "execution_count": null,
   "metadata": {
    "id": "MH7iFUc1q14a"
   },
   "outputs": [],
   "source": [
    "Sanofi,Amazon,EY,Citi are the companies which have  a huge size of 10000+ employees."
   ]
  },
  {
   "cell_type": "code",
   "execution_count": 179,
   "metadata": {
    "id": "DB1Z6sIVq14a",
    "outputId": "d89eeb4c-044e-4a56-a2c4-23f5376682ac",
    "scrolled": false
   },
   "outputs": [
    {
     "data": {
      "text/plain": [
       "Company.Name                              Job.Title                \n",
       "String Bio                                Data Scientist               12\n",
       "Citi                                      Data Analyst                 12\n",
       "Sanofi                                    Data Scientist               12\n",
       "Matelabs Innovations Pvt. Ltd.            Machine Learning Engineer    12\n",
       "Quantzig                                  Data Scientist               12\n",
       "Institutional Shareholder Services, Inc.  Data Analyst                 11\n",
       "Name: Job.Title, dtype: int64"
      ]
     },
     "execution_count": 179,
     "metadata": {},
     "output_type": "execute_result"
    }
   ],
   "source": [
    "ind=df1.groupby(by=['Company.Name'])['Job.Title'].value_counts().sort_values(ascending=False).head(6)\n",
    "ind"
   ]
  },
  {
   "cell_type": "code",
   "execution_count": null,
   "metadata": {},
   "outputs": [],
   "source": [
    "#Bi variate analysis"
   ]
  },
  {
   "cell_type": "code",
   "execution_count": 180,
   "metadata": {
    "id": "3FBFYs4zq14b",
    "outputId": "cfc660e6-9141-4b5a-8b25-e4303a7ae04b",
    "scrolled": true
   },
   "outputs": [
    {
     "data": {
      "text/plain": [
       "<AxesSubplot:xlabel='Company.Name,Job.Title'>"
      ]
     },
     "execution_count": 180,
     "metadata": {},
     "output_type": "execute_result"
    },
    {
     "data": {
      "image/png": "[encoded data removed]",
      "text/plain": [
       "<Figure size 576x576 with 1 Axes>"
      ]
     },
     "metadata": {
      "needs_background": "light"
     },
     "output_type": "display_data"
    }
   ],
   "source": [
    "ind.plot(kind='bar',figsize=(8,8))\n"
   ]
  },
  {
   "cell_type": "code",
   "execution_count": null,
   "metadata": {
    "id": "gmfYnyhsZ8GR"
   },
   "outputs": [],
   "source": []
  },
  {
   "cell_type": "markdown",
   "metadata": {
    "id": "pGpTOHTMq14b"
   },
   "source": [
    "Number of data scientist job vacancies in Sanofi is 12\n",
    "Number of Data Analyst job vacancies in citi is 12."
   ]
  },
  {
   "cell_type": "code",
   "execution_count": null,
   "metadata": {
    "id": "WI3-rgZfq14b"
   },
   "outputs": [],
   "source": [
    "#each and every company has say 4 job titles like d analyst,ml engineer,d scientist...\n",
    "#some companies might have only data scientist roles say 4\n",
    "#some company named abc may have  1 d.a,2 ml engineer etc\n",
    "#Industry,sector,revenue vs location\n",
    "#job title too"
   ]
  },
  {
   "cell_type": "code",
   "execution_count": 112,
   "metadata": {
    "id": "CsAa6p-Bq14c",
    "outputId": "f7d4c959-5b24-4218-b32d-414a44a1c415",
    "scrolled": true
   },
   "outputs": [
    {
     "data": {
      "text/plain": [
       "Index(['Job.Title', 'Job.Description', 'Rating', 'Company.Name', 'Location',\n",
       "       'Headquarters', 'Size', 'Founded', 'Type.of.ownership', 'Industry',\n",
       "       'Sector', 'Revenue', 'Competitors', 'Python', 'R Prog', 'Excel',\n",
       "       'Hadoop', 'SQL', 'SAS'],\n",
       "      dtype='object')"
      ]
     },
     "execution_count": 112,
     "metadata": {},
     "output_type": "execute_result"
    }
   ],
   "source": [
    "df.columns"
   ]
  },
  {
   "cell_type": "code",
   "execution_count": null,
   "metadata": {
    "id": "r5wdPqtuq14c"
   },
   "outputs": [],
   "source": [
    "#replacing -1 (a value in Industry column)with IT Services as it is 2 nd most frequent value\n",
    "#-1 was the most frequent value but it has no meaning.SO We did above step for our convenience.\n",
    "#what does -1 industry mean??"
   ]
  },
  {
   "cell_type": "code",
   "execution_count": 34,
   "metadata": {},
   "outputs": [
    {
     "data": {
      "text/plain": [
       "not mentioned    249\n",
       "IT Services      103\n",
       "Name: Industry, dtype: int64"
      ]
     },
     "execution_count": 34,
     "metadata": {},
     "output_type": "execute_result"
    }
   ],
   "source": [
    "df1.Industry.value_counts().head(2)"
   ]
  },
  {
   "cell_type": "code",
   "execution_count": 181,
   "metadata": {
    "id": "H7sY24v3q14c",
    "scrolled": true
   },
   "outputs": [],
   "source": [
    "# df['Industry']=df['Industry'].str.replace('-1',\"IT Services\")"
   ]
  },
  {
   "cell_type": "code",
   "execution_count": 188,
   "metadata": {
    "id": "6vW1yla9q14d",
    "outputId": "45f303c9-0b82-470a-912b-941a626f6928",
    "scrolled": true
   },
   "outputs": [
    {
     "data": {
      "text/plain": [
       "0    IT Services\n",
       "dtype: object"
      ]
     },
     "execution_count": 188,
     "metadata": {},
     "output_type": "execute_result"
    }
   ],
   "source": [
    "df.Industry.mode()"
   ]
  },
  {
   "cell_type": "code",
   "execution_count": 194,
   "metadata": {
    "id": "O1lkA7eYq14d",
    "outputId": "7eef7015-c048-4921-a2d9-45a77bd5d18d",
    "scrolled": false
   },
   "outputs": [
    {
     "data": {
      "text/plain": [
       "IT Services               352\n",
       "Staffing & Outsourcing     65\n",
       "Name: Industry, dtype: int64"
      ]
     },
     "execution_count": 194,
     "metadata": {},
     "output_type": "execute_result"
    }
   ],
   "source": [
    "df.Industry.value_counts().head(2)"
   ]
  },
  {
   "cell_type": "code",
   "execution_count": null,
   "metadata": {},
   "outputs": [],
   "source": []
  },
  {
   "cell_type": "markdown",
   "metadata": {
    "id": "uiFUba1lq14d"
   },
   "source": [
    "Both Industry and Location columns have -1 value which has been replaced by mode value\n",
    "in respective columns using str.replace()."
   ]
  },
  {
   "cell_type": "code",
   "execution_count": null,
   "metadata": {
    "id": "8IArBtUwq14d"
   },
   "outputs": [],
   "source": [
    "#df.fillna(df.Industry) not possible as -1 is not a null value.fillna@null values\n",
    "#only"
   ]
  },
  {
   "cell_type": "code",
   "execution_count": 195,
   "metadata": {
    "id": "1gfX7Rnfq14e",
    "outputId": "9a344830-e18d-49d8-f718-ea3e0741d774",
    "scrolled": false
   },
   "outputs": [
    {
     "data": {
      "text/plain": [
       "12"
      ]
     },
     "execution_count": 195,
     "metadata": {},
     "output_type": "execute_result"
    }
   ],
   "source": [
    "len(df.loc[df.Location=='-1'])"
   ]
  },
  {
   "cell_type": "code",
   "execution_count": 196,
   "metadata": {
    "id": "tqIMLjNLq14e",
    "outputId": "08ced24d-5b69-49d6-a96e-3c3a4de7d348"
   },
   "outputs": [
    {
     "data": {
      "text/plain": [
       "885"
      ]
     },
     "execution_count": 196,
     "metadata": {},
     "output_type": "execute_result"
    }
   ],
   "source": [
    "len(df.Location)"
   ]
  },
  {
   "cell_type": "markdown",
   "metadata": {
    "id": "NqfjxEdwq14e"
   },
   "source": [
    "There are 12 locations with unidentified -1 value out of 885 values in location column\n",
    "Let us replace -1 with most frequent value in location column that is bengaluru."
   ]
  },
  {
   "cell_type": "code",
   "execution_count": 182,
   "metadata": {
    "id": "m5W8y2ODq14e",
    "outputId": "5d86ae19-99a9-41d9-abb7-f97c9ebfb127",
    "scrolled": true
   },
   "outputs": [],
   "source": [
    "# df.Location.value_counts().head(3)"
   ]
  },
  {
   "cell_type": "code",
   "execution_count": 183,
   "metadata": {
    "id": "jLHJhJOVq14p"
   },
   "outputs": [],
   "source": [
    "# df['Location']=df['Location'].str.replace('-1','Bengaluru')"
   ]
  },
  {
   "cell_type": "code",
   "execution_count": 199,
   "metadata": {
    "id": "iDspPp0Tq14p",
    "outputId": "2639d091-384d-4568-c87e-30f2534a81be"
   },
   "outputs": [
    {
     "data": {
      "text/plain": [
       "Bengaluru    405\n",
       "Mumbai       134\n",
       "Name: Location, dtype: int64"
      ]
     },
     "execution_count": 199,
     "metadata": {},
     "output_type": "execute_result"
    }
   ],
   "source": [
    "df.Location.value_counts().head(2)"
   ]
  },
  {
   "cell_type": "code",
   "execution_count": 185,
   "metadata": {
    "id": "ARXixGfoq14q",
    "outputId": "ab609958-722d-4f62-9457-56f3207064ea",
    "scrolled": true
   },
   "outputs": [
    {
     "data": {
      "text/plain": [
       "Location   Industry                               \n",
       "Bengaluru  not mentioned                              94\n",
       "           IT Services                                52\n",
       "           Computer Hardware & Software               45\n",
       "           Enterprise Software & Network Solutions    41\n",
       "Mumbai     not mentioned                              40\n",
       "Hyderabad  not mentioned                              24\n",
       "Bengaluru  Internet                                   24\n",
       "           Staffing & Outsourcing                     23\n",
       "Chennai    Biotech & Pharmaceuticals                  23\n",
       "Bengaluru  Consulting                                 22\n",
       "Name: Industry, dtype: int64"
      ]
     },
     "execution_count": 185,
     "metadata": {},
     "output_type": "execute_result"
    }
   ],
   "source": [
    "df1.groupby(by=['Location'])['Industry'].value_counts().sort_values(ascending=False).head(10)\n",
    "#we can type another code\n",
    "#df.locdf.loc==bangalore[industry].value_counts()\n",
    "#there are 156 companies in bengaluru based on IT Services industry...\n",
    "#Count of IT services value in industry column in Bengaluru is 156."
   ]
  },
  {
   "cell_type": "code",
   "execution_count": 186,
   "metadata": {
    "id": "Cn7rQ7Ljq14q",
    "outputId": "57612dcc-24bb-4a07-fbb1-dd250719458c",
    "scrolled": true
   },
   "outputs": [
    {
     "data": {
      "text/plain": [
       "Walmart                           12\n",
       "String Bio                        12\n",
       "Quantzig                          12\n",
       "Matelabs Innovations Pvt. Ltd.    12\n",
       "Kwalee                            11\n",
       "Name: Company.Name, dtype: int64"
      ]
     },
     "execution_count": 186,
     "metadata": {},
     "output_type": "execute_result"
    }
   ],
   "source": [
    "df1.loc[df1.Location=='Bengaluru']['Company.Name'].value_counts().head()\n"
   ]
  },
  {
   "cell_type": "markdown",
   "metadata": {
    "id": "YQAH44J2q14q"
   },
   "source": [
    "Quantzig,Walmart,String BIo re some companies which have many job vacancies in Bengaluru.\n"
   ]
  },
  {
   "cell_type": "code",
   "execution_count": 187,
   "metadata": {
    "id": "AHs_BVatq14q",
    "outputId": "54903444-a3bf-45dc-ca8e-99b4d868cfd8",
    "scrolled": false
   },
   "outputs": [
    {
     "data": {
      "text/plain": [
       "not mentioned                              94\n",
       "IT Services                                52\n",
       "Computer Hardware & Software               45\n",
       "Enterprise Software & Network Solutions    41\n",
       "Internet                                   24\n",
       "Name: Industry, dtype: int64"
      ]
     },
     "execution_count": 187,
     "metadata": {},
     "output_type": "execute_result"
    }
   ],
   "source": [
    "df1.loc[df1.Location=='Bengaluru']['Industry'].value_counts().head()\n"
   ]
  },
  {
   "cell_type": "markdown",
   "metadata": {
    "id": "AQsPxYvjq14r"
   },
   "source": [
    "Many companies in Bengaluru belong to IT Services industry."
   ]
  },
  {
   "cell_type": "code",
   "execution_count": null,
   "metadata": {
    "id": "TcrLc6-Rq14r"
   },
   "outputs": [],
   "source": [
    "#Industry,sector,revenue vs location\n",
    "#job title too"
   ]
  },
  {
   "cell_type": "code",
   "execution_count": null,
   "metadata": {
    "id": "RAC3mT7rq14r",
    "outputId": "0690f9b6-9ddb-49f4-adce-68f2daaf9147",
    "scrolled": true
   },
   "outputs": [
    {
     "data": {
      "text/html": [
       "<div>\n",
       "<style scoped>\n",
       "    .dataframe tbody tr th:only-of-type {\n",
       "        vertical-align: middle;\n",
       "    }\n",
       "\n",
       "    .dataframe tbody tr th {\n",
       "        vertical-align: top;\n",
       "    }\n",
       "\n",
       "    .dataframe thead th {\n",
       "        text-align: right;\n",
       "    }\n",
       "</style>\n",
       "<table border=\"1\" class=\"dataframe\">\n",
       "  <thead>\n",
       "    <tr style=\"text-align: right;\">\n",
       "      <th></th>\n",
       "      <th>Job.Title</th>\n",
       "      <th>Job.Description</th>\n",
       "      <th>Rating</th>\n",
       "      <th>Company.Name</th>\n",
       "      <th>Location</th>\n",
       "      <th>Headquarters</th>\n",
       "      <th>Size</th>\n",
       "      <th>Founded</th>\n",
       "      <th>Type.of.ownership</th>\n",
       "      <th>Industry</th>\n",
       "      <th>Sector</th>\n",
       "      <th>Revenue</th>\n",
       "      <th>Competitors</th>\n",
       "      <th>Python</th>\n",
       "      <th>R Prog</th>\n",
       "      <th>Excel</th>\n",
       "      <th>Hadoop</th>\n",
       "      <th>SQL</th>\n",
       "      <th>SAS</th>\n",
       "    </tr>\n",
       "  </thead>\n",
       "  <tbody>\n",
       "    <tr>\n",
       "      <th>0</th>\n",
       "      <td>Data Scientist</td>\n",
       "      <td>Site Name: India - Karnataka - Bangalore\\r\\nPo...</td>\n",
       "      <td>3.9</td>\n",
       "      <td>GSK</td>\n",
       "      <td>Bengaluru</td>\n",
       "      <td>Brentford, United Kingdom</td>\n",
       "      <td>10000+ employees</td>\n",
       "      <td>1830</td>\n",
       "      <td>Company - Public</td>\n",
       "      <td>Biotech &amp; Pharmaceuticals</td>\n",
       "      <td>Biotech &amp; Pharmaceuticals</td>\n",
       "      <td>500+ billion (INR)</td>\n",
       "      <td>Pfizer, AstraZeneca, Merck</td>\n",
       "      <td>1</td>\n",
       "      <td>0</td>\n",
       "      <td>0</td>\n",
       "      <td>1</td>\n",
       "      <td>0</td>\n",
       "      <td>0</td>\n",
       "    </tr>\n",
       "    <tr>\n",
       "      <th>1</th>\n",
       "      <td>Data Scientist</td>\n",
       "      <td>Overview\\r\\n\\r\\n\\r\\nWe have an exciting opport...</td>\n",
       "      <td>4.0</td>\n",
       "      <td>Quanticate</td>\n",
       "      <td>Bengaluru</td>\n",
       "      <td>Hitchin, United Kingdom</td>\n",
       "      <td>201 to 500 employees</td>\n",
       "      <td>1995</td>\n",
       "      <td>Company - Private</td>\n",
       "      <td>Biotech &amp; Pharmaceuticals</td>\n",
       "      <td>Biotech &amp; Pharmaceuticals</td>\n",
       "      <td>1 to 5 billion (INR)</td>\n",
       "      <td>GCE Solutions, Parexel, IQVIA</td>\n",
       "      <td>1</td>\n",
       "      <td>0</td>\n",
       "      <td>0</td>\n",
       "      <td>0</td>\n",
       "      <td>0</td>\n",
       "      <td>1</td>\n",
       "    </tr>\n",
       "    <tr>\n",
       "      <th>2</th>\n",
       "      <td>Data Scientist</td>\n",
       "      <td>Provide analytical insights into emerging prob...</td>\n",
       "      <td>3.5</td>\n",
       "      <td>PayPal</td>\n",
       "      <td>Bengaluru</td>\n",
       "      <td>San Jose, CA</td>\n",
       "      <td>10000+ employees</td>\n",
       "      <td>1998</td>\n",
       "      <td>Company - Public</td>\n",
       "      <td>Internet</td>\n",
       "      <td>Information Technology</td>\n",
       "      <td>500+ billion (INR)</td>\n",
       "      <td>Square, Amazon, Apple</td>\n",
       "      <td>1</td>\n",
       "      <td>0</td>\n",
       "      <td>0</td>\n",
       "      <td>0</td>\n",
       "      <td>1</td>\n",
       "      <td>1</td>\n",
       "    </tr>\n",
       "    <tr>\n",
       "      <th>3</th>\n",
       "      <td>Data Scientist</td>\n",
       "      <td>At Amazon, we strive to be most customer-centr...</td>\n",
       "      <td>4.2</td>\n",
       "      <td>Amazon</td>\n",
       "      <td>Hyderabad</td>\n",
       "      <td>Seattle, WA</td>\n",
       "      <td>10000+ employees</td>\n",
       "      <td>1994</td>\n",
       "      <td>Company - Public</td>\n",
       "      <td>Internet</td>\n",
       "      <td>Information Technology</td>\n",
       "      <td>500+ billion (INR)</td>\n",
       "      <td>Google, Microsoft, Walmart</td>\n",
       "      <td>1</td>\n",
       "      <td>0</td>\n",
       "      <td>1</td>\n",
       "      <td>0</td>\n",
       "      <td>1</td>\n",
       "      <td>0</td>\n",
       "    </tr>\n",
       "    <tr>\n",
       "      <th>4</th>\n",
       "      <td>Data Scientist</td>\n",
       "      <td>When everything's connected, how we connect is...</td>\n",
       "      <td>3.3</td>\n",
       "      <td>TTEC</td>\n",
       "      <td>Hyderabad</td>\n",
       "      <td>Englewood, CO</td>\n",
       "      <td>10000+ employees</td>\n",
       "      <td>1982</td>\n",
       "      <td>Company - Public</td>\n",
       "      <td>Staffing &amp; Outsourcing</td>\n",
       "      <td>Business Services</td>\n",
       "      <td>100 to 500 billion (INR)</td>\n",
       "      <td>Teleperformance, TaskUs, Convergys</td>\n",
       "      <td>1</td>\n",
       "      <td>0</td>\n",
       "      <td>1</td>\n",
       "      <td>0</td>\n",
       "      <td>0</td>\n",
       "      <td>1</td>\n",
       "    </tr>\n",
       "  </tbody>\n",
       "</table>\n",
       "</div>"
      ],
      "text/plain": [
       "        Job.Title                                    Job.Description  Rating  \\\n",
       "0  Data Scientist  Site Name: India - Karnataka - Bangalore\\r\\nPo...     3.9   \n",
       "1  Data Scientist  Overview\\r\\n\\r\\n\\r\\nWe have an exciting opport...     4.0   \n",
       "2  Data Scientist  Provide analytical insights into emerging prob...     3.5   \n",
       "3  Data Scientist  At Amazon, we strive to be most customer-centr...     4.2   \n",
       "4  Data Scientist  When everything's connected, how we connect is...     3.3   \n",
       "\n",
       "  Company.Name   Location               Headquarters                  Size  \\\n",
       "0          GSK  Bengaluru  Brentford, United Kingdom      10000+ employees   \n",
       "1   Quanticate  Bengaluru    Hitchin, United Kingdom  201 to 500 employees   \n",
       "2       PayPal  Bengaluru               San Jose, CA      10000+ employees   \n",
       "3       Amazon  Hyderabad                Seattle, WA      10000+ employees   \n",
       "4         TTEC  Hyderabad              Englewood, CO      10000+ employees   \n",
       "\n",
       "   Founded  Type.of.ownership                   Industry  \\\n",
       "0     1830   Company - Public  Biotech & Pharmaceuticals   \n",
       "1     1995  Company - Private  Biotech & Pharmaceuticals   \n",
       "2     1998   Company - Public                   Internet   \n",
       "3     1994   Company - Public                   Internet   \n",
       "4     1982   Company - Public     Staffing & Outsourcing   \n",
       "\n",
       "                      Sector                   Revenue  \\\n",
       "0  Biotech & Pharmaceuticals        500+ billion (INR)   \n",
       "1  Biotech & Pharmaceuticals      1 to 5 billion (INR)   \n",
       "2     Information Technology        500+ billion (INR)   \n",
       "3     Information Technology        500+ billion (INR)   \n",
       "4          Business Services  100 to 500 billion (INR)   \n",
       "\n",
       "                          Competitors  Python  R Prog  Excel  Hadoop  SQL  SAS  \n",
       "0          Pfizer, AstraZeneca, Merck       1       0      0       1    0    0  \n",
       "1       GCE Solutions, Parexel, IQVIA       1       0      0       0    0    1  \n",
       "2               Square, Amazon, Apple       1       0      0       0    1    1  \n",
       "3          Google, Microsoft, Walmart       1       0      1       0    1    0  \n",
       "4  Teleperformance, TaskUs, Convergys       1       0      1       0    0    1  "
      ]
     },
     "execution_count": 9,
     "metadata": {},
     "output_type": "execute_result"
    }
   ],
   "source": [
    "df.head(5)"
   ]
  },
  {
   "cell_type": "code",
   "execution_count": 203,
   "metadata": {
    "id": "5sHm5uMTq14s",
    "outputId": "d8e5eaa0-ddb2-4f04-e7c3-9c1443e47de9",
    "scrolled": true
   },
   "outputs": [
    {
     "data": {
      "text/plain": [
       "Information Technology    258\n",
       "-1                        248\n",
       "Name: Sector, dtype: int64"
      ]
     },
     "execution_count": 203,
     "metadata": {},
     "output_type": "execute_result"
    }
   ],
   "source": [
    "df.Sector.value_counts().head(2)"
   ]
  },
  {
   "cell_type": "code",
   "execution_count": null,
   "metadata": {
    "id": "3zOn_lJ0q14s"
   },
   "outputs": [],
   "source": [
    "#note to put '-1' not -1 as the value to be replaced in replace() because\n",
    "#-1 is a category/class in Sector column.category/class means object or string\n",
    "#only.string must be represented in ''."
   ]
  },
  {
   "cell_type": "code",
   "execution_count": 188,
   "metadata": {
    "id": "dI8ek-jRq14s"
   },
   "outputs": [],
   "source": [
    "# df['Sector']=df['Sector'].str.replace('-1','Information Technology')"
   ]
  },
  {
   "cell_type": "code",
   "execution_count": 205,
   "metadata": {
    "id": "E7dDfCOrq14s",
    "outputId": "7d9adec1-0550-4f90-8004-9f8101e633cb"
   },
   "outputs": [
    {
     "data": {
      "text/plain": [
       "Information Technology    506\n",
       "Business Services         149\n",
       "Name: Sector, dtype: int64"
      ]
     },
     "execution_count": 205,
     "metadata": {},
     "output_type": "execute_result"
    }
   ],
   "source": [
    "df.Sector.value_counts().head(2)"
   ]
  },
  {
   "cell_type": "code",
   "execution_count": 189,
   "metadata": {
    "id": "tRfQUK6jq14t",
    "outputId": "ea1b7cbd-e040-4c08-993d-2571af5e0de6",
    "scrolled": false
   },
   "outputs": [
    {
     "data": {
      "text/plain": [
       "Job.Title       Sector                \n",
       "Data Scientist  not mentioned             186\n",
       "                Information Technology    175\n",
       "Name: Sector, dtype: int64"
      ]
     },
     "execution_count": 189,
     "metadata": {},
     "output_type": "execute_result"
    }
   ],
   "source": [
    "df1.groupby(by=['Job.Title'])['Sector'].value_counts().sort_values(ascending=False).head(2)\n"
   ]
  },
  {
   "cell_type": "code",
   "execution_count": null,
   "metadata": {
    "id": "fXDYaP9rq14t"
   },
   "outputs": [],
   "source": [
    "Many Data Scientist jobs are in IT and Business Services sectors."
   ]
  },
  {
   "cell_type": "code",
   "execution_count": null,
   "metadata": {
    "id": "93IbmjKLq14t"
   },
   "outputs": [],
   "source": [
    "#revenue vs industry,company..."
   ]
  },
  {
   "cell_type": "code",
   "execution_count": 190,
   "metadata": {
    "id": "zdTNlnV9q14u",
    "outputId": "a056e400-aa14-499b-d2ce-acc27ebb8ced"
   },
   "outputs": [
    {
     "data": {
      "text/plain": [
       "Index(['Job.Title', 'Job.Description', 'Rating', 'Company.Name', 'Location',\n",
       "       'Headquarters', 'Size', 'Founded', 'Type.of.ownership', 'Industry',\n",
       "       'Sector', 'Revenue', 'Competitors', 'Python', 'R Prog', 'Excel',\n",
       "       'Hadoop', 'SQL', 'SAS'],\n",
       "      dtype='object')"
      ]
     },
     "execution_count": 190,
     "metadata": {},
     "output_type": "execute_result"
    }
   ],
   "source": [
    "df1.columns"
   ]
  },
  {
   "cell_type": "code",
   "execution_count": null,
   "metadata": {
    "id": "CnGkqjTUq14u",
    "scrolled": true
   },
   "outputs": [],
   "source": [
    "#plt.figure(figsize=(25,25))\n",
    "#plt.bar(x=df.Revenue,height=df.Industry,width=0.9)\n",
    "#width ranges from 0 to 1.0.9 means the bars are fatter.0.5 means bars are thinner.\n",
    "#the xlabels and y labels become smaller in size as figsize changes from 10,10 to 25,25.\n",
    "#bar plot plotted btw freq/count/num var and cate var not btw two cate var.\n"
   ]
  },
  {
   "cell_type": "code",
   "execution_count": 191,
   "metadata": {
    "colab": {
     "base_uri": "https://localhost:8080/"
    },
    "id": "ucbchUlbq14u",
    "outputId": "e7d665d2-3c8b-49ea-f5f7-5ba3f746854c",
    "scrolled": true
   },
   "outputs": [
    {
     "data": {
      "text/plain": [
       "not mentioned                     498\n",
       "500+ billion (INR)                168\n",
       "1 to 5 billion (INR)               52\n",
       "100 to 500 billion (INR)           41\n",
       "10 to 50 billion (INR)             32\n",
       "500 million to 1 billion (INR)     31\n",
       "50 to 100 billion (INR)            23\n",
       "100 to 500 million (INR)           22\n",
       "10 to 50 million (INR)             13\n",
       "5 to 10 billion (INR)               3\n",
       "50 to 100 million (INR)             2\n",
       "Name: Revenue, dtype: int64"
      ]
     },
     "execution_count": 191,
     "metadata": {},
     "output_type": "execute_result"
    }
   ],
   "source": [
    "#pd.pivot_table(df,columns='Revenue',index='Industry',aggfunc='count')\n",
    "df1[\"Revenue\"].value_counts()"
   ]
  },
  {
   "cell_type": "code",
   "execution_count": null,
   "metadata": {},
   "outputs": [],
   "source": []
  },
  {
   "cell_type": "code",
   "execution_count": 214,
   "metadata": {
    "id": "-xPhCfXR0wDX"
   },
   "outputs": [],
   "source": [
    "df[\"Revenue\"]=df[\"Revenue\"].str.replace('-1','No Revenue')\n",
    "# -1 in revenue means the data is error or null values or company revenue should be zero \n",
    "#so we consider here it has NO revenue company"
   ]
  },
  {
   "cell_type": "code",
   "execution_count": null,
   "metadata": {},
   "outputs": [],
   "source": [
    "#I must not replace -1 in Revenue column with 2 nd most frequesntly occuring value using mode function.\n",
    "#500+ billion (INR)  means that company's turnover is 5000 crore rs plus.\n",
    "#Logically,I have to replace -1 with No revenue.I cannot replace -1 with 5000 crores."
   ]
  },
  {
   "cell_type": "code",
   "execution_count": 192,
   "metadata": {
    "colab": {
     "base_uri": "https://localhost:8080/",
     "height": 978
    },
    "id": "YjztDHURq14u",
    "outputId": "b7ba46da-630e-41e0-9770-c5d904b26d6f",
    "scrolled": false
   },
   "outputs": [
    {
     "data": {
      "text/html": [
       "<div>\n",
       "<style scoped>\n",
       "    .dataframe tbody tr th:only-of-type {\n",
       "        vertical-align: middle;\n",
       "    }\n",
       "\n",
       "    .dataframe tbody tr th {\n",
       "        vertical-align: top;\n",
       "    }\n",
       "\n",
       "    .dataframe thead th {\n",
       "        text-align: right;\n",
       "    }\n",
       "</style>\n",
       "<table border=\"1\" class=\"dataframe\">\n",
       "  <thead>\n",
       "    <tr style=\"text-align: right;\">\n",
       "      <th>Industry</th>\n",
       "      <th>Accounting</th>\n",
       "      <th>Advertising &amp; Marketing</th>\n",
       "      <th>Aerospace &amp; Defence</th>\n",
       "      <th>Architectural &amp; Engineering Services</th>\n",
       "      <th>Asphalt Product Manufacturing</th>\n",
       "      <th>Banks &amp; Building Societies</th>\n",
       "      <th>Biotech &amp; Pharmaceuticals</th>\n",
       "      <th>Brokerage Services</th>\n",
       "      <th>Cable, Internet &amp; Telephone Providers</th>\n",
       "      <th>Chemical Manufacturing</th>\n",
       "      <th>...</th>\n",
       "      <th>Sporting Goods Shops</th>\n",
       "      <th>Staffing &amp; Outsourcing</th>\n",
       "      <th>TV Broadcasting &amp; Cable Networks</th>\n",
       "      <th>Telecommunications Services</th>\n",
       "      <th>Ticket Sales</th>\n",
       "      <th>Transportation Equipment Manufacturing</th>\n",
       "      <th>Transportation Management</th>\n",
       "      <th>Travel Agencies</th>\n",
       "      <th>Video Games</th>\n",
       "      <th>not mentioned</th>\n",
       "    </tr>\n",
       "    <tr>\n",
       "      <th>Revenue</th>\n",
       "      <th></th>\n",
       "      <th></th>\n",
       "      <th></th>\n",
       "      <th></th>\n",
       "      <th></th>\n",
       "      <th></th>\n",
       "      <th></th>\n",
       "      <th></th>\n",
       "      <th></th>\n",
       "      <th></th>\n",
       "      <th></th>\n",
       "      <th></th>\n",
       "      <th></th>\n",
       "      <th></th>\n",
       "      <th></th>\n",
       "      <th></th>\n",
       "      <th></th>\n",
       "      <th></th>\n",
       "      <th></th>\n",
       "      <th></th>\n",
       "      <th></th>\n",
       "    </tr>\n",
       "  </thead>\n",
       "  <tbody>\n",
       "    <tr>\n",
       "      <th>1 to 5 billion (INR)</th>\n",
       "      <td>0</td>\n",
       "      <td>0</td>\n",
       "      <td>0</td>\n",
       "      <td>0</td>\n",
       "      <td>0</td>\n",
       "      <td>0</td>\n",
       "      <td>1</td>\n",
       "      <td>0</td>\n",
       "      <td>0</td>\n",
       "      <td>0</td>\n",
       "      <td>...</td>\n",
       "      <td>0</td>\n",
       "      <td>18</td>\n",
       "      <td>0</td>\n",
       "      <td>0</td>\n",
       "      <td>0</td>\n",
       "      <td>0</td>\n",
       "      <td>0</td>\n",
       "      <td>0</td>\n",
       "      <td>1</td>\n",
       "      <td>1</td>\n",
       "    </tr>\n",
       "    <tr>\n",
       "      <th>10 to 50 billion (INR)</th>\n",
       "      <td>0</td>\n",
       "      <td>1</td>\n",
       "      <td>1</td>\n",
       "      <td>0</td>\n",
       "      <td>0</td>\n",
       "      <td>0</td>\n",
       "      <td>0</td>\n",
       "      <td>0</td>\n",
       "      <td>0</td>\n",
       "      <td>0</td>\n",
       "      <td>...</td>\n",
       "      <td>0</td>\n",
       "      <td>0</td>\n",
       "      <td>0</td>\n",
       "      <td>1</td>\n",
       "      <td>0</td>\n",
       "      <td>0</td>\n",
       "      <td>0</td>\n",
       "      <td>0</td>\n",
       "      <td>0</td>\n",
       "      <td>0</td>\n",
       "    </tr>\n",
       "    <tr>\n",
       "      <th>10 to 50 million (INR)</th>\n",
       "      <td>0</td>\n",
       "      <td>0</td>\n",
       "      <td>0</td>\n",
       "      <td>0</td>\n",
       "      <td>0</td>\n",
       "      <td>0</td>\n",
       "      <td>0</td>\n",
       "      <td>0</td>\n",
       "      <td>0</td>\n",
       "      <td>0</td>\n",
       "      <td>...</td>\n",
       "      <td>0</td>\n",
       "      <td>1</td>\n",
       "      <td>0</td>\n",
       "      <td>0</td>\n",
       "      <td>0</td>\n",
       "      <td>0</td>\n",
       "      <td>0</td>\n",
       "      <td>0</td>\n",
       "      <td>0</td>\n",
       "      <td>1</td>\n",
       "    </tr>\n",
       "    <tr>\n",
       "      <th>100 to 500 billion (INR)</th>\n",
       "      <td>0</td>\n",
       "      <td>0</td>\n",
       "      <td>1</td>\n",
       "      <td>1</td>\n",
       "      <td>1</td>\n",
       "      <td>0</td>\n",
       "      <td>1</td>\n",
       "      <td>0</td>\n",
       "      <td>0</td>\n",
       "      <td>0</td>\n",
       "      <td>...</td>\n",
       "      <td>1</td>\n",
       "      <td>12</td>\n",
       "      <td>0</td>\n",
       "      <td>0</td>\n",
       "      <td>0</td>\n",
       "      <td>0</td>\n",
       "      <td>0</td>\n",
       "      <td>0</td>\n",
       "      <td>0</td>\n",
       "      <td>0</td>\n",
       "    </tr>\n",
       "    <tr>\n",
       "      <th>100 to 500 million (INR)</th>\n",
       "      <td>0</td>\n",
       "      <td>0</td>\n",
       "      <td>0</td>\n",
       "      <td>0</td>\n",
       "      <td>0</td>\n",
       "      <td>0</td>\n",
       "      <td>0</td>\n",
       "      <td>0</td>\n",
       "      <td>0</td>\n",
       "      <td>0</td>\n",
       "      <td>...</td>\n",
       "      <td>0</td>\n",
       "      <td>11</td>\n",
       "      <td>0</td>\n",
       "      <td>0</td>\n",
       "      <td>0</td>\n",
       "      <td>0</td>\n",
       "      <td>0</td>\n",
       "      <td>0</td>\n",
       "      <td>0</td>\n",
       "      <td>0</td>\n",
       "    </tr>\n",
       "    <tr>\n",
       "      <th>5 to 10 billion (INR)</th>\n",
       "      <td>0</td>\n",
       "      <td>0</td>\n",
       "      <td>0</td>\n",
       "      <td>0</td>\n",
       "      <td>0</td>\n",
       "      <td>0</td>\n",
       "      <td>0</td>\n",
       "      <td>0</td>\n",
       "      <td>0</td>\n",
       "      <td>0</td>\n",
       "      <td>...</td>\n",
       "      <td>0</td>\n",
       "      <td>0</td>\n",
       "      <td>0</td>\n",
       "      <td>0</td>\n",
       "      <td>0</td>\n",
       "      <td>0</td>\n",
       "      <td>0</td>\n",
       "      <td>0</td>\n",
       "      <td>0</td>\n",
       "      <td>0</td>\n",
       "    </tr>\n",
       "    <tr>\n",
       "      <th>50 to 100 billion (INR)</th>\n",
       "      <td>0</td>\n",
       "      <td>0</td>\n",
       "      <td>1</td>\n",
       "      <td>0</td>\n",
       "      <td>0</td>\n",
       "      <td>0</td>\n",
       "      <td>0</td>\n",
       "      <td>0</td>\n",
       "      <td>0</td>\n",
       "      <td>1</td>\n",
       "      <td>...</td>\n",
       "      <td>0</td>\n",
       "      <td>0</td>\n",
       "      <td>0</td>\n",
       "      <td>0</td>\n",
       "      <td>0</td>\n",
       "      <td>0</td>\n",
       "      <td>0</td>\n",
       "      <td>0</td>\n",
       "      <td>1</td>\n",
       "      <td>0</td>\n",
       "    </tr>\n",
       "    <tr>\n",
       "      <th>50 to 100 million (INR)</th>\n",
       "      <td>0</td>\n",
       "      <td>0</td>\n",
       "      <td>0</td>\n",
       "      <td>0</td>\n",
       "      <td>0</td>\n",
       "      <td>0</td>\n",
       "      <td>0</td>\n",
       "      <td>0</td>\n",
       "      <td>0</td>\n",
       "      <td>0</td>\n",
       "      <td>...</td>\n",
       "      <td>0</td>\n",
       "      <td>0</td>\n",
       "      <td>0</td>\n",
       "      <td>0</td>\n",
       "      <td>0</td>\n",
       "      <td>0</td>\n",
       "      <td>0</td>\n",
       "      <td>0</td>\n",
       "      <td>0</td>\n",
       "      <td>1</td>\n",
       "    </tr>\n",
       "    <tr>\n",
       "      <th>500 million to 1 billion (INR)</th>\n",
       "      <td>0</td>\n",
       "      <td>11</td>\n",
       "      <td>0</td>\n",
       "      <td>1</td>\n",
       "      <td>0</td>\n",
       "      <td>0</td>\n",
       "      <td>0</td>\n",
       "      <td>0</td>\n",
       "      <td>0</td>\n",
       "      <td>0</td>\n",
       "      <td>...</td>\n",
       "      <td>0</td>\n",
       "      <td>0</td>\n",
       "      <td>0</td>\n",
       "      <td>0</td>\n",
       "      <td>0</td>\n",
       "      <td>0</td>\n",
       "      <td>0</td>\n",
       "      <td>0</td>\n",
       "      <td>0</td>\n",
       "      <td>1</td>\n",
       "    </tr>\n",
       "    <tr>\n",
       "      <th>500+ billion (INR)</th>\n",
       "      <td>13</td>\n",
       "      <td>0</td>\n",
       "      <td>0</td>\n",
       "      <td>0</td>\n",
       "      <td>0</td>\n",
       "      <td>2</td>\n",
       "      <td>22</td>\n",
       "      <td>0</td>\n",
       "      <td>1</td>\n",
       "      <td>0</td>\n",
       "      <td>...</td>\n",
       "      <td>0</td>\n",
       "      <td>1</td>\n",
       "      <td>0</td>\n",
       "      <td>3</td>\n",
       "      <td>0</td>\n",
       "      <td>3</td>\n",
       "      <td>1</td>\n",
       "      <td>0</td>\n",
       "      <td>0</td>\n",
       "      <td>1</td>\n",
       "    </tr>\n",
       "    <tr>\n",
       "      <th>not mentioned</th>\n",
       "      <td>0</td>\n",
       "      <td>4</td>\n",
       "      <td>0</td>\n",
       "      <td>2</td>\n",
       "      <td>0</td>\n",
       "      <td>0</td>\n",
       "      <td>22</td>\n",
       "      <td>1</td>\n",
       "      <td>2</td>\n",
       "      <td>0</td>\n",
       "      <td>...</td>\n",
       "      <td>0</td>\n",
       "      <td>22</td>\n",
       "      <td>4</td>\n",
       "      <td>0</td>\n",
       "      <td>2</td>\n",
       "      <td>1</td>\n",
       "      <td>1</td>\n",
       "      <td>11</td>\n",
       "      <td>2</td>\n",
       "      <td>244</td>\n",
       "    </tr>\n",
       "  </tbody>\n",
       "</table>\n",
       "<p>11 rows × 53 columns</p>\n",
       "</div>"
      ],
      "text/plain": [
       "Industry                        Accounting  Advertising & Marketing  \\\n",
       "Revenue                                                               \n",
       "1 to 5 billion (INR)                     0                        0   \n",
       "10 to 50 billion (INR)                   0                        1   \n",
       "10 to 50 million (INR)                   0                        0   \n",
       "100 to 500 billion (INR)                 0                        0   \n",
       "100 to 500 million (INR)                 0                        0   \n",
       "5 to 10 billion (INR)                    0                        0   \n",
       "50 to 100 billion (INR)                  0                        0   \n",
       "50 to 100 million (INR)                  0                        0   \n",
       "500 million to 1 billion (INR)           0                       11   \n",
       "500+ billion (INR)                      13                        0   \n",
       "not mentioned                            0                        4   \n",
       "\n",
       "Industry                        Aerospace & Defence  \\\n",
       "Revenue                                               \n",
       "1 to 5 billion (INR)                              0   \n",
       "10 to 50 billion (INR)                            1   \n",
       "10 to 50 million (INR)                            0   \n",
       "100 to 500 billion (INR)                          1   \n",
       "100 to 500 million (INR)                          0   \n",
       "5 to 10 billion (INR)                             0   \n",
       "50 to 100 billion (INR)                           1   \n",
       "50 to 100 million (INR)                           0   \n",
       "500 million to 1 billion (INR)                    0   \n",
       "500+ billion (INR)                                0   \n",
       "not mentioned                                     0   \n",
       "\n",
       "Industry                        Architectural & Engineering Services  \\\n",
       "Revenue                                                                \n",
       "1 to 5 billion (INR)                                               0   \n",
       "10 to 50 billion (INR)                                             0   \n",
       "10 to 50 million (INR)                                             0   \n",
       "100 to 500 billion (INR)                                           1   \n",
       "100 to 500 million (INR)                                           0   \n",
       "5 to 10 billion (INR)                                              0   \n",
       "50 to 100 billion (INR)                                            0   \n",
       "50 to 100 million (INR)                                            0   \n",
       "500 million to 1 billion (INR)                                     1   \n",
       "500+ billion (INR)                                                 0   \n",
       "not mentioned                                                      2   \n",
       "\n",
       "Industry                        Asphalt Product Manufacturing  \\\n",
       "Revenue                                                         \n",
       "1 to 5 billion (INR)                                        0   \n",
       "10 to 50 billion (INR)                                      0   \n",
       "10 to 50 million (INR)                                      0   \n",
       "100 to 500 billion (INR)                                    1   \n",
       "100 to 500 million (INR)                                    0   \n",
       "5 to 10 billion (INR)                                       0   \n",
       "50 to 100 billion (INR)                                     0   \n",
       "50 to 100 million (INR)                                     0   \n",
       "500 million to 1 billion (INR)                              0   \n",
       "500+ billion (INR)                                          0   \n",
       "not mentioned                                               0   \n",
       "\n",
       "Industry                        Banks & Building Societies  \\\n",
       "Revenue                                                      \n",
       "1 to 5 billion (INR)                                     0   \n",
       "10 to 50 billion (INR)                                   0   \n",
       "10 to 50 million (INR)                                   0   \n",
       "100 to 500 billion (INR)                                 0   \n",
       "100 to 500 million (INR)                                 0   \n",
       "5 to 10 billion (INR)                                    0   \n",
       "50 to 100 billion (INR)                                  0   \n",
       "50 to 100 million (INR)                                  0   \n",
       "500 million to 1 billion (INR)                           0   \n",
       "500+ billion (INR)                                       2   \n",
       "not mentioned                                            0   \n",
       "\n",
       "Industry                        Biotech & Pharmaceuticals  Brokerage Services  \\\n",
       "Revenue                                                                         \n",
       "1 to 5 billion (INR)                                    1                   0   \n",
       "10 to 50 billion (INR)                                  0                   0   \n",
       "10 to 50 million (INR)                                  0                   0   \n",
       "100 to 500 billion (INR)                                1                   0   \n",
       "100 to 500 million (INR)                                0                   0   \n",
       "5 to 10 billion (INR)                                   0                   0   \n",
       "50 to 100 billion (INR)                                 0                   0   \n",
       "50 to 100 million (INR)                                 0                   0   \n",
       "500 million to 1 billion (INR)                          0                   0   \n",
       "500+ billion (INR)                                     22                   0   \n",
       "not mentioned                                          22                   1   \n",
       "\n",
       "Industry                        Cable, Internet & Telephone Providers  \\\n",
       "Revenue                                                                 \n",
       "1 to 5 billion (INR)                                                0   \n",
       "10 to 50 billion (INR)                                              0   \n",
       "10 to 50 million (INR)                                              0   \n",
       "100 to 500 billion (INR)                                            0   \n",
       "100 to 500 million (INR)                                            0   \n",
       "5 to 10 billion (INR)                                               0   \n",
       "50 to 100 billion (INR)                                             0   \n",
       "50 to 100 million (INR)                                             0   \n",
       "500 million to 1 billion (INR)                                      0   \n",
       "500+ billion (INR)                                                  1   \n",
       "not mentioned                                                       2   \n",
       "\n",
       "Industry                        Chemical Manufacturing  ...  \\\n",
       "Revenue                                                 ...   \n",
       "1 to 5 billion (INR)                                 0  ...   \n",
       "10 to 50 billion (INR)                               0  ...   \n",
       "10 to 50 million (INR)                               0  ...   \n",
       "100 to 500 billion (INR)                             0  ...   \n",
       "100 to 500 million (INR)                             0  ...   \n",
       "5 to 10 billion (INR)                                0  ...   \n",
       "50 to 100 billion (INR)                              1  ...   \n",
       "50 to 100 million (INR)                              0  ...   \n",
       "500 million to 1 billion (INR)                       0  ...   \n",
       "500+ billion (INR)                                   0  ...   \n",
       "not mentioned                                        0  ...   \n",
       "\n",
       "Industry                        Sporting Goods Shops  Staffing & Outsourcing  \\\n",
       "Revenue                                                                        \n",
       "1 to 5 billion (INR)                               0                      18   \n",
       "10 to 50 billion (INR)                             0                       0   \n",
       "10 to 50 million (INR)                             0                       1   \n",
       "100 to 500 billion (INR)                           1                      12   \n",
       "100 to 500 million (INR)                           0                      11   \n",
       "5 to 10 billion (INR)                              0                       0   \n",
       "50 to 100 billion (INR)                            0                       0   \n",
       "50 to 100 million (INR)                            0                       0   \n",
       "500 million to 1 billion (INR)                     0                       0   \n",
       "500+ billion (INR)                                 0                       1   \n",
       "not mentioned                                      0                      22   \n",
       "\n",
       "Industry                        TV Broadcasting & Cable Networks  \\\n",
       "Revenue                                                            \n",
       "1 to 5 billion (INR)                                           0   \n",
       "10 to 50 billion (INR)                                         0   \n",
       "10 to 50 million (INR)                                         0   \n",
       "100 to 500 billion (INR)                                       0   \n",
       "100 to 500 million (INR)                                       0   \n",
       "5 to 10 billion (INR)                                          0   \n",
       "50 to 100 billion (INR)                                        0   \n",
       "50 to 100 million (INR)                                        0   \n",
       "500 million to 1 billion (INR)                                 0   \n",
       "500+ billion (INR)                                             0   \n",
       "not mentioned                                                  4   \n",
       "\n",
       "Industry                        Telecommunications Services  Ticket Sales  \\\n",
       "Revenue                                                                     \n",
       "1 to 5 billion (INR)                                      0             0   \n",
       "10 to 50 billion (INR)                                    1             0   \n",
       "10 to 50 million (INR)                                    0             0   \n",
       "100 to 500 billion (INR)                                  0             0   \n",
       "100 to 500 million (INR)                                  0             0   \n",
       "5 to 10 billion (INR)                                     0             0   \n",
       "50 to 100 billion (INR)                                   0             0   \n",
       "50 to 100 million (INR)                                   0             0   \n",
       "500 million to 1 billion (INR)                            0             0   \n",
       "500+ billion (INR)                                        3             0   \n",
       "not mentioned                                             0             2   \n",
       "\n",
       "Industry                        Transportation Equipment Manufacturing  \\\n",
       "Revenue                                                                  \n",
       "1 to 5 billion (INR)                                                 0   \n",
       "10 to 50 billion (INR)                                               0   \n",
       "10 to 50 million (INR)                                               0   \n",
       "100 to 500 billion (INR)                                             0   \n",
       "100 to 500 million (INR)                                             0   \n",
       "5 to 10 billion (INR)                                                0   \n",
       "50 to 100 billion (INR)                                              0   \n",
       "50 to 100 million (INR)                                              0   \n",
       "500 million to 1 billion (INR)                                       0   \n",
       "500+ billion (INR)                                                   3   \n",
       "not mentioned                                                        1   \n",
       "\n",
       "Industry                        Transportation Management  Travel Agencies  \\\n",
       "Revenue                                                                      \n",
       "1 to 5 billion (INR)                                    0                0   \n",
       "10 to 50 billion (INR)                                  0                0   \n",
       "10 to 50 million (INR)                                  0                0   \n",
       "100 to 500 billion (INR)                                0                0   \n",
       "100 to 500 million (INR)                                0                0   \n",
       "5 to 10 billion (INR)                                   0                0   \n",
       "50 to 100 billion (INR)                                 0                0   \n",
       "50 to 100 million (INR)                                 0                0   \n",
       "500 million to 1 billion (INR)                          0                0   \n",
       "500+ billion (INR)                                      1                0   \n",
       "not mentioned                                           1               11   \n",
       "\n",
       "Industry                        Video Games  not mentioned  \n",
       "Revenue                                                     \n",
       "1 to 5 billion (INR)                      1              1  \n",
       "10 to 50 billion (INR)                    0              0  \n",
       "10 to 50 million (INR)                    0              1  \n",
       "100 to 500 billion (INR)                  0              0  \n",
       "100 to 500 million (INR)                  0              0  \n",
       "5 to 10 billion (INR)                     0              0  \n",
       "50 to 100 billion (INR)                   1              0  \n",
       "50 to 100 million (INR)                   0              1  \n",
       "500 million to 1 billion (INR)            0              1  \n",
       "500+ billion (INR)                        0              1  \n",
       "not mentioned                             2            244  \n",
       "\n",
       "[11 rows x 53 columns]"
      ]
     },
     "execution_count": 192,
     "metadata": {},
     "output_type": "execute_result"
    }
   ],
   "source": [
    "pid=pd.crosstab(index=df1.Revenue,columns=df1.Industry)\n",
    "pid#its a df\n",
    "#revenue cate var's values are in row indexes\n",
    "#industry cate var's values are in column indexes\n",
    "#freq/count calculated for both cate vars involved"
   ]
  },
  {
   "cell_type": "code",
   "execution_count": 193,
   "metadata": {
    "colab": {
     "base_uri": "https://localhost:8080/"
    },
    "id": "NZPJm42jq14v",
    "outputId": "837e58c2-71f1-47db-832a-aec9d2578845",
    "scrolled": true
   },
   "outputs": [
    {
     "data": {
      "text/plain": [
       "Industry\n",
       "not mentioned    244\n",
       "IT Services       48\n",
       "Consulting        34\n",
       "Name: not mentioned, dtype: int64"
      ]
     },
     "execution_count": 193,
     "metadata": {},
     "output_type": "execute_result"
    }
   ],
   "source": [
    "pid.iloc[-1].sort_values(ascending=False).head(3)\n",
    "#loc[-1] gives error#did not replace -1 class in revenue column\n",
    "#with mode value of that column using str.replace()\n",
    "# Here -1 value in industry means the data is deleted or null values or industry does not have any particular belonging means it doesnot belong any category it doesnot have any partcular identification"
   ]
  },
  {
   "cell_type": "markdown",
   "metadata": {
    "id": "oS6xleY0q14v"
   },
   "source": [
    "Investment Banking and Asset Management is the Industry in which many companies get a revenue of 500+ billion INR\n",
    "Rich companies are based on Investment banking and asset management"
   ]
  },
  {
   "cell_type": "code",
   "execution_count": null,
   "metadata": {
    "id": "KeZ3VwqPq14v"
   },
   "outputs": [],
   "source": []
  },
  {
   "cell_type": "code",
   "execution_count": 194,
   "metadata": {
    "colab": {
     "base_uri": "https://localhost:8080/",
     "height": 342
    },
    "id": "WBO4R6pyq14w",
    "outputId": "04fc827f-8f94-4160-daeb-0a7c355bbe91",
    "scrolled": true
   },
   "outputs": [
    {
     "data": {
      "text/html": [
       "<div>\n",
       "<style scoped>\n",
       "    .dataframe tbody tr th:only-of-type {\n",
       "        vertical-align: middle;\n",
       "    }\n",
       "\n",
       "    .dataframe tbody tr th {\n",
       "        vertical-align: top;\n",
       "    }\n",
       "\n",
       "    .dataframe thead th {\n",
       "        text-align: right;\n",
       "    }\n",
       "</style>\n",
       "<table border=\"1\" class=\"dataframe\">\n",
       "  <thead>\n",
       "    <tr style=\"text-align: right;\">\n",
       "      <th>Revenue</th>\n",
       "      <th>1 to 5 billion (INR)</th>\n",
       "      <th>10 to 50 billion (INR)</th>\n",
       "      <th>10 to 50 million (INR)</th>\n",
       "      <th>100 to 500 billion (INR)</th>\n",
       "      <th>100 to 500 million (INR)</th>\n",
       "      <th>5 to 10 billion (INR)</th>\n",
       "      <th>50 to 100 billion (INR)</th>\n",
       "      <th>50 to 100 million (INR)</th>\n",
       "      <th>500 million to 1 billion (INR)</th>\n",
       "      <th>500+ billion (INR)</th>\n",
       "      <th>not mentioned</th>\n",
       "    </tr>\n",
       "    <tr>\n",
       "      <th>Company.Name</th>\n",
       "      <th></th>\n",
       "      <th></th>\n",
       "      <th></th>\n",
       "      <th></th>\n",
       "      <th></th>\n",
       "      <th></th>\n",
       "      <th></th>\n",
       "      <th></th>\n",
       "      <th></th>\n",
       "      <th></th>\n",
       "      <th></th>\n",
       "    </tr>\n",
       "  </thead>\n",
       "  <tbody>\n",
       "    <tr>\n",
       "      <th>6sense</th>\n",
       "      <td>0</td>\n",
       "      <td>0</td>\n",
       "      <td>0</td>\n",
       "      <td>0</td>\n",
       "      <td>0</td>\n",
       "      <td>0</td>\n",
       "      <td>0</td>\n",
       "      <td>0</td>\n",
       "      <td>0</td>\n",
       "      <td>0</td>\n",
       "      <td>2</td>\n",
       "    </tr>\n",
       "    <tr>\n",
       "      <th>ADCI - Karnataka</th>\n",
       "      <td>0</td>\n",
       "      <td>0</td>\n",
       "      <td>0</td>\n",
       "      <td>0</td>\n",
       "      <td>0</td>\n",
       "      <td>0</td>\n",
       "      <td>0</td>\n",
       "      <td>0</td>\n",
       "      <td>0</td>\n",
       "      <td>0</td>\n",
       "      <td>2</td>\n",
       "    </tr>\n",
       "    <tr>\n",
       "      <th>ADCI HYD 13 SEZ</th>\n",
       "      <td>0</td>\n",
       "      <td>0</td>\n",
       "      <td>0</td>\n",
       "      <td>0</td>\n",
       "      <td>0</td>\n",
       "      <td>0</td>\n",
       "      <td>0</td>\n",
       "      <td>0</td>\n",
       "      <td>0</td>\n",
       "      <td>0</td>\n",
       "      <td>1</td>\n",
       "    </tr>\n",
       "    <tr>\n",
       "      <th>ADmyBRAND</th>\n",
       "      <td>0</td>\n",
       "      <td>0</td>\n",
       "      <td>0</td>\n",
       "      <td>0</td>\n",
       "      <td>0</td>\n",
       "      <td>0</td>\n",
       "      <td>0</td>\n",
       "      <td>0</td>\n",
       "      <td>1</td>\n",
       "      <td>0</td>\n",
       "      <td>0</td>\n",
       "    </tr>\n",
       "    <tr>\n",
       "      <th>AGUILASS</th>\n",
       "      <td>0</td>\n",
       "      <td>0</td>\n",
       "      <td>0</td>\n",
       "      <td>0</td>\n",
       "      <td>0</td>\n",
       "      <td>0</td>\n",
       "      <td>0</td>\n",
       "      <td>0</td>\n",
       "      <td>0</td>\n",
       "      <td>0</td>\n",
       "      <td>1</td>\n",
       "    </tr>\n",
       "  </tbody>\n",
       "</table>\n",
       "</div>"
      ],
      "text/plain": [
       "Revenue           1 to 5 billion (INR)  10 to 50 billion (INR)  \\\n",
       "Company.Name                                                     \n",
       "6sense                               0                       0   \n",
       "ADCI - Karnataka                     0                       0   \n",
       "ADCI HYD 13 SEZ                      0                       0   \n",
       "ADmyBRAND                            0                       0   \n",
       "AGUILASS                             0                       0   \n",
       "\n",
       "Revenue           10 to 50 million (INR)  100 to 500 billion (INR)  \\\n",
       "Company.Name                                                         \n",
       "6sense                                 0                         0   \n",
       "ADCI - Karnataka                       0                         0   \n",
       "ADCI HYD 13 SEZ                        0                         0   \n",
       "ADmyBRAND                              0                         0   \n",
       "AGUILASS                               0                         0   \n",
       "\n",
       "Revenue           100 to 500 million (INR)  5 to 10 billion (INR)  \\\n",
       "Company.Name                                                        \n",
       "6sense                                   0                      0   \n",
       "ADCI - Karnataka                         0                      0   \n",
       "ADCI HYD 13 SEZ                          0                      0   \n",
       "ADmyBRAND                                0                      0   \n",
       "AGUILASS                                 0                      0   \n",
       "\n",
       "Revenue           50 to 100 billion (INR)  50 to 100 million (INR)  \\\n",
       "Company.Name                                                         \n",
       "6sense                                  0                        0   \n",
       "ADCI - Karnataka                        0                        0   \n",
       "ADCI HYD 13 SEZ                         0                        0   \n",
       "ADmyBRAND                               0                        0   \n",
       "AGUILASS                                0                        0   \n",
       "\n",
       "Revenue           500 million to 1 billion (INR)  500+ billion (INR)  \\\n",
       "Company.Name                                                           \n",
       "6sense                                         0                   0   \n",
       "ADCI - Karnataka                               0                   0   \n",
       "ADCI HYD 13 SEZ                                0                   0   \n",
       "ADmyBRAND                                      1                   0   \n",
       "AGUILASS                                       0                   0   \n",
       "\n",
       "Revenue           not mentioned  \n",
       "Company.Name                     \n",
       "6sense                        2  \n",
       "ADCI - Karnataka              2  \n",
       "ADCI HYD 13 SEZ               1  \n",
       "ADmyBRAND                     0  \n",
       "AGUILASS                      1  "
      ]
     },
     "execution_count": 194,
     "metadata": {},
     "output_type": "execute_result"
    }
   ],
   "source": [
    "dip=pd.crosstab(index=df1['Company.Name'],columns=df1['Revenue'])\n",
    "dip.head()\n"
   ]
  },
  {
   "cell_type": "code",
   "execution_count": 195,
   "metadata": {
    "id": "NmWMIJvAq14w",
    "outputId": "d317b552-b137-412d-9541-7a7a847913c3",
    "scrolled": true
   },
   "outputs": [
    {
     "data": {
      "text/plain": [
       "Company.Name\n",
       "ZoomRx                     22\n",
       "String Bio                 12\n",
       "Quantzig                   12\n",
       "FLEXILOANS TECHNOLOGIES    11\n",
       "BuzzBoard                  11\n",
       "Name: not mentioned, dtype: int64"
      ]
     },
     "execution_count": 195,
     "metadata": {},
     "output_type": "execute_result"
    }
   ],
   "source": [
    "dip.iloc[:,-1].sort_values(ascending=False).head()\n",
    "#in df,i am locating all rows of 1 st column from last and that last columns values are sorted in desc order and displayed"
   ]
  },
  {
   "cell_type": "code",
   "execution_count": null,
   "metadata": {
    "id": "rR0HRwVDq14w"
   },
   "outputs": [],
   "source": [
    "#Sanofi,EY,Amazon,Citi,Walmart are high revenue generating companies.\n",
    "#count of 500+ billion inr value in revenue column of sanofi is 12..."
   ]
  },
  {
   "cell_type": "code",
   "execution_count": 196,
   "metadata": {
    "colab": {
     "base_uri": "https://localhost:8080/",
     "height": 362
    },
    "id": "HovnfUtWq14w",
    "outputId": "d7fe0304-f0e9-43b2-d397-039aed5670ff",
    "scrolled": true
   },
   "outputs": [
    {
     "data": {
      "text/html": [
       "<div>\n",
       "<style scoped>\n",
       "    .dataframe tbody tr th:only-of-type {\n",
       "        vertical-align: middle;\n",
       "    }\n",
       "\n",
       "    .dataframe tbody tr th {\n",
       "        vertical-align: top;\n",
       "    }\n",
       "\n",
       "    .dataframe thead th {\n",
       "        text-align: right;\n",
       "    }\n",
       "</style>\n",
       "<table border=\"1\" class=\"dataframe\">\n",
       "  <thead>\n",
       "    <tr style=\"text-align: right;\">\n",
       "      <th>Revenue</th>\n",
       "      <th>1 to 5 billion (INR)</th>\n",
       "      <th>10 to 50 billion (INR)</th>\n",
       "      <th>10 to 50 million (INR)</th>\n",
       "      <th>100 to 500 billion (INR)</th>\n",
       "      <th>100 to 500 million (INR)</th>\n",
       "      <th>5 to 10 billion (INR)</th>\n",
       "      <th>50 to 100 billion (INR)</th>\n",
       "      <th>50 to 100 million (INR)</th>\n",
       "      <th>500 million to 1 billion (INR)</th>\n",
       "      <th>500+ billion (INR)</th>\n",
       "      <th>not mentioned</th>\n",
       "    </tr>\n",
       "    <tr>\n",
       "      <th>Job.Title</th>\n",
       "      <th></th>\n",
       "      <th></th>\n",
       "      <th></th>\n",
       "      <th></th>\n",
       "      <th></th>\n",
       "      <th></th>\n",
       "      <th></th>\n",
       "      <th></th>\n",
       "      <th></th>\n",
       "      <th></th>\n",
       "      <th></th>\n",
       "    </tr>\n",
       "  </thead>\n",
       "  <tbody>\n",
       "    <tr>\n",
       "      <th>Data Analyst</th>\n",
       "      <td>23</td>\n",
       "      <td>13</td>\n",
       "      <td>2</td>\n",
       "      <td>17</td>\n",
       "      <td>1</td>\n",
       "      <td>0</td>\n",
       "      <td>12</td>\n",
       "      <td>0</td>\n",
       "      <td>13</td>\n",
       "      <td>45</td>\n",
       "      <td>102</td>\n",
       "    </tr>\n",
       "    <tr>\n",
       "      <th>Data Engineer</th>\n",
       "      <td>2</td>\n",
       "      <td>2</td>\n",
       "      <td>0</td>\n",
       "      <td>2</td>\n",
       "      <td>2</td>\n",
       "      <td>0</td>\n",
       "      <td>0</td>\n",
       "      <td>0</td>\n",
       "      <td>0</td>\n",
       "      <td>29</td>\n",
       "      <td>40</td>\n",
       "    </tr>\n",
       "    <tr>\n",
       "      <th>Data Scientist</th>\n",
       "      <td>27</td>\n",
       "      <td>16</td>\n",
       "      <td>10</td>\n",
       "      <td>20</td>\n",
       "      <td>19</td>\n",
       "      <td>3</td>\n",
       "      <td>10</td>\n",
       "      <td>2</td>\n",
       "      <td>18</td>\n",
       "      <td>93</td>\n",
       "      <td>328</td>\n",
       "    </tr>\n",
       "    <tr>\n",
       "      <th>Machine Learning Engineer</th>\n",
       "      <td>0</td>\n",
       "      <td>1</td>\n",
       "      <td>1</td>\n",
       "      <td>2</td>\n",
       "      <td>0</td>\n",
       "      <td>0</td>\n",
       "      <td>1</td>\n",
       "      <td>0</td>\n",
       "      <td>0</td>\n",
       "      <td>1</td>\n",
       "      <td>28</td>\n",
       "    </tr>\n",
       "  </tbody>\n",
       "</table>\n",
       "</div>"
      ],
      "text/plain": [
       "Revenue                    1 to 5 billion (INR)  10 to 50 billion (INR)  \\\n",
       "Job.Title                                                                 \n",
       "Data Analyst                                 23                      13   \n",
       "Data Engineer                                 2                       2   \n",
       "Data Scientist                               27                      16   \n",
       "Machine Learning Engineer                     0                       1   \n",
       "\n",
       "Revenue                    10 to 50 million (INR)  100 to 500 billion (INR)  \\\n",
       "Job.Title                                                                     \n",
       "Data Analyst                                    2                        17   \n",
       "Data Engineer                                   0                         2   \n",
       "Data Scientist                                 10                        20   \n",
       "Machine Learning Engineer                       1                         2   \n",
       "\n",
       "Revenue                    100 to 500 million (INR)  5 to 10 billion (INR)  \\\n",
       "Job.Title                                                                    \n",
       "Data Analyst                                      1                      0   \n",
       "Data Engineer                                     2                      0   \n",
       "Data Scientist                                   19                      3   \n",
       "Machine Learning Engineer                         0                      0   \n",
       "\n",
       "Revenue                    50 to 100 billion (INR)  50 to 100 million (INR)  \\\n",
       "Job.Title                                                                     \n",
       "Data Analyst                                    12                        0   \n",
       "Data Engineer                                    0                        0   \n",
       "Data Scientist                                  10                        2   \n",
       "Machine Learning Engineer                        1                        0   \n",
       "\n",
       "Revenue                    500 million to 1 billion (INR)  500+ billion (INR)  \\\n",
       "Job.Title                                                                       \n",
       "Data Analyst                                           13                  45   \n",
       "Data Engineer                                           0                  29   \n",
       "Data Scientist                                         18                  93   \n",
       "Machine Learning Engineer                               0                   1   \n",
       "\n",
       "Revenue                    not mentioned  \n",
       "Job.Title                                 \n",
       "Data Analyst                         102  \n",
       "Data Engineer                         40  \n",
       "Data Scientist                       328  \n",
       "Machine Learning Engineer             28  "
      ]
     },
     "execution_count": 196,
     "metadata": {},
     "output_type": "execute_result"
    }
   ],
   "source": [
    "idp=pd.crosstab(index=df1['Job.Title'],columns=df1['Revenue'])\n",
    "idp.head()\n"
   ]
  },
  {
   "cell_type": "code",
   "execution_count": 197,
   "metadata": {
    "id": "w1D5L_Evq14x",
    "outputId": "82d1a6fc-c5a6-46c0-9e9d-092dfe20245e",
    "scrolled": true
   },
   "outputs": [
    {
     "data": {
      "text/plain": [
       "Job.Title\n",
       "Data Scientist               328\n",
       "Data Analyst                 102\n",
       "Data Engineer                 40\n",
       "Machine Learning Engineer     28\n",
       "Name: not mentioned, dtype: int64"
      ]
     },
     "execution_count": 197,
     "metadata": {},
     "output_type": "execute_result"
    }
   ],
   "source": [
    "idp.iloc[:,-1].sort_values(ascending=False).head()\n"
   ]
  },
  {
   "cell_type": "markdown",
   "metadata": {
    "id": "7y6R4T7dq14x"
   },
   "source": [
    "Many Data scientist job vacancies are there in high revenue generating companies.\n",
    "count of 500+billion inr value in revenue column corresponding to Data Scientist is 93."
   ]
  },
  {
   "cell_type": "code",
   "execution_count": 151,
   "metadata": {
    "id": "jmx_UXjaq14x",
    "outputId": "75055f37-c1d1-4aed-dd20-d511fe5f6a94"
   },
   "outputs": [
    {
     "data": {
      "text/plain": [
       "Index(['Job.Title', 'Job.Description', 'Rating', 'Company.Name', 'Location',\n",
       "       'Headquarters', 'Size', 'Founded', 'Type.of.ownership', 'Industry',\n",
       "       'Sector', 'Revenue', 'Competitors', 'Python', 'R Prog', 'Excel',\n",
       "       'Hadoop', 'SQL', 'SAS'],\n",
       "      dtype='object')"
      ]
     },
     "execution_count": 151,
     "metadata": {},
     "output_type": "execute_result"
    }
   ],
   "source": [
    "#change dtype of 6 columns using astype fun.this needs to be done before using pandas,numpy operations...\n",
    "df.columns"
   ]
  },
  {
   "cell_type": "code",
   "execution_count": null,
   "metadata": {
    "id": "DUHDdzcEq14y",
    "outputId": "fec67605-16b9-4365-a919-69e046886ae8"
   },
   "outputs": [
    {
     "data": {
      "text/plain": [
       "R Prog    int64\n",
       "Excel     int64\n",
       "Hadoop    int64\n",
       "SQL       int64\n",
       "SAS       int64\n",
       "dtype: object"
      ]
     },
     "execution_count": 230,
     "metadata": {},
     "output_type": "execute_result"
    }
   ],
   "source": [
    "df.dtypes.tail()"
   ]
  },
  {
   "cell_type": "code",
   "execution_count": 237,
   "metadata": {
    "id": "bjnZaAO9q14y"
   },
   "outputs": [],
   "source": [
    "#df[['Python','R Prog','Excel','Hadoop','SQL','SAS']]=df[['Python','R Prog','Excel','Hadoop','SQL','SAS']].astype('object')\n",
    "\n",
    "#(Important code)-In one line of code i can change dtype of multiple columns to any datatype."
   ]
  },
  {
   "cell_type": "code",
   "execution_count": 219,
   "metadata": {
    "id": "qo7NMLOFq14y",
    "outputId": "d00d39e8-d97b-477a-f5f3-5496288a44d3",
    "scrolled": true
   },
   "outputs": [
    {
     "data": {
      "text/plain": [
       "Python    object\n",
       "R Prog    object\n",
       "Excel     object\n",
       "Hadoop    object\n",
       "SQL       object\n",
       "SAS       object\n",
       "dtype: object"
      ]
     },
     "execution_count": 219,
     "metadata": {},
     "output_type": "execute_result"
    }
   ],
   "source": [
    "df.dtypes.tail(6)"
   ]
  },
  {
   "cell_type": "code",
   "execution_count": null,
   "metadata": {
    "id": "kUf7QG1Jq14y",
    "outputId": "24b27c93-c030-4a0c-9150-ec77d09df01b",
    "scrolled": true
   },
   "outputs": [
    {
     "data": {
      "text/plain": [
       "0    762\n",
       "1    123\n",
       "Name: SAS, dtype: int64"
      ]
     },
     "execution_count": 237,
     "metadata": {},
     "output_type": "execute_result"
    }
   ],
   "source": [
    "df.SAS.value_counts()#SAS and python have high imbalanced data.lets take 2 vars for np,pd operations.."
   ]
  },
  {
   "cell_type": "code",
   "execution_count": 199,
   "metadata": {
    "id": "8uCd-_coq14z",
    "outputId": "870ad8eb-d3b4-4356-b14a-c8b76d785396",
    "scrolled": false
   },
   "outputs": [
    {
     "data": {
      "text/plain": [
       "Data Scientist               376\n",
       "Data Analyst                 101\n",
       "Data Engineer                 58\n",
       "Machine Learning Engineer     17\n",
       "Name: Job.Title, dtype: int64"
      ]
     },
     "execution_count": 199,
     "metadata": {},
     "output_type": "execute_result"
    }
   ],
   "source": [
    "vin=df1.loc[df1.Python==1]['Job.Title'].value_counts()\n",
    "vin#vin is a series with job titles as keys/indexes and counts as values\n",
    "#count of data scientist job opportunities is 376 where job description has python keyword\n",
    "#If u want to become a ds,you need to have good python knowledge."
   ]
  },
  {
   "cell_type": "code",
   "execution_count": 202,
   "metadata": {
    "id": "LAVZF8LOq14z",
    "outputId": "930713d6-c675-4fc8-82d7-a06e4764538c"
   },
   "outputs": [
    {
     "data": {
      "text/plain": [
       "array([376, 101,  58,  17], dtype=int64)"
      ]
     },
     "execution_count": 202,
     "metadata": {},
     "output_type": "execute_result"
    }
   ],
   "source": [
    "vin.values #not vin.values()# as vin is a series.if it was df,use vin.values()"
   ]
  },
  {
   "cell_type": "code",
   "execution_count": 203,
   "metadata": {
    "id": "g6T6ApcLq14z",
    "outputId": "cd31fef8-2e6e-4cf5-a98f-31651a7d5dd4",
    "scrolled": false
   },
   "outputs": [
    {
     "data": {
      "text/plain": [
       "<BarContainer object of 4 artists>"
      ]
     },
     "execution_count": 203,
     "metadata": {},
     "output_type": "execute_result"
    },
    {
     "data": {
      "image/png": "[encoded data removed]",
      "text/plain": [
       "<Figure size 432x288 with 1 Axes>"
      ]
     },
     "metadata": {
      "needs_background": "light"
     },
     "output_type": "display_data"
    }
   ],
   "source": [
    "plt.bar(list(vin.keys()),list(vin.values),color=['r','b','Orange','g'],width=0.1)\n",
    "#as width reduces from 1 to 0,bars become thin."
   ]
  },
  {
   "cell_type": "code",
   "execution_count": 204,
   "metadata": {
    "id": "mtFW6g13q140",
    "outputId": "9f6fcf79-2484-4d7e-af38-8af92f328820",
    "scrolled": false
   },
   "outputs": [
    {
     "data": {
      "text/plain": [
       "Data Scientist    93\n",
       "Data Analyst      28\n",
       "Data Engineer      2\n",
       "Name: Job.Title, dtype: int64"
      ]
     },
     "execution_count": 204,
     "metadata": {},
     "output_type": "execute_result"
    }
   ],
   "source": [
    "niv=df1.loc[df1.SAS==1]['Job.Title'].value_counts()\n",
    "niv\n"
   ]
  },
  {
   "cell_type": "code",
   "execution_count": null,
   "metadata": {},
   "outputs": [],
   "source": [
    "#Piechart plot\n"
   ]
  },
  {
   "cell_type": "code",
   "execution_count": null,
   "metadata": {
    "id": "0lXqWiBUq140"
   },
   "outputs": [],
   "source": [
    "Conlusion\n",
    "Data Scientist,Data Analyst,Data Enginner , Machine Learning Engineer job titles are interchangeably used for search AI jobs.\n",
    "Data Scientist , Data Analyst are most frequent job titles used."
   ]
  },
  {
   "cell_type": "code",
   "execution_count": 205,
   "metadata": {
    "id": "4Dy50-Vnq141",
    "outputId": "a40fbf03-5db2-4815-ce5d-f58d4ad866f6",
    "scrolled": false
   },
   "outputs": [
    {
     "name": "stdout",
     "output_type": "stream",
     "text": [
      "                           Python  R Prog  Excel  Hadoop  SQL  SAS\n",
      "Job.Title                                                         \n",
      "Data Analyst                  101       3    163      12  122   28\n",
      "Data Engineer                  58       1     54      44   67    2\n",
      "Data Scientist                376      22    207     149  277   93\n",
      "Machine Learning Engineer      17       1      9       3    6    0\n"
     ]
    }
   ],
   "source": [
    "gb = df1.groupby(['Job.Title'])[['Python','R Prog','Excel','Hadoop','SQL','SAS']].sum()\n",
    "print(gb)"
   ]
  },
  {
   "cell_type": "code",
   "execution_count": 206,
   "metadata": {
    "id": "lr0wXRHhq141",
    "outputId": "a0c7340a-b644-4a56-ca08-8c358c55f0cc",
    "scrolled": false
   },
   "outputs": [
    {
     "data": {
      "text/plain": [
       "<AxesSubplot:title={'center':'Skills which has more demand Based on Titles '}, xlabel='Job.Title'>"
      ]
     },
     "execution_count": 206,
     "metadata": {},
     "output_type": "execute_result"
    },
    {
     "data": {
      "image/png": "[encoded data removed]",
      "text/plain": [
       "<Figure size 1440x720 with 1 Axes>"
      ]
     },
     "metadata": {
      "needs_background": "light"
     },
     "output_type": "display_data"
    }
   ],
   "source": [
    "#bar plot for above analysis:\n",
    "gb.plot(kind='bar',figsize=(20,10) ,title= 'Skills which has more demand Based on Titles ')"
   ]
  },
  {
   "cell_type": "markdown",
   "metadata": {
    "id": "ishU-nGZq141"
   },
   "source": [
    "Conclusions\n",
    "Python is top most demanded skill is requred for data scientist job.\n",
    "For data Analyst Excel, python are most demanded skills required .\n",
    "For Machine Learning Engineer Most demanded skill is Python\n",
    "For Data Engineer Most demanded skills are Sql, python and excel."
   ]
  },
  {
   "cell_type": "markdown",
   "metadata": {
    "id": "Nwx8J4QWq142"
   },
   "source": [
    "Number of job vacancies job title wise and city wise"
   ]
  },
  {
   "cell_type": "code",
   "execution_count": null,
   "metadata": {
    "id": "MmtzRBfyq142"
   },
   "outputs": [],
   "source": [
    "\n",
    "#For analysis,prefer value_counts() over count()"
   ]
  },
  {
   "cell_type": "code",
   "execution_count": 207,
   "metadata": {
    "id": "UxfjufYAq142",
    "outputId": "93753afa-63a7-4930-9a3a-0ea779696b06"
   },
   "outputs": [
    {
     "data": {
      "text/plain": [
       "Location   Job.Title     \n",
       "Bengaluru  Data Scientist    246\n",
       "           Data Analyst       87\n",
       "Mumbai     Data Scientist     87\n",
       "Hyderabad  Data Scientist     45\n",
       "Bengaluru  Data Engineer      41\n",
       "Mumbai     Data Analyst       40\n",
       "Chennai    Data Scientist     35\n",
       "Pune       Data Scientist     31\n",
       "           Data Analyst       30\n",
       "Gurgaon    Data Scientist     27\n",
       "Name: Job.Title, dtype: int64"
      ]
     },
     "execution_count": 207,
     "metadata": {},
     "output_type": "execute_result"
    }
   ],
   "source": [
    "#df.groupby(by=['Location','Job.Title']).value_counts()\n",
    "df1.groupby(by=['Location'])['Job.Title'].value_counts().sort_values(ascending=False).head(10)"
   ]
  },
  {
   "cell_type": "code",
   "execution_count": null,
   "metadata": {
    "id": "2oCNB0nJq142"
   },
   "outputs": [],
   "source": [
    "#.head() is applicable on series and df"
   ]
  },
  {
   "cell_type": "markdown",
   "metadata": {
    "id": "XjY3K-cyq143"
   },
   "source": [
    "There are 258 Vacancies for Data Scientist roles in Bengaluru\n",
    "There are 87 Vacancies for Data Scientist roles in Mumbai\n",
    "There are 45 Vacancies for Data Scientist roles in Hyderabad"
   ]
  },
  {
   "cell_type": "markdown",
   "metadata": {
    "id": "RkVGNMDOq143"
   },
   "source": [
    "Final Conclusions:\n",
    "\n",
    "Q.1) Find Companies most probable to hire an ML Engineer/Data Analyst Applicant in respect to his/her skillset.\n",
    "\n",
    "Ans. Top Most Companies which are hiring are 'ZoomRx','Amazon','EY','Walmart','Citi','Sanfoi','Matelabs Innovations Pvt. Ltd.    etc.\n",
    "\n",
    "Q.2) To analyse Machine Learning/Data Analyst Job Market in India and outline the segments most optimal to apply or prepare for Data Analyst/ Machine Learning Jobs.\n",
    "\n",
    "Ans.Top Most Locations Which Are Hiring Machine Learning/Data Analyst in India Are Beangaluru,Mumbai,Pune,Chennai,Hyderbad.Top Most Demanded Skills for prepare Data Analyst/ Machine Learning Jobs are Python,Excel,SQL."
   ]
  },
  {
   "cell_type": "markdown",
   "metadata": {
    "id": "tqBIoUFC3oYn"
   },
   "source": [
    "                  Python  R Prog  Excel  Hadoop  SQL  SAS\n",
    "Job.Title  \n",
    "\n",
    "Data Analyst\n",
    "\n",
    "                     101       3    163      12  122   28\n",
    "\n",
    "Data Engineer\n",
    "\n",
    "                     58       1     54      44   67    2\n",
    "\n",
    "Data Scientist   \n",
    "                     \n",
    "                     376      22    207     149  277   93\n",
    "\n",
    "Machine Learning Engineer\n",
    "\n",
    "                      17       1      9       3    6    0\n",
    "\n",
    "\n",
    "=>From the data we can see that Data analyst must have the skills are python,Excel,sql\n",
    "\n",
    "=>Data analyst must have skill should be Python,excel,sql\n",
    "\n",
    "=>Data engineer must have skill should be python,exel,sql\n",
    "\n",
    "=>machine learning engineer should have skills are python,excel"
   ]
  },
  {
   "cell_type": "code",
   "execution_count": null,
   "metadata": {
    "id": "l8qkklZmq143"
   },
   "outputs": [],
   "source": [
    "task:u have read the dataset\n",
    "3 cate vars have -1 4 num vars have -1\n",
    "drop null values,\n",
    "irrelevent columns,change d types.\n",
    "store the cate vars in separate df and num vars in separate df\n",
    "then do df_cat[i].value_counts()\n",
    "df_num[i].value_counts()\n",
    "u have to replace -1 wth logic\n",
    "replace all 7 columns with -1 values using logic\n",
    "use str.replace function\n",
    "Now u will analyse the dataset.\n",
    "do.iloc,df.loc barplots,piechart,scatterplots etc\n",
    "no tv \n",
    "Build K means model\n",
    "put data points in say 10 clusters\n",
    "Analyse each cluster\n",
    "Analyse each cluster\n",
    "#We need to replace -1 in cate columns using logic.Then build K means model and\n",
    "#analyse the data points in say 10 cluster one by one."
   ]
  },
  {
   "cell_type": "code",
   "execution_count": 119,
   "metadata": {},
   "outputs": [],
   "source": [
    "#df.loc[df.Rating=='-1']"
   ]
  },
  {
   "cell_type": "code",
   "execution_count": 208,
   "metadata": {
    "scrolled": true
   },
   "outputs": [
    {
     "data": {
      "text/html": [
       "<div>\n",
       "<style scoped>\n",
       "    .dataframe tbody tr th:only-of-type {\n",
       "        vertical-align: middle;\n",
       "    }\n",
       "\n",
       "    .dataframe tbody tr th {\n",
       "        vertical-align: top;\n",
       "    }\n",
       "\n",
       "    .dataframe thead th {\n",
       "        text-align: right;\n",
       "    }\n",
       "</style>\n",
       "<table border=\"1\" class=\"dataframe\">\n",
       "  <thead>\n",
       "    <tr style=\"text-align: right;\">\n",
       "      <th></th>\n",
       "      <th>Job.Title</th>\n",
       "      <th>Job.Description</th>\n",
       "      <th>Rating</th>\n",
       "      <th>Company.Name</th>\n",
       "      <th>Location</th>\n",
       "      <th>Headquarters</th>\n",
       "      <th>Size</th>\n",
       "      <th>Founded</th>\n",
       "      <th>Type.of.ownership</th>\n",
       "      <th>Industry</th>\n",
       "      <th>Sector</th>\n",
       "      <th>Revenue</th>\n",
       "      <th>Competitors</th>\n",
       "      <th>Python</th>\n",
       "      <th>R Prog</th>\n",
       "      <th>Excel</th>\n",
       "      <th>Hadoop</th>\n",
       "      <th>SQL</th>\n",
       "      <th>SAS</th>\n",
       "    </tr>\n",
       "  </thead>\n",
       "  <tbody>\n",
       "    <tr>\n",
       "      <th>0</th>\n",
       "      <td>Data Scientist</td>\n",
       "      <td>Site Name: India - Karnataka - Bangalore\\r\\nPo...</td>\n",
       "      <td>3.9</td>\n",
       "      <td>GSK</td>\n",
       "      <td>Bengaluru</td>\n",
       "      <td>Brentford, United Kingdom</td>\n",
       "      <td>10000+ employees</td>\n",
       "      <td>1970-01-01 00:00:00.000001830+00:00</td>\n",
       "      <td>Company - Public</td>\n",
       "      <td>Biotech &amp; Pharmaceuticals</td>\n",
       "      <td>Biotech &amp; Pharmaceuticals</td>\n",
       "      <td>500+ billion (INR)</td>\n",
       "      <td>Pfizer, AstraZeneca, Merck</td>\n",
       "      <td>1</td>\n",
       "      <td>0</td>\n",
       "      <td>0</td>\n",
       "      <td>1</td>\n",
       "      <td>0</td>\n",
       "      <td>0</td>\n",
       "    </tr>\n",
       "    <tr>\n",
       "      <th>1</th>\n",
       "      <td>Data Scientist</td>\n",
       "      <td>Overview\\r\\n\\r\\n\\r\\nWe have an exciting opport...</td>\n",
       "      <td>4.0</td>\n",
       "      <td>Quanticate</td>\n",
       "      <td>Bengaluru</td>\n",
       "      <td>Hitchin, United Kingdom</td>\n",
       "      <td>201 to 500 employees</td>\n",
       "      <td>1970-01-01 00:00:00.000001995+00:00</td>\n",
       "      <td>Company - Private</td>\n",
       "      <td>Biotech &amp; Pharmaceuticals</td>\n",
       "      <td>Biotech &amp; Pharmaceuticals</td>\n",
       "      <td>1 to 5 billion (INR)</td>\n",
       "      <td>GCE Solutions, Parexel, IQVIA</td>\n",
       "      <td>1</td>\n",
       "      <td>0</td>\n",
       "      <td>0</td>\n",
       "      <td>0</td>\n",
       "      <td>0</td>\n",
       "      <td>1</td>\n",
       "    </tr>\n",
       "    <tr>\n",
       "      <th>2</th>\n",
       "      <td>Data Scientist</td>\n",
       "      <td>Provide analytical insights into emerging prob...</td>\n",
       "      <td>3.5</td>\n",
       "      <td>PayPal</td>\n",
       "      <td>Bengaluru</td>\n",
       "      <td>San Jose, CA</td>\n",
       "      <td>10000+ employees</td>\n",
       "      <td>1970-01-01 00:00:00.000001998+00:00</td>\n",
       "      <td>Company - Public</td>\n",
       "      <td>Internet</td>\n",
       "      <td>Information Technology</td>\n",
       "      <td>500+ billion (INR)</td>\n",
       "      <td>Square, Amazon, Apple</td>\n",
       "      <td>1</td>\n",
       "      <td>0</td>\n",
       "      <td>0</td>\n",
       "      <td>0</td>\n",
       "      <td>1</td>\n",
       "      <td>1</td>\n",
       "    </tr>\n",
       "  </tbody>\n",
       "</table>\n",
       "</div>"
      ],
      "text/plain": [
       "        Job.Title                                    Job.Description  Rating  \\\n",
       "0  Data Scientist  Site Name: India - Karnataka - Bangalore\\r\\nPo...     3.9   \n",
       "1  Data Scientist  Overview\\r\\n\\r\\n\\r\\nWe have an exciting opport...     4.0   \n",
       "2  Data Scientist  Provide analytical insights into emerging prob...     3.5   \n",
       "\n",
       "  Company.Name   Location               Headquarters                  Size  \\\n",
       "0          GSK  Bengaluru  Brentford, United Kingdom      10000+ employees   \n",
       "1   Quanticate  Bengaluru    Hitchin, United Kingdom  201 to 500 employees   \n",
       "2       PayPal  Bengaluru               San Jose, CA      10000+ employees   \n",
       "\n",
       "                              Founded  Type.of.ownership  \\\n",
       "0 1970-01-01 00:00:00.000001830+00:00   Company - Public   \n",
       "1 1970-01-01 00:00:00.000001995+00:00  Company - Private   \n",
       "2 1970-01-01 00:00:00.000001998+00:00   Company - Public   \n",
       "\n",
       "                    Industry                     Sector               Revenue  \\\n",
       "0  Biotech & Pharmaceuticals  Biotech & Pharmaceuticals    500+ billion (INR)   \n",
       "1  Biotech & Pharmaceuticals  Biotech & Pharmaceuticals  1 to 5 billion (INR)   \n",
       "2                   Internet     Information Technology    500+ billion (INR)   \n",
       "\n",
       "                     Competitors Python R Prog Excel Hadoop SQL SAS  \n",
       "0     Pfizer, AstraZeneca, Merck      1      0     0      1   0   0  \n",
       "1  GCE Solutions, Parexel, IQVIA      1      0     0      0   0   1  \n",
       "2          Square, Amazon, Apple      1      0     0      0   1   1  "
      ]
     },
     "execution_count": 208,
     "metadata": {},
     "output_type": "execute_result"
    }
   ],
   "source": [
    "df1.head(3)\n",
    "#This df has no -1 values.This is a clean raw dataset required to build K means model.\n"
   ]
  },
  {
   "cell_type": "code",
   "execution_count": 156,
   "metadata": {},
   "outputs": [],
   "source": [
    "# df.columns"
   ]
  },
  {
   "cell_type": "code",
   "execution_count": 309,
   "metadata": {},
   "outputs": [],
   "source": [
    "# from sklearn.cluster import KMeans"
   ]
  },
  {
   "cell_type": "code",
   "execution_count": 218,
   "metadata": {},
   "outputs": [],
   "source": [
    "#Scaling is not neeeded when we build K means model.(avoid scaling).Because we cannot analyse the scaled numerical\n",
    "#data properly.We can analyse the numerical data properly.\n",
    "#Cluster labels will be assogned for scaled num data too.Cluster labels will be assigned for unscaled num data too.\n",
    "#But analysis is useless or difficult in case of un scaled data.\n"
   ]
  },
  {
   "cell_type": "code",
   "execution_count": null,
   "metadata": {},
   "outputs": [],
   "source": [
    "#Feature engineering on cate vars is must in "
   ]
  },
  {
   "cell_type": "code",
   "execution_count": 209,
   "metadata": {},
   "outputs": [],
   "source": [
    "df1_cat=df1.select_dtypes(include=object)\n",
    "#df1 doesnot have -1 values"
   ]
  },
  {
   "cell_type": "code",
   "execution_count": null,
   "metadata": {},
   "outputs": [],
   "source": []
  },
  {
   "cell_type": "code",
   "execution_count": 390,
   "metadata": {},
   "outputs": [],
   "source": [
    "# df1_cat.Rating.value_counts()"
   ]
  },
  {
   "cell_type": "code",
   "execution_count": 190,
   "metadata": {
    "scrolled": false
   },
   "outputs": [],
   "source": [
    "#df1_cat.head(2)#keep r col alone.do not touch it."
   ]
  },
  {
   "cell_type": "code",
   "execution_count": null,
   "metadata": {},
   "outputs": [],
   "source": [
    "#To calculate the count of cate levels in each cate var.\n",
    "#When the count is <=4,perform one hot encoding.\n",
    "#When the count is >=4,perform label encoding.\n",
    "#Job description has many cate levels so u must perform  label encoding in it or remove that column.\n",
    "#I prefer to remove the Job.Description column."
   ]
  },
  {
   "cell_type": "code",
   "execution_count": 210,
   "metadata": {},
   "outputs": [
    {
     "data": {
      "text/html": [
       "<div>\n",
       "<style scoped>\n",
       "    .dataframe tbody tr th:only-of-type {\n",
       "        vertical-align: middle;\n",
       "    }\n",
       "\n",
       "    .dataframe tbody tr th {\n",
       "        vertical-align: top;\n",
       "    }\n",
       "\n",
       "    .dataframe thead th {\n",
       "        text-align: right;\n",
       "    }\n",
       "</style>\n",
       "<table border=\"1\" class=\"dataframe\">\n",
       "  <thead>\n",
       "    <tr style=\"text-align: right;\">\n",
       "      <th></th>\n",
       "      <th>Job.Title</th>\n",
       "      <th>Job.Description</th>\n",
       "      <th>Company.Name</th>\n",
       "      <th>Location</th>\n",
       "      <th>Headquarters</th>\n",
       "      <th>Size</th>\n",
       "      <th>Type.of.ownership</th>\n",
       "      <th>Industry</th>\n",
       "      <th>Sector</th>\n",
       "      <th>Revenue</th>\n",
       "      <th>Competitors</th>\n",
       "      <th>Python</th>\n",
       "      <th>R Prog</th>\n",
       "      <th>Excel</th>\n",
       "      <th>Hadoop</th>\n",
       "      <th>SQL</th>\n",
       "      <th>SAS</th>\n",
       "    </tr>\n",
       "  </thead>\n",
       "  <tbody>\n",
       "    <tr>\n",
       "      <th>0</th>\n",
       "      <td>Data Scientist</td>\n",
       "      <td>Site Name: India - Karnataka - Bangalore\\r\\nPo...</td>\n",
       "      <td>GSK</td>\n",
       "      <td>Bengaluru</td>\n",
       "      <td>Brentford, United Kingdom</td>\n",
       "      <td>10000+ employees</td>\n",
       "      <td>Company - Public</td>\n",
       "      <td>Biotech &amp; Pharmaceuticals</td>\n",
       "      <td>Biotech &amp; Pharmaceuticals</td>\n",
       "      <td>500+ billion (INR)</td>\n",
       "      <td>Pfizer, AstraZeneca, Merck</td>\n",
       "      <td>1</td>\n",
       "      <td>0</td>\n",
       "      <td>0</td>\n",
       "      <td>1</td>\n",
       "      <td>0</td>\n",
       "      <td>0</td>\n",
       "    </tr>\n",
       "    <tr>\n",
       "      <th>1</th>\n",
       "      <td>Data Scientist</td>\n",
       "      <td>Overview\\r\\n\\r\\n\\r\\nWe have an exciting opport...</td>\n",
       "      <td>Quanticate</td>\n",
       "      <td>Bengaluru</td>\n",
       "      <td>Hitchin, United Kingdom</td>\n",
       "      <td>201 to 500 employees</td>\n",
       "      <td>Company - Private</td>\n",
       "      <td>Biotech &amp; Pharmaceuticals</td>\n",
       "      <td>Biotech &amp; Pharmaceuticals</td>\n",
       "      <td>1 to 5 billion (INR)</td>\n",
       "      <td>GCE Solutions, Parexel, IQVIA</td>\n",
       "      <td>1</td>\n",
       "      <td>0</td>\n",
       "      <td>0</td>\n",
       "      <td>0</td>\n",
       "      <td>0</td>\n",
       "      <td>1</td>\n",
       "    </tr>\n",
       "    <tr>\n",
       "      <th>2</th>\n",
       "      <td>Data Scientist</td>\n",
       "      <td>Provide analytical insights into emerging prob...</td>\n",
       "      <td>PayPal</td>\n",
       "      <td>Bengaluru</td>\n",
       "      <td>San Jose, CA</td>\n",
       "      <td>10000+ employees</td>\n",
       "      <td>Company - Public</td>\n",
       "      <td>Internet</td>\n",
       "      <td>Information Technology</td>\n",
       "      <td>500+ billion (INR)</td>\n",
       "      <td>Square, Amazon, Apple</td>\n",
       "      <td>1</td>\n",
       "      <td>0</td>\n",
       "      <td>0</td>\n",
       "      <td>0</td>\n",
       "      <td>1</td>\n",
       "      <td>1</td>\n",
       "    </tr>\n",
       "    <tr>\n",
       "      <th>3</th>\n",
       "      <td>Data Scientist</td>\n",
       "      <td>At Amazon, we strive to be most customer-centr...</td>\n",
       "      <td>Amazon</td>\n",
       "      <td>Hyderabad</td>\n",
       "      <td>Seattle, WA</td>\n",
       "      <td>10000+ employees</td>\n",
       "      <td>Company - Public</td>\n",
       "      <td>Internet</td>\n",
       "      <td>Information Technology</td>\n",
       "      <td>500+ billion (INR)</td>\n",
       "      <td>Google, Microsoft, Walmart</td>\n",
       "      <td>1</td>\n",
       "      <td>0</td>\n",
       "      <td>1</td>\n",
       "      <td>0</td>\n",
       "      <td>1</td>\n",
       "      <td>0</td>\n",
       "    </tr>\n",
       "  </tbody>\n",
       "</table>\n",
       "</div>"
      ],
      "text/plain": [
       "        Job.Title                                    Job.Description  \\\n",
       "0  Data Scientist  Site Name: India - Karnataka - Bangalore\\r\\nPo...   \n",
       "1  Data Scientist  Overview\\r\\n\\r\\n\\r\\nWe have an exciting opport...   \n",
       "2  Data Scientist  Provide analytical insights into emerging prob...   \n",
       "3  Data Scientist  At Amazon, we strive to be most customer-centr...   \n",
       "\n",
       "  Company.Name   Location               Headquarters                  Size  \\\n",
       "0          GSK  Bengaluru  Brentford, United Kingdom      10000+ employees   \n",
       "1   Quanticate  Bengaluru    Hitchin, United Kingdom  201 to 500 employees   \n",
       "2       PayPal  Bengaluru               San Jose, CA      10000+ employees   \n",
       "3       Amazon  Hyderabad                Seattle, WA      10000+ employees   \n",
       "\n",
       "   Type.of.ownership                   Industry                     Sector  \\\n",
       "0   Company - Public  Biotech & Pharmaceuticals  Biotech & Pharmaceuticals   \n",
       "1  Company - Private  Biotech & Pharmaceuticals  Biotech & Pharmaceuticals   \n",
       "2   Company - Public                   Internet     Information Technology   \n",
       "3   Company - Public                   Internet     Information Technology   \n",
       "\n",
       "                Revenue                    Competitors Python R Prog Excel  \\\n",
       "0    500+ billion (INR)     Pfizer, AstraZeneca, Merck      1      0     0   \n",
       "1  1 to 5 billion (INR)  GCE Solutions, Parexel, IQVIA      1      0     0   \n",
       "2    500+ billion (INR)          Square, Amazon, Apple      1      0     0   \n",
       "3    500+ billion (INR)     Google, Microsoft, Walmart      1      0     1   \n",
       "\n",
       "  Hadoop SQL SAS  \n",
       "0      1   0   0  \n",
       "1      0   0   1  \n",
       "2      0   1   1  \n",
       "3      0   1   0  "
      ]
     },
     "execution_count": 210,
     "metadata": {},
     "output_type": "execute_result"
    }
   ],
   "source": [
    "df1_cat.head(4)"
   ]
  },
  {
   "cell_type": "code",
   "execution_count": 64,
   "metadata": {},
   "outputs": [],
   "source": [
    "# df1_cat=df1.select_dtypes(include=(object))"
   ]
  },
  {
   "cell_type": "code",
   "execution_count": null,
   "metadata": {
    "scrolled": true
   },
   "outputs": [],
   "source": []
  },
  {
   "cell_type": "code",
   "execution_count": 393,
   "metadata": {},
   "outputs": [],
   "source": [
    "# for i in df_cat.columns:\n",
    "#     print(df_cat[i].value_counts())"
   ]
  },
  {
   "cell_type": "code",
   "execution_count": 47,
   "metadata": {},
   "outputs": [],
   "source": [
    "# df.columns[0]"
   ]
  },
  {
   "cell_type": "code",
   "execution_count": null,
   "metadata": {
    "scrolled": true
   },
   "outputs": [],
   "source": []
  },
  {
   "cell_type": "code",
   "execution_count": null,
   "metadata": {
    "scrolled": false
   },
   "outputs": [],
   "source": []
  },
  {
   "cell_type": "code",
   "execution_count": 30,
   "metadata": {},
   "outputs": [
    {
     "data": {
      "text/plain": [
       "'Job.Title'"
      ]
     },
     "execution_count": 30,
     "metadata": {},
     "output_type": "execute_result"
    }
   ],
   "source": [
    "df1_cat.columns[0]"
   ]
  },
  {
   "cell_type": "code",
   "execution_count": 211,
   "metadata": {
    "scrolled": true
   },
   "outputs": [],
   "source": [
    "df1_cat=pd.get_dummies(data=df1_cat,columns=[df1_cat.columns[0]])\n",
    "#Dummy variables are stored in  df_cat dataframe.In place of that column 4 new columns will be created.\n",
    "#There is no need to drop the old cate var."
   ]
  },
  {
   "cell_type": "code",
   "execution_count": null,
   "metadata": {},
   "outputs": [],
   "source": []
  },
  {
   "cell_type": "code",
   "execution_count": 32,
   "metadata": {},
   "outputs": [
    {
     "data": {
      "text/plain": [
       "'Job.Description'"
      ]
     },
     "execution_count": 32,
     "metadata": {},
     "output_type": "execute_result"
    }
   ],
   "source": [
    "df1_cat.columns[0]"
   ]
  },
  {
   "cell_type": "code",
   "execution_count": 212,
   "metadata": {},
   "outputs": [],
   "source": [
    "df1_cat.drop(columns=[df1_cat.columns[0]],axis=1,inplace=True)\n",
    "#I cannot take mode,mean,count data so i removed Job description column."
   ]
  },
  {
   "cell_type": "code",
   "execution_count": 44,
   "metadata": {
    "scrolled": true
   },
   "outputs": [],
   "source": [
    "#df1_cat.head(3)"
   ]
  },
  {
   "cell_type": "code",
   "execution_count": null,
   "metadata": {},
   "outputs": [],
   "source": [
    "#Location column has 20 plus cate vars and all 20 cate levels are important.So we perform one hot encoding here.\n",
    "#"
   ]
  },
  {
   "cell_type": "code",
   "execution_count": 213,
   "metadata": {},
   "outputs": [],
   "source": [
    "# df_cat.drop(labels=df_cat.columns[1],axis=1,inplace=True)\n",
    "import sklearn.preprocessing as p"
   ]
  },
  {
   "cell_type": "code",
   "execution_count": 214,
   "metadata": {},
   "outputs": [],
   "source": [
    "label_encoder = p.LabelEncoder()   \n",
    "# Encode labels in column 'species'. \n",
    "df1_cat['Location']= label_encoder.fit_transform(df1_cat['Location']) "
   ]
  },
  {
   "cell_type": "code",
   "execution_count": 36,
   "metadata": {
    "scrolled": false
   },
   "outputs": [
    {
     "data": {
      "text/html": [
       "<div>\n",
       "<style scoped>\n",
       "    .dataframe tbody tr th:only-of-type {\n",
       "        vertical-align: middle;\n",
       "    }\n",
       "\n",
       "    .dataframe tbody tr th {\n",
       "        vertical-align: top;\n",
       "    }\n",
       "\n",
       "    .dataframe thead th {\n",
       "        text-align: right;\n",
       "    }\n",
       "</style>\n",
       "<table border=\"1\" class=\"dataframe\">\n",
       "  <thead>\n",
       "    <tr style=\"text-align: right;\">\n",
       "      <th></th>\n",
       "      <th>Rating</th>\n",
       "      <th>Company.Name</th>\n",
       "      <th>Location</th>\n",
       "      <th>Headquarters</th>\n",
       "      <th>Size</th>\n",
       "      <th>Type.of.ownership</th>\n",
       "      <th>Industry</th>\n",
       "      <th>Sector</th>\n",
       "      <th>Revenue</th>\n",
       "      <th>Competitors</th>\n",
       "      <th>Python</th>\n",
       "      <th>R Prog</th>\n",
       "      <th>Excel</th>\n",
       "      <th>Hadoop</th>\n",
       "      <th>SQL</th>\n",
       "      <th>SAS</th>\n",
       "      <th>Job.Title_Data Analyst</th>\n",
       "      <th>Job.Title_Data Engineer</th>\n",
       "      <th>Job.Title_Data Scientist</th>\n",
       "      <th>Job.Title_Machine Learning Engineer</th>\n",
       "    </tr>\n",
       "  </thead>\n",
       "  <tbody>\n",
       "    <tr>\n",
       "      <th>0</th>\n",
       "      <td>3.9</td>\n",
       "      <td>GSK</td>\n",
       "      <td>3</td>\n",
       "      <td>Brentford, United Kingdom</td>\n",
       "      <td>10000+ employees</td>\n",
       "      <td>Company - Public</td>\n",
       "      <td>Biotech &amp; Pharmaceuticals</td>\n",
       "      <td>Biotech &amp; Pharmaceuticals</td>\n",
       "      <td>500+ billion (INR)</td>\n",
       "      <td>Pfizer, AstraZeneca, Merck</td>\n",
       "      <td>1</td>\n",
       "      <td>0</td>\n",
       "      <td>0</td>\n",
       "      <td>1</td>\n",
       "      <td>0</td>\n",
       "      <td>0</td>\n",
       "      <td>0</td>\n",
       "      <td>0</td>\n",
       "      <td>1</td>\n",
       "      <td>0</td>\n",
       "    </tr>\n",
       "    <tr>\n",
       "      <th>1</th>\n",
       "      <td>4.0</td>\n",
       "      <td>Quanticate</td>\n",
       "      <td>3</td>\n",
       "      <td>Hitchin, United Kingdom</td>\n",
       "      <td>201 to 500 employees</td>\n",
       "      <td>Company - Private</td>\n",
       "      <td>Biotech &amp; Pharmaceuticals</td>\n",
       "      <td>Biotech &amp; Pharmaceuticals</td>\n",
       "      <td>1 to 5 billion (INR)</td>\n",
       "      <td>GCE Solutions, Parexel, IQVIA</td>\n",
       "      <td>1</td>\n",
       "      <td>0</td>\n",
       "      <td>0</td>\n",
       "      <td>0</td>\n",
       "      <td>0</td>\n",
       "      <td>1</td>\n",
       "      <td>0</td>\n",
       "      <td>0</td>\n",
       "      <td>1</td>\n",
       "      <td>0</td>\n",
       "    </tr>\n",
       "  </tbody>\n",
       "</table>\n",
       "</div>"
      ],
      "text/plain": [
       "  Rating Company.Name  Location               Headquarters  \\\n",
       "0    3.9          GSK         3  Brentford, United Kingdom   \n",
       "1    4.0   Quanticate         3    Hitchin, United Kingdom   \n",
       "\n",
       "                   Size  Type.of.ownership                   Industry  \\\n",
       "0      10000+ employees   Company - Public  Biotech & Pharmaceuticals   \n",
       "1  201 to 500 employees  Company - Private  Biotech & Pharmaceuticals   \n",
       "\n",
       "                      Sector               Revenue  \\\n",
       "0  Biotech & Pharmaceuticals    500+ billion (INR)   \n",
       "1  Biotech & Pharmaceuticals  1 to 5 billion (INR)   \n",
       "\n",
       "                     Competitors Python R Prog Excel Hadoop SQL SAS  \\\n",
       "0     Pfizer, AstraZeneca, Merck      1      0     0      1   0   0   \n",
       "1  GCE Solutions, Parexel, IQVIA      1      0     0      0   0   1   \n",
       "\n",
       "   Job.Title_Data Analyst  Job.Title_Data Engineer  Job.Title_Data Scientist  \\\n",
       "0                       0                        0                         1   \n",
       "1                       0                        0                         1   \n",
       "\n",
       "   Job.Title_Machine Learning Engineer  \n",
       "0                                    0  \n",
       "1                                    0  "
      ]
     },
     "execution_count": 36,
     "metadata": {},
     "output_type": "execute_result"
    }
   ],
   "source": [
    "df1_cat.head(2)"
   ]
  },
  {
   "cell_type": "code",
   "execution_count": null,
   "metadata": {},
   "outputs": [],
   "source": [
    "#to create dummy variables for company name column"
   ]
  },
  {
   "cell_type": "code",
   "execution_count": 215,
   "metadata": {},
   "outputs": [
    {
     "data": {
      "text/plain": [
       "'Location'"
      ]
     },
     "execution_count": 215,
     "metadata": {},
     "output_type": "execute_result"
    }
   ],
   "source": [
    "df1_cat.columns[1]"
   ]
  },
  {
   "cell_type": "code",
   "execution_count": null,
   "metadata": {},
   "outputs": [],
   "source": []
  },
  {
   "cell_type": "code",
   "execution_count": 38,
   "metadata": {},
   "outputs": [],
   "source": [
    "df1_cat=pd.get_dummies(data=df1_cat,columns=[df1_cat.columns[1]])"
   ]
  },
  {
   "cell_type": "code",
   "execution_count": 75,
   "metadata": {
    "scrolled": true
   },
   "outputs": [],
   "source": [
    "# df1_cat.head(2)"
   ]
  },
  {
   "cell_type": "code",
   "execution_count": null,
   "metadata": {},
   "outputs": [],
   "source": []
  },
  {
   "cell_type": "code",
   "execution_count": 39,
   "metadata": {
    "scrolled": true
   },
   "outputs": [
    {
     "data": {
      "text/html": [
       "<div>\n",
       "<style scoped>\n",
       "    .dataframe tbody tr th:only-of-type {\n",
       "        vertical-align: middle;\n",
       "    }\n",
       "\n",
       "    .dataframe tbody tr th {\n",
       "        vertical-align: top;\n",
       "    }\n",
       "\n",
       "    .dataframe thead th {\n",
       "        text-align: right;\n",
       "    }\n",
       "</style>\n",
       "<table border=\"1\" class=\"dataframe\">\n",
       "  <thead>\n",
       "    <tr style=\"text-align: right;\">\n",
       "      <th></th>\n",
       "      <th>Rating</th>\n",
       "      <th>Location</th>\n",
       "      <th>Headquarters</th>\n",
       "      <th>Size</th>\n",
       "      <th>Type.of.ownership</th>\n",
       "      <th>Industry</th>\n",
       "      <th>Sector</th>\n",
       "      <th>Revenue</th>\n",
       "      <th>Competitors</th>\n",
       "      <th>Python</th>\n",
       "      <th>...</th>\n",
       "      <th>Company.Name_legalbabu corporate services pvt ltd</th>\n",
       "      <th>Company.Name_lemark institute of art</th>\n",
       "      <th>Company.Name_loyalytics consulting</th>\n",
       "      <th>Company.Name_mplify technologies</th>\n",
       "      <th>Company.Name_o9 Solutions, Inc.</th>\n",
       "      <th>Company.Name_smart4talent</th>\n",
       "      <th>Company.Name_torcai digital media</th>\n",
       "      <th>Company.Name_upGrad Education Private Limited</th>\n",
       "      <th>Company.Name_zBliss Technologies</th>\n",
       "      <th>Company.Name_zyoin</th>\n",
       "    </tr>\n",
       "  </thead>\n",
       "  <tbody>\n",
       "    <tr>\n",
       "      <th>0</th>\n",
       "      <td>3.9</td>\n",
       "      <td>3</td>\n",
       "      <td>Brentford, United Kingdom</td>\n",
       "      <td>10000+ employees</td>\n",
       "      <td>Company - Public</td>\n",
       "      <td>Biotech &amp; Pharmaceuticals</td>\n",
       "      <td>Biotech &amp; Pharmaceuticals</td>\n",
       "      <td>500+ billion (INR)</td>\n",
       "      <td>Pfizer, AstraZeneca, Merck</td>\n",
       "      <td>1</td>\n",
       "      <td>...</td>\n",
       "      <td>0</td>\n",
       "      <td>0</td>\n",
       "      <td>0</td>\n",
       "      <td>0</td>\n",
       "      <td>0</td>\n",
       "      <td>0</td>\n",
       "      <td>0</td>\n",
       "      <td>0</td>\n",
       "      <td>0</td>\n",
       "      <td>0</td>\n",
       "    </tr>\n",
       "    <tr>\n",
       "      <th>1</th>\n",
       "      <td>4.0</td>\n",
       "      <td>3</td>\n",
       "      <td>Hitchin, United Kingdom</td>\n",
       "      <td>201 to 500 employees</td>\n",
       "      <td>Company - Private</td>\n",
       "      <td>Biotech &amp; Pharmaceuticals</td>\n",
       "      <td>Biotech &amp; Pharmaceuticals</td>\n",
       "      <td>1 to 5 billion (INR)</td>\n",
       "      <td>GCE Solutions, Parexel, IQVIA</td>\n",
       "      <td>1</td>\n",
       "      <td>...</td>\n",
       "      <td>0</td>\n",
       "      <td>0</td>\n",
       "      <td>0</td>\n",
       "      <td>0</td>\n",
       "      <td>0</td>\n",
       "      <td>0</td>\n",
       "      <td>0</td>\n",
       "      <td>0</td>\n",
       "      <td>0</td>\n",
       "      <td>0</td>\n",
       "    </tr>\n",
       "    <tr>\n",
       "      <th>2</th>\n",
       "      <td>3.5</td>\n",
       "      <td>3</td>\n",
       "      <td>San Jose, CA</td>\n",
       "      <td>10000+ employees</td>\n",
       "      <td>Company - Public</td>\n",
       "      <td>Internet</td>\n",
       "      <td>Information Technology</td>\n",
       "      <td>500+ billion (INR)</td>\n",
       "      <td>Square, Amazon, Apple</td>\n",
       "      <td>1</td>\n",
       "      <td>...</td>\n",
       "      <td>0</td>\n",
       "      <td>0</td>\n",
       "      <td>0</td>\n",
       "      <td>0</td>\n",
       "      <td>0</td>\n",
       "      <td>0</td>\n",
       "      <td>0</td>\n",
       "      <td>0</td>\n",
       "      <td>0</td>\n",
       "      <td>0</td>\n",
       "    </tr>\n",
       "  </tbody>\n",
       "</table>\n",
       "<p>3 rows × 474 columns</p>\n",
       "</div>"
      ],
      "text/plain": [
       "  Rating  Location               Headquarters                  Size  \\\n",
       "0    3.9         3  Brentford, United Kingdom      10000+ employees   \n",
       "1    4.0         3    Hitchin, United Kingdom  201 to 500 employees   \n",
       "2    3.5         3               San Jose, CA      10000+ employees   \n",
       "\n",
       "   Type.of.ownership                   Industry                     Sector  \\\n",
       "0   Company - Public  Biotech & Pharmaceuticals  Biotech & Pharmaceuticals   \n",
       "1  Company - Private  Biotech & Pharmaceuticals  Biotech & Pharmaceuticals   \n",
       "2   Company - Public                   Internet     Information Technology   \n",
       "\n",
       "                Revenue                    Competitors Python  ...  \\\n",
       "0    500+ billion (INR)     Pfizer, AstraZeneca, Merck      1  ...   \n",
       "1  1 to 5 billion (INR)  GCE Solutions, Parexel, IQVIA      1  ...   \n",
       "2    500+ billion (INR)          Square, Amazon, Apple      1  ...   \n",
       "\n",
       "  Company.Name_legalbabu corporate services pvt ltd  \\\n",
       "0                                                 0   \n",
       "1                                                 0   \n",
       "2                                                 0   \n",
       "\n",
       "  Company.Name_lemark institute of art Company.Name_loyalytics consulting  \\\n",
       "0                                    0                                  0   \n",
       "1                                    0                                  0   \n",
       "2                                    0                                  0   \n",
       "\n",
       "  Company.Name_mplify technologies Company.Name_o9 Solutions, Inc.  \\\n",
       "0                                0                               0   \n",
       "1                                0                               0   \n",
       "2                                0                               0   \n",
       "\n",
       "   Company.Name_smart4talent  Company.Name_torcai digital media  \\\n",
       "0                          0                                  0   \n",
       "1                          0                                  0   \n",
       "2                          0                                  0   \n",
       "\n",
       "   Company.Name_upGrad Education Private Limited  \\\n",
       "0                                              0   \n",
       "1                                              0   \n",
       "2                                              0   \n",
       "\n",
       "   Company.Name_zBliss Technologies  Company.Name_zyoin  \n",
       "0                                 0                   0  \n",
       "1                                 0                   0  \n",
       "2                                 0                   0  \n",
       "\n",
       "[3 rows x 474 columns]"
      ]
     },
     "execution_count": 39,
     "metadata": {},
     "output_type": "execute_result"
    }
   ],
   "source": [
    "df1_cat.head(3)"
   ]
  },
  {
   "cell_type": "code",
   "execution_count": 40,
   "metadata": {},
   "outputs": [
    {
     "data": {
      "text/plain": [
       "'Headquarters'"
      ]
     },
     "execution_count": 40,
     "metadata": {},
     "output_type": "execute_result"
    }
   ],
   "source": [
    "df1_cat.columns[2]"
   ]
  },
  {
   "cell_type": "code",
   "execution_count": 41,
   "metadata": {},
   "outputs": [],
   "source": [
    "df1_cat.drop(columns=[df1_cat.columns[2]],axis=1,inplace=True)"
   ]
  },
  {
   "cell_type": "code",
   "execution_count": 42,
   "metadata": {
    "scrolled": true
   },
   "outputs": [
    {
     "data": {
      "text/html": [
       "<div>\n",
       "<style scoped>\n",
       "    .dataframe tbody tr th:only-of-type {\n",
       "        vertical-align: middle;\n",
       "    }\n",
       "\n",
       "    .dataframe tbody tr th {\n",
       "        vertical-align: top;\n",
       "    }\n",
       "\n",
       "    .dataframe thead th {\n",
       "        text-align: right;\n",
       "    }\n",
       "</style>\n",
       "<table border=\"1\" class=\"dataframe\">\n",
       "  <thead>\n",
       "    <tr style=\"text-align: right;\">\n",
       "      <th></th>\n",
       "      <th>Rating</th>\n",
       "      <th>Location</th>\n",
       "      <th>Size</th>\n",
       "      <th>Type.of.ownership</th>\n",
       "      <th>Industry</th>\n",
       "      <th>Sector</th>\n",
       "      <th>Revenue</th>\n",
       "      <th>Competitors</th>\n",
       "      <th>Python</th>\n",
       "      <th>R Prog</th>\n",
       "      <th>...</th>\n",
       "      <th>Company.Name_legalbabu corporate services pvt ltd</th>\n",
       "      <th>Company.Name_lemark institute of art</th>\n",
       "      <th>Company.Name_loyalytics consulting</th>\n",
       "      <th>Company.Name_mplify technologies</th>\n",
       "      <th>Company.Name_o9 Solutions, Inc.</th>\n",
       "      <th>Company.Name_smart4talent</th>\n",
       "      <th>Company.Name_torcai digital media</th>\n",
       "      <th>Company.Name_upGrad Education Private Limited</th>\n",
       "      <th>Company.Name_zBliss Technologies</th>\n",
       "      <th>Company.Name_zyoin</th>\n",
       "    </tr>\n",
       "  </thead>\n",
       "  <tbody>\n",
       "    <tr>\n",
       "      <th>0</th>\n",
       "      <td>3.9</td>\n",
       "      <td>3</td>\n",
       "      <td>10000+ employees</td>\n",
       "      <td>Company - Public</td>\n",
       "      <td>Biotech &amp; Pharmaceuticals</td>\n",
       "      <td>Biotech &amp; Pharmaceuticals</td>\n",
       "      <td>500+ billion (INR)</td>\n",
       "      <td>Pfizer, AstraZeneca, Merck</td>\n",
       "      <td>1</td>\n",
       "      <td>0</td>\n",
       "      <td>...</td>\n",
       "      <td>0</td>\n",
       "      <td>0</td>\n",
       "      <td>0</td>\n",
       "      <td>0</td>\n",
       "      <td>0</td>\n",
       "      <td>0</td>\n",
       "      <td>0</td>\n",
       "      <td>0</td>\n",
       "      <td>0</td>\n",
       "      <td>0</td>\n",
       "    </tr>\n",
       "    <tr>\n",
       "      <th>1</th>\n",
       "      <td>4.0</td>\n",
       "      <td>3</td>\n",
       "      <td>201 to 500 employees</td>\n",
       "      <td>Company - Private</td>\n",
       "      <td>Biotech &amp; Pharmaceuticals</td>\n",
       "      <td>Biotech &amp; Pharmaceuticals</td>\n",
       "      <td>1 to 5 billion (INR)</td>\n",
       "      <td>GCE Solutions, Parexel, IQVIA</td>\n",
       "      <td>1</td>\n",
       "      <td>0</td>\n",
       "      <td>...</td>\n",
       "      <td>0</td>\n",
       "      <td>0</td>\n",
       "      <td>0</td>\n",
       "      <td>0</td>\n",
       "      <td>0</td>\n",
       "      <td>0</td>\n",
       "      <td>0</td>\n",
       "      <td>0</td>\n",
       "      <td>0</td>\n",
       "      <td>0</td>\n",
       "    </tr>\n",
       "    <tr>\n",
       "      <th>2</th>\n",
       "      <td>3.5</td>\n",
       "      <td>3</td>\n",
       "      <td>10000+ employees</td>\n",
       "      <td>Company - Public</td>\n",
       "      <td>Internet</td>\n",
       "      <td>Information Technology</td>\n",
       "      <td>500+ billion (INR)</td>\n",
       "      <td>Square, Amazon, Apple</td>\n",
       "      <td>1</td>\n",
       "      <td>0</td>\n",
       "      <td>...</td>\n",
       "      <td>0</td>\n",
       "      <td>0</td>\n",
       "      <td>0</td>\n",
       "      <td>0</td>\n",
       "      <td>0</td>\n",
       "      <td>0</td>\n",
       "      <td>0</td>\n",
       "      <td>0</td>\n",
       "      <td>0</td>\n",
       "      <td>0</td>\n",
       "    </tr>\n",
       "  </tbody>\n",
       "</table>\n",
       "<p>3 rows × 473 columns</p>\n",
       "</div>"
      ],
      "text/plain": [
       "  Rating  Location                  Size  Type.of.ownership  \\\n",
       "0    3.9         3      10000+ employees   Company - Public   \n",
       "1    4.0         3  201 to 500 employees  Company - Private   \n",
       "2    3.5         3      10000+ employees   Company - Public   \n",
       "\n",
       "                    Industry                     Sector               Revenue  \\\n",
       "0  Biotech & Pharmaceuticals  Biotech & Pharmaceuticals    500+ billion (INR)   \n",
       "1  Biotech & Pharmaceuticals  Biotech & Pharmaceuticals  1 to 5 billion (INR)   \n",
       "2                   Internet     Information Technology    500+ billion (INR)   \n",
       "\n",
       "                     Competitors Python R Prog  ...  \\\n",
       "0     Pfizer, AstraZeneca, Merck      1      0  ...   \n",
       "1  GCE Solutions, Parexel, IQVIA      1      0  ...   \n",
       "2          Square, Amazon, Apple      1      0  ...   \n",
       "\n",
       "  Company.Name_legalbabu corporate services pvt ltd  \\\n",
       "0                                                 0   \n",
       "1                                                 0   \n",
       "2                                                 0   \n",
       "\n",
       "  Company.Name_lemark institute of art Company.Name_loyalytics consulting  \\\n",
       "0                                    0                                  0   \n",
       "1                                    0                                  0   \n",
       "2                                    0                                  0   \n",
       "\n",
       "  Company.Name_mplify technologies  Company.Name_o9 Solutions, Inc.  \\\n",
       "0                                0                                0   \n",
       "1                                0                                0   \n",
       "2                                0                                0   \n",
       "\n",
       "   Company.Name_smart4talent  Company.Name_torcai digital media  \\\n",
       "0                          0                                  0   \n",
       "1                          0                                  0   \n",
       "2                          0                                  0   \n",
       "\n",
       "   Company.Name_upGrad Education Private Limited  \\\n",
       "0                                              0   \n",
       "1                                              0   \n",
       "2                                              0   \n",
       "\n",
       "   Company.Name_zBliss Technologies  Company.Name_zyoin  \n",
       "0                                 0                   0  \n",
       "1                                 0                   0  \n",
       "2                                 0                   0  \n",
       "\n",
       "[3 rows x 473 columns]"
      ]
     },
     "execution_count": 42,
     "metadata": {},
     "output_type": "execute_result"
    }
   ],
   "source": [
    "df1_cat.head(3)"
   ]
  },
  {
   "cell_type": "code",
   "execution_count": 85,
   "metadata": {},
   "outputs": [],
   "source": [
    "# df1_cat=pd.get_dummies(data=df1_cat,columns=[df1_cat.columns[1]])"
   ]
  },
  {
   "cell_type": "code",
   "execution_count": 75,
   "metadata": {
    "scrolled": true
   },
   "outputs": [],
   "source": [
    "# df1_cat.head(2)"
   ]
  },
  {
   "cell_type": "code",
   "execution_count": null,
   "metadata": {},
   "outputs": [],
   "source": []
  },
  {
   "cell_type": "code",
   "execution_count": 62,
   "metadata": {
    "scrolled": true
   },
   "outputs": [],
   "source": [
    "# df_cat=pd.get_dummies(data=df_cat,columns=['Location'])"
   ]
  },
  {
   "cell_type": "code",
   "execution_count": 43,
   "metadata": {
    "scrolled": true
   },
   "outputs": [],
   "source": [
    "df1_cat=pd.get_dummies(data=df1_cat,columns=['Size'])"
   ]
  },
  {
   "cell_type": "code",
   "execution_count": 128,
   "metadata": {
    "scrolled": false
   },
   "outputs": [
    {
     "data": {
      "text/html": [
       "<div>\n",
       "<style scoped>\n",
       "    .dataframe tbody tr th:only-of-type {\n",
       "        vertical-align: middle;\n",
       "    }\n",
       "\n",
       "    .dataframe tbody tr th {\n",
       "        vertical-align: top;\n",
       "    }\n",
       "\n",
       "    .dataframe thead th {\n",
       "        text-align: right;\n",
       "    }\n",
       "</style>\n",
       "<table border=\"1\" class=\"dataframe\">\n",
       "  <thead>\n",
       "    <tr style=\"text-align: right;\">\n",
       "      <th></th>\n",
       "      <th>Rating</th>\n",
       "      <th>Location</th>\n",
       "      <th>Type.of.ownership</th>\n",
       "      <th>Industry</th>\n",
       "      <th>Sector</th>\n",
       "      <th>Revenue</th>\n",
       "      <th>Competitors</th>\n",
       "      <th>Python</th>\n",
       "      <th>R Prog</th>\n",
       "      <th>Excel</th>\n",
       "      <th>...</th>\n",
       "      <th>Company.Name_zBliss Technologies</th>\n",
       "      <th>Company.Name_zyoin</th>\n",
       "      <th>Size_1 to 50 employees</th>\n",
       "      <th>Size_10000+ employees</th>\n",
       "      <th>Size_1001 to 5000 employees</th>\n",
       "      <th>Size_201 to 500 employees</th>\n",
       "      <th>Size_5001 to 10000 employees</th>\n",
       "      <th>Size_501 to 1000 employees</th>\n",
       "      <th>Size_51 to 200 employees</th>\n",
       "      <th>Size_not mentioned</th>\n",
       "    </tr>\n",
       "  </thead>\n",
       "  <tbody>\n",
       "    <tr>\n",
       "      <th>0</th>\n",
       "      <td>3.9</td>\n",
       "      <td>3</td>\n",
       "      <td>Company - Public</td>\n",
       "      <td>Biotech &amp; Pharmaceuticals</td>\n",
       "      <td>Biotech &amp; Pharmaceuticals</td>\n",
       "      <td>500+ billion (INR)</td>\n",
       "      <td>Pfizer, AstraZeneca, Merck</td>\n",
       "      <td>1</td>\n",
       "      <td>0</td>\n",
       "      <td>0</td>\n",
       "      <td>...</td>\n",
       "      <td>0</td>\n",
       "      <td>0</td>\n",
       "      <td>0</td>\n",
       "      <td>1</td>\n",
       "      <td>0</td>\n",
       "      <td>0</td>\n",
       "      <td>0</td>\n",
       "      <td>0</td>\n",
       "      <td>0</td>\n",
       "      <td>0</td>\n",
       "    </tr>\n",
       "    <tr>\n",
       "      <th>1</th>\n",
       "      <td>4.0</td>\n",
       "      <td>3</td>\n",
       "      <td>Company - Private</td>\n",
       "      <td>Biotech &amp; Pharmaceuticals</td>\n",
       "      <td>Biotech &amp; Pharmaceuticals</td>\n",
       "      <td>1 to 5 billion (INR)</td>\n",
       "      <td>GCE Solutions, Parexel, IQVIA</td>\n",
       "      <td>1</td>\n",
       "      <td>0</td>\n",
       "      <td>0</td>\n",
       "      <td>...</td>\n",
       "      <td>0</td>\n",
       "      <td>0</td>\n",
       "      <td>0</td>\n",
       "      <td>0</td>\n",
       "      <td>0</td>\n",
       "      <td>1</td>\n",
       "      <td>0</td>\n",
       "      <td>0</td>\n",
       "      <td>0</td>\n",
       "      <td>0</td>\n",
       "    </tr>\n",
       "  </tbody>\n",
       "</table>\n",
       "<p>2 rows × 480 columns</p>\n",
       "</div>"
      ],
      "text/plain": [
       "  Rating  Location  Type.of.ownership                   Industry  \\\n",
       "0    3.9         3   Company - Public  Biotech & Pharmaceuticals   \n",
       "1    4.0         3  Company - Private  Biotech & Pharmaceuticals   \n",
       "\n",
       "                      Sector               Revenue  \\\n",
       "0  Biotech & Pharmaceuticals    500+ billion (INR)   \n",
       "1  Biotech & Pharmaceuticals  1 to 5 billion (INR)   \n",
       "\n",
       "                     Competitors Python R Prog Excel  ...  \\\n",
       "0     Pfizer, AstraZeneca, Merck      1      0     0  ...   \n",
       "1  GCE Solutions, Parexel, IQVIA      1      0     0  ...   \n",
       "\n",
       "  Company.Name_zBliss Technologies Company.Name_zyoin Size_1 to 50 employees  \\\n",
       "0                                0                  0                      0   \n",
       "1                                0                  0                      0   \n",
       "\n",
       "   Size_10000+ employees  Size_1001 to 5000 employees  \\\n",
       "0                      1                            0   \n",
       "1                      0                            0   \n",
       "\n",
       "   Size_201 to 500 employees  Size_5001 to 10000 employees  \\\n",
       "0                          0                             0   \n",
       "1                          1                             0   \n",
       "\n",
       "   Size_501 to 1000 employees  Size_51 to 200 employees  Size_not mentioned  \n",
       "0                           0                         0                   0  \n",
       "1                           0                         0                   0  \n",
       "\n",
       "[2 rows x 480 columns]"
      ]
     },
     "execution_count": 128,
     "metadata": {},
     "output_type": "execute_result"
    }
   ],
   "source": [
    "df1_cat.head(2)"
   ]
  },
  {
   "cell_type": "code",
   "execution_count": 83,
   "metadata": {},
   "outputs": [],
   "source": [
    "# df_cat.columns"
   ]
  },
  {
   "cell_type": "code",
   "execution_count": 235,
   "metadata": {},
   "outputs": [],
   "source": [
    "# df_cat.columns[0]"
   ]
  },
  {
   "cell_type": "code",
   "execution_count": 44,
   "metadata": {},
   "outputs": [
    {
     "data": {
      "text/plain": [
       "'Type.of.ownership'"
      ]
     },
     "execution_count": 44,
     "metadata": {},
     "output_type": "execute_result"
    }
   ],
   "source": [
    "df1_cat.columns[2]"
   ]
  },
  {
   "cell_type": "code",
   "execution_count": null,
   "metadata": {},
   "outputs": [],
   "source": []
  },
  {
   "cell_type": "code",
   "execution_count": 45,
   "metadata": {
    "scrolled": true
   },
   "outputs": [],
   "source": [
    "df1_cat=pd.get_dummies(data=df1_cat,columns=[df1_cat.columns[2]])"
   ]
  },
  {
   "cell_type": "code",
   "execution_count": 131,
   "metadata": {
    "scrolled": true
   },
   "outputs": [
    {
     "data": {
      "text/html": [
       "<div>\n",
       "<style scoped>\n",
       "    .dataframe tbody tr th:only-of-type {\n",
       "        vertical-align: middle;\n",
       "    }\n",
       "\n",
       "    .dataframe tbody tr th {\n",
       "        vertical-align: top;\n",
       "    }\n",
       "\n",
       "    .dataframe thead th {\n",
       "        text-align: right;\n",
       "    }\n",
       "</style>\n",
       "<table border=\"1\" class=\"dataframe\">\n",
       "  <thead>\n",
       "    <tr style=\"text-align: right;\">\n",
       "      <th></th>\n",
       "      <th>Rating</th>\n",
       "      <th>Location</th>\n",
       "      <th>Industry</th>\n",
       "      <th>Sector</th>\n",
       "      <th>Revenue</th>\n",
       "      <th>Competitors</th>\n",
       "      <th>Python</th>\n",
       "      <th>R Prog</th>\n",
       "      <th>Excel</th>\n",
       "      <th>Hadoop</th>\n",
       "      <th>...</th>\n",
       "      <th>Size_1001 to 5000 employees</th>\n",
       "      <th>Size_201 to 500 employees</th>\n",
       "      <th>Size_5001 to 10000 employees</th>\n",
       "      <th>Size_501 to 1000 employees</th>\n",
       "      <th>Size_51 to 200 employees</th>\n",
       "      <th>Size_not mentioned</th>\n",
       "      <th>Type.of.ownership_Company - Private</th>\n",
       "      <th>Type.of.ownership_Company - Public</th>\n",
       "      <th>Type.of.ownership_Non-profit Organisation</th>\n",
       "      <th>Type.of.ownership_not mentioned</th>\n",
       "    </tr>\n",
       "  </thead>\n",
       "  <tbody>\n",
       "    <tr>\n",
       "      <th>0</th>\n",
       "      <td>3.9</td>\n",
       "      <td>3</td>\n",
       "      <td>Biotech &amp; Pharmaceuticals</td>\n",
       "      <td>Biotech &amp; Pharmaceuticals</td>\n",
       "      <td>500+ billion (INR)</td>\n",
       "      <td>Pfizer, AstraZeneca, Merck</td>\n",
       "      <td>1</td>\n",
       "      <td>0</td>\n",
       "      <td>0</td>\n",
       "      <td>1</td>\n",
       "      <td>...</td>\n",
       "      <td>0</td>\n",
       "      <td>0</td>\n",
       "      <td>0</td>\n",
       "      <td>0</td>\n",
       "      <td>0</td>\n",
       "      <td>0</td>\n",
       "      <td>0</td>\n",
       "      <td>1</td>\n",
       "      <td>0</td>\n",
       "      <td>0</td>\n",
       "    </tr>\n",
       "    <tr>\n",
       "      <th>1</th>\n",
       "      <td>4.0</td>\n",
       "      <td>3</td>\n",
       "      <td>Biotech &amp; Pharmaceuticals</td>\n",
       "      <td>Biotech &amp; Pharmaceuticals</td>\n",
       "      <td>1 to 5 billion (INR)</td>\n",
       "      <td>GCE Solutions, Parexel, IQVIA</td>\n",
       "      <td>1</td>\n",
       "      <td>0</td>\n",
       "      <td>0</td>\n",
       "      <td>0</td>\n",
       "      <td>...</td>\n",
       "      <td>0</td>\n",
       "      <td>1</td>\n",
       "      <td>0</td>\n",
       "      <td>0</td>\n",
       "      <td>0</td>\n",
       "      <td>0</td>\n",
       "      <td>1</td>\n",
       "      <td>0</td>\n",
       "      <td>0</td>\n",
       "      <td>0</td>\n",
       "    </tr>\n",
       "    <tr>\n",
       "      <th>2</th>\n",
       "      <td>3.5</td>\n",
       "      <td>3</td>\n",
       "      <td>Internet</td>\n",
       "      <td>Information Technology</td>\n",
       "      <td>500+ billion (INR)</td>\n",
       "      <td>Square, Amazon, Apple</td>\n",
       "      <td>1</td>\n",
       "      <td>0</td>\n",
       "      <td>0</td>\n",
       "      <td>0</td>\n",
       "      <td>...</td>\n",
       "      <td>0</td>\n",
       "      <td>0</td>\n",
       "      <td>0</td>\n",
       "      <td>0</td>\n",
       "      <td>0</td>\n",
       "      <td>0</td>\n",
       "      <td>0</td>\n",
       "      <td>1</td>\n",
       "      <td>0</td>\n",
       "      <td>0</td>\n",
       "    </tr>\n",
       "    <tr>\n",
       "      <th>3</th>\n",
       "      <td>4.2</td>\n",
       "      <td>10</td>\n",
       "      <td>Internet</td>\n",
       "      <td>Information Technology</td>\n",
       "      <td>500+ billion (INR)</td>\n",
       "      <td>Google, Microsoft, Walmart</td>\n",
       "      <td>1</td>\n",
       "      <td>0</td>\n",
       "      <td>1</td>\n",
       "      <td>0</td>\n",
       "      <td>...</td>\n",
       "      <td>0</td>\n",
       "      <td>0</td>\n",
       "      <td>0</td>\n",
       "      <td>0</td>\n",
       "      <td>0</td>\n",
       "      <td>0</td>\n",
       "      <td>0</td>\n",
       "      <td>1</td>\n",
       "      <td>0</td>\n",
       "      <td>0</td>\n",
       "    </tr>\n",
       "  </tbody>\n",
       "</table>\n",
       "<p>4 rows × 483 columns</p>\n",
       "</div>"
      ],
      "text/plain": [
       "  Rating  Location                   Industry                     Sector  \\\n",
       "0    3.9         3  Biotech & Pharmaceuticals  Biotech & Pharmaceuticals   \n",
       "1    4.0         3  Biotech & Pharmaceuticals  Biotech & Pharmaceuticals   \n",
       "2    3.5         3                   Internet     Information Technology   \n",
       "3    4.2        10                   Internet     Information Technology   \n",
       "\n",
       "                Revenue                    Competitors Python R Prog Excel  \\\n",
       "0    500+ billion (INR)     Pfizer, AstraZeneca, Merck      1      0     0   \n",
       "1  1 to 5 billion (INR)  GCE Solutions, Parexel, IQVIA      1      0     0   \n",
       "2    500+ billion (INR)          Square, Amazon, Apple      1      0     0   \n",
       "3    500+ billion (INR)     Google, Microsoft, Walmart      1      0     1   \n",
       "\n",
       "  Hadoop  ... Size_1001 to 5000 employees Size_201 to 500 employees  \\\n",
       "0      1  ...                           0                         0   \n",
       "1      0  ...                           0                         1   \n",
       "2      0  ...                           0                         0   \n",
       "3      0  ...                           0                         0   \n",
       "\n",
       "   Size_5001 to 10000 employees  Size_501 to 1000 employees  \\\n",
       "0                             0                           0   \n",
       "1                             0                           0   \n",
       "2                             0                           0   \n",
       "3                             0                           0   \n",
       "\n",
       "   Size_51 to 200 employees  Size_not mentioned  \\\n",
       "0                         0                   0   \n",
       "1                         0                   0   \n",
       "2                         0                   0   \n",
       "3                         0                   0   \n",
       "\n",
       "   Type.of.ownership_Company - Private  Type.of.ownership_Company - Public  \\\n",
       "0                                    0                                   1   \n",
       "1                                    1                                   0   \n",
       "2                                    0                                   1   \n",
       "3                                    0                                   1   \n",
       "\n",
       "   Type.of.ownership_Non-profit Organisation  Type.of.ownership_not mentioned  \n",
       "0                                          0                                0  \n",
       "1                                          0                                0  \n",
       "2                                          0                                0  \n",
       "3                                          0                                0  \n",
       "\n",
       "[4 rows x 483 columns]"
      ]
     },
     "execution_count": 131,
     "metadata": {},
     "output_type": "execute_result"
    }
   ],
   "source": [
    "df1_cat.head(4)"
   ]
  },
  {
   "cell_type": "code",
   "execution_count": 132,
   "metadata": {},
   "outputs": [
    {
     "data": {
      "text/plain": [
       "'Industry'"
      ]
     },
     "execution_count": 132,
     "metadata": {},
     "output_type": "execute_result"
    }
   ],
   "source": [
    "df1_cat.columns[2]"
   ]
  },
  {
   "cell_type": "code",
   "execution_count": 46,
   "metadata": {},
   "outputs": [],
   "source": [
    "label_encoder = p.LabelEncoder()   \n",
    "# Encode labels in column 'species'. \n",
    "df1_cat['Industry']= label_encoder.fit_transform(df1_cat['Industry']) "
   ]
  },
  {
   "cell_type": "code",
   "execution_count": 47,
   "metadata": {
    "scrolled": true
   },
   "outputs": [
    {
     "data": {
      "text/html": [
       "<div>\n",
       "<style scoped>\n",
       "    .dataframe tbody tr th:only-of-type {\n",
       "        vertical-align: middle;\n",
       "    }\n",
       "\n",
       "    .dataframe tbody tr th {\n",
       "        vertical-align: top;\n",
       "    }\n",
       "\n",
       "    .dataframe thead th {\n",
       "        text-align: right;\n",
       "    }\n",
       "</style>\n",
       "<table border=\"1\" class=\"dataframe\">\n",
       "  <thead>\n",
       "    <tr style=\"text-align: right;\">\n",
       "      <th></th>\n",
       "      <th>Rating</th>\n",
       "      <th>Location</th>\n",
       "      <th>Industry</th>\n",
       "      <th>Sector</th>\n",
       "      <th>Revenue</th>\n",
       "      <th>Competitors</th>\n",
       "      <th>Python</th>\n",
       "      <th>R Prog</th>\n",
       "      <th>Excel</th>\n",
       "      <th>Hadoop</th>\n",
       "      <th>...</th>\n",
       "      <th>Size_1001 to 5000 employees</th>\n",
       "      <th>Size_201 to 500 employees</th>\n",
       "      <th>Size_5001 to 10000 employees</th>\n",
       "      <th>Size_501 to 1000 employees</th>\n",
       "      <th>Size_51 to 200 employees</th>\n",
       "      <th>Size_not mentioned</th>\n",
       "      <th>Type.of.ownership_Company - Private</th>\n",
       "      <th>Type.of.ownership_Company - Public</th>\n",
       "      <th>Type.of.ownership_Non-profit Organisation</th>\n",
       "      <th>Type.of.ownership_not mentioned</th>\n",
       "    </tr>\n",
       "  </thead>\n",
       "  <tbody>\n",
       "    <tr>\n",
       "      <th>0</th>\n",
       "      <td>3.9</td>\n",
       "      <td>3</td>\n",
       "      <td>6</td>\n",
       "      <td>Biotech &amp; Pharmaceuticals</td>\n",
       "      <td>500+ billion (INR)</td>\n",
       "      <td>Pfizer, AstraZeneca, Merck</td>\n",
       "      <td>1</td>\n",
       "      <td>0</td>\n",
       "      <td>0</td>\n",
       "      <td>1</td>\n",
       "      <td>...</td>\n",
       "      <td>0</td>\n",
       "      <td>0</td>\n",
       "      <td>0</td>\n",
       "      <td>0</td>\n",
       "      <td>0</td>\n",
       "      <td>0</td>\n",
       "      <td>0</td>\n",
       "      <td>1</td>\n",
       "      <td>0</td>\n",
       "      <td>0</td>\n",
       "    </tr>\n",
       "    <tr>\n",
       "      <th>1</th>\n",
       "      <td>4.0</td>\n",
       "      <td>3</td>\n",
       "      <td>6</td>\n",
       "      <td>Biotech &amp; Pharmaceuticals</td>\n",
       "      <td>1 to 5 billion (INR)</td>\n",
       "      <td>GCE Solutions, Parexel, IQVIA</td>\n",
       "      <td>1</td>\n",
       "      <td>0</td>\n",
       "      <td>0</td>\n",
       "      <td>0</td>\n",
       "      <td>...</td>\n",
       "      <td>0</td>\n",
       "      <td>1</td>\n",
       "      <td>0</td>\n",
       "      <td>0</td>\n",
       "      <td>0</td>\n",
       "      <td>0</td>\n",
       "      <td>1</td>\n",
       "      <td>0</td>\n",
       "      <td>0</td>\n",
       "      <td>0</td>\n",
       "    </tr>\n",
       "    <tr>\n",
       "      <th>2</th>\n",
       "      <td>3.5</td>\n",
       "      <td>3</td>\n",
       "      <td>28</td>\n",
       "      <td>Information Technology</td>\n",
       "      <td>500+ billion (INR)</td>\n",
       "      <td>Square, Amazon, Apple</td>\n",
       "      <td>1</td>\n",
       "      <td>0</td>\n",
       "      <td>0</td>\n",
       "      <td>0</td>\n",
       "      <td>...</td>\n",
       "      <td>0</td>\n",
       "      <td>0</td>\n",
       "      <td>0</td>\n",
       "      <td>0</td>\n",
       "      <td>0</td>\n",
       "      <td>0</td>\n",
       "      <td>0</td>\n",
       "      <td>1</td>\n",
       "      <td>0</td>\n",
       "      <td>0</td>\n",
       "    </tr>\n",
       "  </tbody>\n",
       "</table>\n",
       "<p>3 rows × 483 columns</p>\n",
       "</div>"
      ],
      "text/plain": [
       "  Rating  Location  Industry                     Sector               Revenue  \\\n",
       "0    3.9         3         6  Biotech & Pharmaceuticals    500+ billion (INR)   \n",
       "1    4.0         3         6  Biotech & Pharmaceuticals  1 to 5 billion (INR)   \n",
       "2    3.5         3        28     Information Technology    500+ billion (INR)   \n",
       "\n",
       "                     Competitors Python R Prog Excel Hadoop  ...  \\\n",
       "0     Pfizer, AstraZeneca, Merck      1      0     0      1  ...   \n",
       "1  GCE Solutions, Parexel, IQVIA      1      0     0      0  ...   \n",
       "2          Square, Amazon, Apple      1      0     0      0  ...   \n",
       "\n",
       "  Size_1001 to 5000 employees Size_201 to 500 employees  \\\n",
       "0                           0                         0   \n",
       "1                           0                         1   \n",
       "2                           0                         0   \n",
       "\n",
       "   Size_5001 to 10000 employees  Size_501 to 1000 employees  \\\n",
       "0                             0                           0   \n",
       "1                             0                           0   \n",
       "2                             0                           0   \n",
       "\n",
       "   Size_51 to 200 employees  Size_not mentioned  \\\n",
       "0                         0                   0   \n",
       "1                         0                   0   \n",
       "2                         0                   0   \n",
       "\n",
       "   Type.of.ownership_Company - Private  Type.of.ownership_Company - Public  \\\n",
       "0                                    0                                   1   \n",
       "1                                    1                                   0   \n",
       "2                                    0                                   1   \n",
       "\n",
       "   Type.of.ownership_Non-profit Organisation  Type.of.ownership_not mentioned  \n",
       "0                                          0                                0  \n",
       "1                                          0                                0  \n",
       "2                                          0                                0  \n",
       "\n",
       "[3 rows x 483 columns]"
      ]
     },
     "execution_count": 47,
     "metadata": {},
     "output_type": "execute_result"
    }
   ],
   "source": [
    "df1_cat.head(3)"
   ]
  },
  {
   "cell_type": "code",
   "execution_count": null,
   "metadata": {},
   "outputs": [],
   "source": []
  },
  {
   "cell_type": "code",
   "execution_count": 72,
   "metadata": {},
   "outputs": [],
   "source": [
    "# len(df_cat.Competitors.value_counts())\n",
    "#Compettitors col has names of competitors of the companies in which job vacancies are posted.\n",
    "#It is not an important column.LEts drop it as it ir relevent and has 100 cate levels."
   ]
  },
  {
   "cell_type": "code",
   "execution_count": 48,
   "metadata": {},
   "outputs": [],
   "source": [
    "df1_cat.drop(labels=['Competitors'],axis=1,inplace=True)"
   ]
  },
  {
   "cell_type": "code",
   "execution_count": 49,
   "metadata": {},
   "outputs": [],
   "source": [
    "df1_cat=pd.get_dummies(data=df1_cat,columns=['Revenue'])"
   ]
  },
  {
   "cell_type": "code",
   "execution_count": 50,
   "metadata": {
    "scrolled": true
   },
   "outputs": [
    {
     "data": {
      "text/plain": [
       "(885, 492)"
      ]
     },
     "execution_count": 50,
     "metadata": {},
     "output_type": "execute_result"
    }
   ],
   "source": [
    "df1_cat.shape"
   ]
  },
  {
   "cell_type": "code",
   "execution_count": 51,
   "metadata": {
    "scrolled": true
   },
   "outputs": [
    {
     "data": {
      "text/html": [
       "<div>\n",
       "<style scoped>\n",
       "    .dataframe tbody tr th:only-of-type {\n",
       "        vertical-align: middle;\n",
       "    }\n",
       "\n",
       "    .dataframe tbody tr th {\n",
       "        vertical-align: top;\n",
       "    }\n",
       "\n",
       "    .dataframe thead th {\n",
       "        text-align: right;\n",
       "    }\n",
       "</style>\n",
       "<table border=\"1\" class=\"dataframe\">\n",
       "  <thead>\n",
       "    <tr style=\"text-align: right;\">\n",
       "      <th></th>\n",
       "      <th>Rating</th>\n",
       "      <th>Location</th>\n",
       "      <th>Industry</th>\n",
       "      <th>Sector</th>\n",
       "      <th>Python</th>\n",
       "      <th>R Prog</th>\n",
       "      <th>Excel</th>\n",
       "      <th>Hadoop</th>\n",
       "      <th>SQL</th>\n",
       "      <th>SAS</th>\n",
       "      <th>...</th>\n",
       "      <th>Revenue_10 to 50 billion (INR)</th>\n",
       "      <th>Revenue_10 to 50 million (INR)</th>\n",
       "      <th>Revenue_100 to 500 billion (INR)</th>\n",
       "      <th>Revenue_100 to 500 million (INR)</th>\n",
       "      <th>Revenue_5 to 10 billion (INR)</th>\n",
       "      <th>Revenue_50 to 100 billion (INR)</th>\n",
       "      <th>Revenue_50 to 100 million (INR)</th>\n",
       "      <th>Revenue_500 million to 1 billion (INR)</th>\n",
       "      <th>Revenue_500+ billion (INR)</th>\n",
       "      <th>Revenue_not mentioned</th>\n",
       "    </tr>\n",
       "  </thead>\n",
       "  <tbody>\n",
       "    <tr>\n",
       "      <th>0</th>\n",
       "      <td>3.9</td>\n",
       "      <td>3</td>\n",
       "      <td>6</td>\n",
       "      <td>Biotech &amp; Pharmaceuticals</td>\n",
       "      <td>1</td>\n",
       "      <td>0</td>\n",
       "      <td>0</td>\n",
       "      <td>1</td>\n",
       "      <td>0</td>\n",
       "      <td>0</td>\n",
       "      <td>...</td>\n",
       "      <td>0</td>\n",
       "      <td>0</td>\n",
       "      <td>0</td>\n",
       "      <td>0</td>\n",
       "      <td>0</td>\n",
       "      <td>0</td>\n",
       "      <td>0</td>\n",
       "      <td>0</td>\n",
       "      <td>1</td>\n",
       "      <td>0</td>\n",
       "    </tr>\n",
       "    <tr>\n",
       "      <th>1</th>\n",
       "      <td>4.0</td>\n",
       "      <td>3</td>\n",
       "      <td>6</td>\n",
       "      <td>Biotech &amp; Pharmaceuticals</td>\n",
       "      <td>1</td>\n",
       "      <td>0</td>\n",
       "      <td>0</td>\n",
       "      <td>0</td>\n",
       "      <td>0</td>\n",
       "      <td>1</td>\n",
       "      <td>...</td>\n",
       "      <td>0</td>\n",
       "      <td>0</td>\n",
       "      <td>0</td>\n",
       "      <td>0</td>\n",
       "      <td>0</td>\n",
       "      <td>0</td>\n",
       "      <td>0</td>\n",
       "      <td>0</td>\n",
       "      <td>0</td>\n",
       "      <td>0</td>\n",
       "    </tr>\n",
       "    <tr>\n",
       "      <th>2</th>\n",
       "      <td>3.5</td>\n",
       "      <td>3</td>\n",
       "      <td>28</td>\n",
       "      <td>Information Technology</td>\n",
       "      <td>1</td>\n",
       "      <td>0</td>\n",
       "      <td>0</td>\n",
       "      <td>0</td>\n",
       "      <td>1</td>\n",
       "      <td>1</td>\n",
       "      <td>...</td>\n",
       "      <td>0</td>\n",
       "      <td>0</td>\n",
       "      <td>0</td>\n",
       "      <td>0</td>\n",
       "      <td>0</td>\n",
       "      <td>0</td>\n",
       "      <td>0</td>\n",
       "      <td>0</td>\n",
       "      <td>1</td>\n",
       "      <td>0</td>\n",
       "    </tr>\n",
       "    <tr>\n",
       "      <th>3</th>\n",
       "      <td>4.2</td>\n",
       "      <td>10</td>\n",
       "      <td>28</td>\n",
       "      <td>Information Technology</td>\n",
       "      <td>1</td>\n",
       "      <td>0</td>\n",
       "      <td>1</td>\n",
       "      <td>0</td>\n",
       "      <td>1</td>\n",
       "      <td>0</td>\n",
       "      <td>...</td>\n",
       "      <td>0</td>\n",
       "      <td>0</td>\n",
       "      <td>0</td>\n",
       "      <td>0</td>\n",
       "      <td>0</td>\n",
       "      <td>0</td>\n",
       "      <td>0</td>\n",
       "      <td>0</td>\n",
       "      <td>1</td>\n",
       "      <td>0</td>\n",
       "    </tr>\n",
       "  </tbody>\n",
       "</table>\n",
       "<p>4 rows × 492 columns</p>\n",
       "</div>"
      ],
      "text/plain": [
       "  Rating  Location  Industry                     Sector Python R Prog Excel  \\\n",
       "0    3.9         3         6  Biotech & Pharmaceuticals      1      0     0   \n",
       "1    4.0         3         6  Biotech & Pharmaceuticals      1      0     0   \n",
       "2    3.5         3        28     Information Technology      1      0     0   \n",
       "3    4.2        10        28     Information Technology      1      0     1   \n",
       "\n",
       "  Hadoop SQL SAS  ...  Revenue_10 to 50 billion (INR)  \\\n",
       "0      1   0   0  ...                               0   \n",
       "1      0   0   1  ...                               0   \n",
       "2      0   1   1  ...                               0   \n",
       "3      0   1   0  ...                               0   \n",
       "\n",
       "   Revenue_10 to 50 million (INR)  Revenue_100 to 500 billion (INR)  \\\n",
       "0                               0                                 0   \n",
       "1                               0                                 0   \n",
       "2                               0                                 0   \n",
       "3                               0                                 0   \n",
       "\n",
       "   Revenue_100 to 500 million (INR)  Revenue_5 to 10 billion (INR)  \\\n",
       "0                                 0                              0   \n",
       "1                                 0                              0   \n",
       "2                                 0                              0   \n",
       "3                                 0                              0   \n",
       "\n",
       "   Revenue_50 to 100 billion (INR)  Revenue_50 to 100 million (INR)  \\\n",
       "0                                0                                0   \n",
       "1                                0                                0   \n",
       "2                                0                                0   \n",
       "3                                0                                0   \n",
       "\n",
       "   Revenue_500 million to 1 billion (INR)  Revenue_500+ billion (INR)  \\\n",
       "0                                       0                           1   \n",
       "1                                       0                           0   \n",
       "2                                       0                           1   \n",
       "3                                       0                           1   \n",
       "\n",
       "   Revenue_not mentioned  \n",
       "0                      0  \n",
       "1                      0  \n",
       "2                      0  \n",
       "3                      0  \n",
       "\n",
       "[4 rows x 492 columns]"
      ]
     },
     "execution_count": 51,
     "metadata": {},
     "output_type": "execute_result"
    }
   ],
   "source": [
    "df1_cat.head(4)\n",
    "#industry must be l.e not ohe."
   ]
  },
  {
   "cell_type": "code",
   "execution_count": 52,
   "metadata": {},
   "outputs": [],
   "source": [
    "df1_cat=pd.get_dummies(data=df1_cat,columns=['Sector'])"
   ]
  },
  {
   "cell_type": "code",
   "execution_count": 140,
   "metadata": {
    "scrolled": true
   },
   "outputs": [
    {
     "data": {
      "text/html": [
       "<div>\n",
       "<style scoped>\n",
       "    .dataframe tbody tr th:only-of-type {\n",
       "        vertical-align: middle;\n",
       "    }\n",
       "\n",
       "    .dataframe tbody tr th {\n",
       "        vertical-align: top;\n",
       "    }\n",
       "\n",
       "    .dataframe thead th {\n",
       "        text-align: right;\n",
       "    }\n",
       "</style>\n",
       "<table border=\"1\" class=\"dataframe\">\n",
       "  <thead>\n",
       "    <tr style=\"text-align: right;\">\n",
       "      <th></th>\n",
       "      <th>Rating</th>\n",
       "      <th>Location</th>\n",
       "      <th>Industry</th>\n",
       "      <th>Python</th>\n",
       "      <th>R Prog</th>\n",
       "      <th>Excel</th>\n",
       "      <th>Hadoop</th>\n",
       "      <th>SQL</th>\n",
       "      <th>SAS</th>\n",
       "      <th>Job.Title_Data Analyst</th>\n",
       "      <th>...</th>\n",
       "      <th>Sector_Manufacturing</th>\n",
       "      <th>Sector_Media</th>\n",
       "      <th>Sector_Mining &amp; Metals</th>\n",
       "      <th>Sector_Oil, Gas, Energy &amp; Utilities</th>\n",
       "      <th>Sector_Real Estate</th>\n",
       "      <th>Sector_Retail</th>\n",
       "      <th>Sector_Telecommunications</th>\n",
       "      <th>Sector_Transportation &amp; Logistics</th>\n",
       "      <th>Sector_Travel &amp; Tourism</th>\n",
       "      <th>Sector_not mentioned</th>\n",
       "    </tr>\n",
       "  </thead>\n",
       "  <tbody>\n",
       "    <tr>\n",
       "      <th>0</th>\n",
       "      <td>3.9</td>\n",
       "      <td>3</td>\n",
       "      <td>6</td>\n",
       "      <td>1</td>\n",
       "      <td>0</td>\n",
       "      <td>0</td>\n",
       "      <td>1</td>\n",
       "      <td>0</td>\n",
       "      <td>0</td>\n",
       "      <td>0</td>\n",
       "      <td>...</td>\n",
       "      <td>0</td>\n",
       "      <td>0</td>\n",
       "      <td>0</td>\n",
       "      <td>0</td>\n",
       "      <td>0</td>\n",
       "      <td>0</td>\n",
       "      <td>0</td>\n",
       "      <td>0</td>\n",
       "      <td>0</td>\n",
       "      <td>0</td>\n",
       "    </tr>\n",
       "    <tr>\n",
       "      <th>1</th>\n",
       "      <td>4.0</td>\n",
       "      <td>3</td>\n",
       "      <td>6</td>\n",
       "      <td>1</td>\n",
       "      <td>0</td>\n",
       "      <td>0</td>\n",
       "      <td>0</td>\n",
       "      <td>0</td>\n",
       "      <td>1</td>\n",
       "      <td>0</td>\n",
       "      <td>...</td>\n",
       "      <td>0</td>\n",
       "      <td>0</td>\n",
       "      <td>0</td>\n",
       "      <td>0</td>\n",
       "      <td>0</td>\n",
       "      <td>0</td>\n",
       "      <td>0</td>\n",
       "      <td>0</td>\n",
       "      <td>0</td>\n",
       "      <td>0</td>\n",
       "    </tr>\n",
       "  </tbody>\n",
       "</table>\n",
       "<p>2 rows × 512 columns</p>\n",
       "</div>"
      ],
      "text/plain": [
       "  Rating  Location  Industry Python R Prog Excel Hadoop SQL SAS  \\\n",
       "0    3.9         3         6      1      0     0      1   0   0   \n",
       "1    4.0         3         6      1      0     0      0   0   1   \n",
       "\n",
       "   Job.Title_Data Analyst  ...  Sector_Manufacturing  Sector_Media  \\\n",
       "0                       0  ...                     0             0   \n",
       "1                       0  ...                     0             0   \n",
       "\n",
       "   Sector_Mining & Metals  Sector_Oil, Gas, Energy & Utilities  \\\n",
       "0                       0                                    0   \n",
       "1                       0                                    0   \n",
       "\n",
       "   Sector_Real Estate  Sector_Retail  Sector_Telecommunications  \\\n",
       "0                   0              0                          0   \n",
       "1                   0              0                          0   \n",
       "\n",
       "   Sector_Transportation & Logistics  Sector_Travel & Tourism  \\\n",
       "0                                  0                        0   \n",
       "1                                  0                        0   \n",
       "\n",
       "   Sector_not mentioned  \n",
       "0                     0  \n",
       "1                     0  \n",
       "\n",
       "[2 rows x 512 columns]"
      ]
     },
     "execution_count": 140,
     "metadata": {},
     "output_type": "execute_result"
    }
   ],
   "source": [
    "df1_cat.head(2)"
   ]
  },
  {
   "cell_type": "code",
   "execution_count": 141,
   "metadata": {},
   "outputs": [
    {
     "data": {
      "text/plain": [
       "not mentioned    143\n",
       "4.0               71\n",
       "Name: Rating, dtype: int64"
      ]
     },
     "execution_count": 141,
     "metadata": {},
     "output_type": "execute_result"
    }
   ],
   "source": [
    "df1_cat.Rating.value_counts().head(2)"
   ]
  },
  {
   "cell_type": "code",
   "execution_count": 102,
   "metadata": {},
   "outputs": [],
   "source": [
    "#Rating col has not mentioned string"
   ]
  },
  {
   "cell_type": "code",
   "execution_count": 53,
   "metadata": {},
   "outputs": [],
   "source": [
    "df1_cat.loc[df1_cat.Rating=='not mentioned',['Rating']]=1"
   ]
  },
  {
   "cell_type": "code",
   "execution_count": 106,
   "metadata": {},
   "outputs": [],
   "source": [
    "#I have set not mentioned string with 1 integer.\n",
    "#When i pass string data into the k means model model will not understand string data."
   ]
  },
  {
   "cell_type": "code",
   "execution_count": 110,
   "metadata": {},
   "outputs": [],
   "source": [
    "#df1.select_dtypes(include=['int64','float64']).head(3) #no num vars"
   ]
  },
  {
   "cell_type": "code",
   "execution_count": 144,
   "metadata": {
    "scrolled": false
   },
   "outputs": [
    {
     "data": {
      "text/html": [
       "<div>\n",
       "<style scoped>\n",
       "    .dataframe tbody tr th:only-of-type {\n",
       "        vertical-align: middle;\n",
       "    }\n",
       "\n",
       "    .dataframe tbody tr th {\n",
       "        vertical-align: top;\n",
       "    }\n",
       "\n",
       "    .dataframe thead th {\n",
       "        text-align: right;\n",
       "    }\n",
       "</style>\n",
       "<table border=\"1\" class=\"dataframe\">\n",
       "  <thead>\n",
       "    <tr style=\"text-align: right;\">\n",
       "      <th></th>\n",
       "      <th>Rating</th>\n",
       "      <th>Location</th>\n",
       "      <th>Industry</th>\n",
       "      <th>Python</th>\n",
       "      <th>R Prog</th>\n",
       "      <th>Excel</th>\n",
       "      <th>Hadoop</th>\n",
       "      <th>SQL</th>\n",
       "      <th>SAS</th>\n",
       "      <th>Job.Title_Data Analyst</th>\n",
       "      <th>...</th>\n",
       "      <th>Sector_Manufacturing</th>\n",
       "      <th>Sector_Media</th>\n",
       "      <th>Sector_Mining &amp; Metals</th>\n",
       "      <th>Sector_Oil, Gas, Energy &amp; Utilities</th>\n",
       "      <th>Sector_Real Estate</th>\n",
       "      <th>Sector_Retail</th>\n",
       "      <th>Sector_Telecommunications</th>\n",
       "      <th>Sector_Transportation &amp; Logistics</th>\n",
       "      <th>Sector_Travel &amp; Tourism</th>\n",
       "      <th>Sector_not mentioned</th>\n",
       "    </tr>\n",
       "  </thead>\n",
       "  <tbody>\n",
       "    <tr>\n",
       "      <th>0</th>\n",
       "      <td>3.9</td>\n",
       "      <td>3</td>\n",
       "      <td>6</td>\n",
       "      <td>1</td>\n",
       "      <td>0</td>\n",
       "      <td>0</td>\n",
       "      <td>1</td>\n",
       "      <td>0</td>\n",
       "      <td>0</td>\n",
       "      <td>0</td>\n",
       "      <td>...</td>\n",
       "      <td>0</td>\n",
       "      <td>0</td>\n",
       "      <td>0</td>\n",
       "      <td>0</td>\n",
       "      <td>0</td>\n",
       "      <td>0</td>\n",
       "      <td>0</td>\n",
       "      <td>0</td>\n",
       "      <td>0</td>\n",
       "      <td>0</td>\n",
       "    </tr>\n",
       "    <tr>\n",
       "      <th>1</th>\n",
       "      <td>4.0</td>\n",
       "      <td>3</td>\n",
       "      <td>6</td>\n",
       "      <td>1</td>\n",
       "      <td>0</td>\n",
       "      <td>0</td>\n",
       "      <td>0</td>\n",
       "      <td>0</td>\n",
       "      <td>1</td>\n",
       "      <td>0</td>\n",
       "      <td>...</td>\n",
       "      <td>0</td>\n",
       "      <td>0</td>\n",
       "      <td>0</td>\n",
       "      <td>0</td>\n",
       "      <td>0</td>\n",
       "      <td>0</td>\n",
       "      <td>0</td>\n",
       "      <td>0</td>\n",
       "      <td>0</td>\n",
       "      <td>0</td>\n",
       "    </tr>\n",
       "  </tbody>\n",
       "</table>\n",
       "<p>2 rows × 512 columns</p>\n",
       "</div>"
      ],
      "text/plain": [
       "  Rating  Location  Industry Python R Prog Excel Hadoop SQL SAS  \\\n",
       "0    3.9         3         6      1      0     0      1   0   0   \n",
       "1    4.0         3         6      1      0     0      0   0   1   \n",
       "\n",
       "   Job.Title_Data Analyst  ...  Sector_Manufacturing  Sector_Media  \\\n",
       "0                       0  ...                     0             0   \n",
       "1                       0  ...                     0             0   \n",
       "\n",
       "   Sector_Mining & Metals  Sector_Oil, Gas, Energy & Utilities  \\\n",
       "0                       0                                    0   \n",
       "1                       0                                    0   \n",
       "\n",
       "   Sector_Real Estate  Sector_Retail  Sector_Telecommunications  \\\n",
       "0                   0              0                          0   \n",
       "1                   0              0                          0   \n",
       "\n",
       "   Sector_Transportation & Logistics  Sector_Travel & Tourism  \\\n",
       "0                                  0                        0   \n",
       "1                                  0                        0   \n",
       "\n",
       "   Sector_not mentioned  \n",
       "0                     0  \n",
       "1                     0  \n",
       "\n",
       "[2 rows x 512 columns]"
      ]
     },
     "execution_count": 144,
     "metadata": {},
     "output_type": "execute_result"
    }
   ],
   "source": [
    "df1_cat.head(2)"
   ]
  },
  {
   "cell_type": "code",
   "execution_count": 106,
   "metadata": {},
   "outputs": [],
   "source": [
    "# for i in df1_cat.columns:\n",
    "#     print(i)"
   ]
  },
  {
   "cell_type": "code",
   "execution_count": 107,
   "metadata": {},
   "outputs": [],
   "source": [
    "#df1_cat=pd.get_dummies(data=df1_cat,columns=[df1_cat.columns[2]])"
   ]
  },
  {
   "cell_type": "code",
   "execution_count": 83,
   "metadata": {},
   "outputs": [],
   "source": [
    "#Only ind and loc col have integer labels from 1 to say 20.its fine.label encoded"
   ]
  },
  {
   "cell_type": "code",
   "execution_count": 145,
   "metadata": {},
   "outputs": [
    {
     "data": {
      "text/plain": [
       "(885, 512)"
      ]
     },
     "execution_count": 145,
     "metadata": {},
     "output_type": "execute_result"
    }
   ],
   "source": [
    "df1_cat.shape"
   ]
  },
  {
   "cell_type": "code",
   "execution_count": 146,
   "metadata": {
    "scrolled": false
   },
   "outputs": [
    {
     "data": {
      "text/html": [
       "<div>\n",
       "<style scoped>\n",
       "    .dataframe tbody tr th:only-of-type {\n",
       "        vertical-align: middle;\n",
       "    }\n",
       "\n",
       "    .dataframe tbody tr th {\n",
       "        vertical-align: top;\n",
       "    }\n",
       "\n",
       "    .dataframe thead th {\n",
       "        text-align: right;\n",
       "    }\n",
       "</style>\n",
       "<table border=\"1\" class=\"dataframe\">\n",
       "  <thead>\n",
       "    <tr style=\"text-align: right;\">\n",
       "      <th></th>\n",
       "      <th>Rating</th>\n",
       "      <th>Location</th>\n",
       "      <th>Industry</th>\n",
       "      <th>Python</th>\n",
       "      <th>R Prog</th>\n",
       "      <th>Excel</th>\n",
       "      <th>Hadoop</th>\n",
       "      <th>SQL</th>\n",
       "      <th>SAS</th>\n",
       "      <th>Job.Title_Data Analyst</th>\n",
       "      <th>...</th>\n",
       "      <th>Sector_Manufacturing</th>\n",
       "      <th>Sector_Media</th>\n",
       "      <th>Sector_Mining &amp; Metals</th>\n",
       "      <th>Sector_Oil, Gas, Energy &amp; Utilities</th>\n",
       "      <th>Sector_Real Estate</th>\n",
       "      <th>Sector_Retail</th>\n",
       "      <th>Sector_Telecommunications</th>\n",
       "      <th>Sector_Transportation &amp; Logistics</th>\n",
       "      <th>Sector_Travel &amp; Tourism</th>\n",
       "      <th>Sector_not mentioned</th>\n",
       "    </tr>\n",
       "  </thead>\n",
       "  <tbody>\n",
       "    <tr>\n",
       "      <th>0</th>\n",
       "      <td>3.9</td>\n",
       "      <td>3</td>\n",
       "      <td>6</td>\n",
       "      <td>1</td>\n",
       "      <td>0</td>\n",
       "      <td>0</td>\n",
       "      <td>1</td>\n",
       "      <td>0</td>\n",
       "      <td>0</td>\n",
       "      <td>0</td>\n",
       "      <td>...</td>\n",
       "      <td>0</td>\n",
       "      <td>0</td>\n",
       "      <td>0</td>\n",
       "      <td>0</td>\n",
       "      <td>0</td>\n",
       "      <td>0</td>\n",
       "      <td>0</td>\n",
       "      <td>0</td>\n",
       "      <td>0</td>\n",
       "      <td>0</td>\n",
       "    </tr>\n",
       "    <tr>\n",
       "      <th>1</th>\n",
       "      <td>4.0</td>\n",
       "      <td>3</td>\n",
       "      <td>6</td>\n",
       "      <td>1</td>\n",
       "      <td>0</td>\n",
       "      <td>0</td>\n",
       "      <td>0</td>\n",
       "      <td>0</td>\n",
       "      <td>1</td>\n",
       "      <td>0</td>\n",
       "      <td>...</td>\n",
       "      <td>0</td>\n",
       "      <td>0</td>\n",
       "      <td>0</td>\n",
       "      <td>0</td>\n",
       "      <td>0</td>\n",
       "      <td>0</td>\n",
       "      <td>0</td>\n",
       "      <td>0</td>\n",
       "      <td>0</td>\n",
       "      <td>0</td>\n",
       "    </tr>\n",
       "    <tr>\n",
       "      <th>2</th>\n",
       "      <td>3.5</td>\n",
       "      <td>3</td>\n",
       "      <td>28</td>\n",
       "      <td>1</td>\n",
       "      <td>0</td>\n",
       "      <td>0</td>\n",
       "      <td>0</td>\n",
       "      <td>1</td>\n",
       "      <td>1</td>\n",
       "      <td>0</td>\n",
       "      <td>...</td>\n",
       "      <td>0</td>\n",
       "      <td>0</td>\n",
       "      <td>0</td>\n",
       "      <td>0</td>\n",
       "      <td>0</td>\n",
       "      <td>0</td>\n",
       "      <td>0</td>\n",
       "      <td>0</td>\n",
       "      <td>0</td>\n",
       "      <td>0</td>\n",
       "    </tr>\n",
       "  </tbody>\n",
       "</table>\n",
       "<p>3 rows × 512 columns</p>\n",
       "</div>"
      ],
      "text/plain": [
       "  Rating  Location  Industry Python R Prog Excel Hadoop SQL SAS  \\\n",
       "0    3.9         3         6      1      0     0      1   0   0   \n",
       "1    4.0         3         6      1      0     0      0   0   1   \n",
       "2    3.5         3        28      1      0     0      0   1   1   \n",
       "\n",
       "   Job.Title_Data Analyst  ...  Sector_Manufacturing  Sector_Media  \\\n",
       "0                       0  ...                     0             0   \n",
       "1                       0  ...                     0             0   \n",
       "2                       0  ...                     0             0   \n",
       "\n",
       "   Sector_Mining & Metals  Sector_Oil, Gas, Energy & Utilities  \\\n",
       "0                       0                                    0   \n",
       "1                       0                                    0   \n",
       "2                       0                                    0   \n",
       "\n",
       "   Sector_Real Estate  Sector_Retail  Sector_Telecommunications  \\\n",
       "0                   0              0                          0   \n",
       "1                   0              0                          0   \n",
       "2                   0              0                          0   \n",
       "\n",
       "   Sector_Transportation & Logistics  Sector_Travel & Tourism  \\\n",
       "0                                  0                        0   \n",
       "1                                  0                        0   \n",
       "2                                  0                        0   \n",
       "\n",
       "   Sector_not mentioned  \n",
       "0                     0  \n",
       "1                     0  \n",
       "2                     0  \n",
       "\n",
       "[3 rows x 512 columns]"
      ]
     },
     "execution_count": 146,
     "metadata": {},
     "output_type": "execute_result"
    }
   ],
   "source": [
    "df1_cat.head(3)"
   ]
  },
  {
   "cell_type": "code",
   "execution_count": null,
   "metadata": {},
   "outputs": [],
   "source": [
    "df1_cat is a df which has F.E cate vars+F.E num vars.generaly df1_cat has f.e cate vars\n",
    "b its fine.Never scale num vars when u build k means algorithm\n",
    "df1_cat is a raw clean dataset\n",
    "We cannot train Kmeans model using string data.cate varss.error displayed."
   ]
  },
  {
   "cell_type": "code",
   "execution_count": 111,
   "metadata": {},
   "outputs": [],
   "source": [
    "# df_k=pd.concat([df_cat,df_num],axis=1)"
   ]
  },
  {
   "cell_type": "code",
   "execution_count": 112,
   "metadata": {},
   "outputs": [],
   "source": [
    "# df_k.shape"
   ]
  },
  {
   "cell_type": "code",
   "execution_count": 54,
   "metadata": {},
   "outputs": [],
   "source": [
    "from sklearn.cluster import KMeans"
   ]
  },
  {
   "cell_type": "code",
   "execution_count": 55,
   "metadata": {
    "scrolled": true
   },
   "outputs": [],
   "source": [
    "wcss=[]\n",
    "for i in range(2,20):\n",
    "#     print(\"hi\")    \n",
    "    kmeans = KMeans(n_clusters = i, random_state = 10)\n",
    "    kmeans.fit(df1_cat)\n",
    "    wcss.append(kmeans.inertia_)"
   ]
  },
  {
   "cell_type": "code",
   "execution_count": 56,
   "metadata": {},
   "outputs": [
    {
     "data": {
      "image/png": "[encoded data removed]",
      "text/plain": [
       "<Figure size 432x288 with 1 Axes>"
      ]
     },
     "metadata": {
      "needs_background": "light"
     },
     "output_type": "display_data"
    }
   ],
   "source": [
    "plt.plot(range(2,20), wcss)\n",
    "\n",
    "# set the axes and plot labels\n",
    "# set the font size using 'fontsize'\n",
    "plt.title('Elbow Plot', fontsize = 15)\n",
    "plt.xlabel('No. of clusters (K)', fontsize = 15)\n",
    "plt.ylabel('WCSS', fontsize = 15)\n",
    "\n",
    "# display the plot\n",
    "plt.show()"
   ]
  },
  {
   "cell_type": "code",
   "execution_count": 57,
   "metadata": {},
   "outputs": [],
   "source": [
    "from sklearn.metrics import silhouette_score"
   ]
  },
  {
   "cell_type": "code",
   "execution_count": 58,
   "metadata": {
    "scrolled": true
   },
   "outputs": [
    {
     "name": "stdout",
     "output_type": "stream",
     "text": [
      "For 5 clusters the silhouette score is 0.5225991799488968)\n",
      "For 6 clusters the silhouette score is 0.5565878994652349)\n",
      "For 7 clusters the silhouette score is 0.5474005465307313)\n",
      "For 8 clusters the silhouette score is 0.487269142645877)\n"
     ]
    }
   ],
   "source": [
    "n_clusters = [5,6,7,8]\n",
    "\n",
    "for K in n_clusters:\n",
    "    cluster = KMeans (n_clusters= K, random_state= 10)\n",
    "    predict = cluster.fit_predict(df1_cat)\n",
    "    score = silhouette_score(df1_cat, predict, random_state= 10)\n",
    "    print(\"For {} clusters the silhouette score is {})\".format(K, score))"
   ]
  },
  {
   "cell_type": "code",
   "execution_count": 114,
   "metadata": {},
   "outputs": [],
   "source": [
    "# for i in df1_cat.columns:\n",
    "#     print(i)\n",
    "    \n",
    "#there are so many companies.w.k.t amazon,city,sanofi,city 4 have high size and generate high \n",
    "#revenue something.Focus on these 3 cities and implement them in df.loc[] in cluster 0."
   ]
  },
  {
   "cell_type": "code",
   "execution_count": null,
   "metadata": {},
   "outputs": [],
   "source": [
    "# Build the Clusters\n",
    "# Let us build the 6 clusters using K-means clustering."
   ]
  },
  {
   "cell_type": "code",
   "execution_count": 59,
   "metadata": {},
   "outputs": [],
   "source": [
    "#I set kmeans model with 6 clusters.\n",
    "new_clusters = KMeans(n_clusters =6,random_state = 10)\n",
    "\n",
    "#Kmeans model gets trained on observations of the df named as df1_cat.\n",
    "#It has both num and cat vars.\n",
    "#The data is grouped in 6 clusters.\n",
    "new_clusters.fit(df1_cat)\n",
    "\n",
    "#all dp are assigned cluster number\n",
    "df1_cat['Cluster'] = new_clusters.labels_"
   ]
  },
  {
   "cell_type": "code",
   "execution_count": 60,
   "metadata": {
    "scrolled": false
   },
   "outputs": [
    {
     "data": {
      "text/plain": [
       "0    228\n",
       "5    225\n",
       "1    154\n",
       "2    127\n",
       "3     94\n",
       "4     57\n",
       "Name: Cluster, dtype: int64"
      ]
     },
     "execution_count": 60,
     "metadata": {},
     "output_type": "execute_result"
    }
   ],
   "source": [
    "df1_cat.Cluster.value_counts()"
   ]
  },
  {
   "cell_type": "code",
   "execution_count": 86,
   "metadata": {},
   "outputs": [],
   "source": [
    "#We will split out raw clean dataset into 6 clusters and analyse all the cluster."
   ]
  },
  {
   "cell_type": "code",
   "execution_count": 61,
   "metadata": {
    "scrolled": true
   },
   "outputs": [
    {
     "data": {
      "text/html": [
       "<div>\n",
       "<style scoped>\n",
       "    .dataframe tbody tr th:only-of-type {\n",
       "        vertical-align: middle;\n",
       "    }\n",
       "\n",
       "    .dataframe tbody tr th {\n",
       "        vertical-align: top;\n",
       "    }\n",
       "\n",
       "    .dataframe thead th {\n",
       "        text-align: right;\n",
       "    }\n",
       "</style>\n",
       "<table border=\"1\" class=\"dataframe\">\n",
       "  <thead>\n",
       "    <tr style=\"text-align: right;\">\n",
       "      <th></th>\n",
       "      <th>Rating</th>\n",
       "      <th>Location</th>\n",
       "      <th>Industry</th>\n",
       "      <th>Python</th>\n",
       "      <th>R Prog</th>\n",
       "      <th>Excel</th>\n",
       "      <th>Hadoop</th>\n",
       "      <th>SQL</th>\n",
       "      <th>SAS</th>\n",
       "      <th>Job.Title_Data Analyst</th>\n",
       "      <th>...</th>\n",
       "      <th>Sector_Media</th>\n",
       "      <th>Sector_Mining &amp; Metals</th>\n",
       "      <th>Sector_Oil, Gas, Energy &amp; Utilities</th>\n",
       "      <th>Sector_Real Estate</th>\n",
       "      <th>Sector_Retail</th>\n",
       "      <th>Sector_Telecommunications</th>\n",
       "      <th>Sector_Transportation &amp; Logistics</th>\n",
       "      <th>Sector_Travel &amp; Tourism</th>\n",
       "      <th>Sector_not mentioned</th>\n",
       "      <th>Cluster</th>\n",
       "    </tr>\n",
       "  </thead>\n",
       "  <tbody>\n",
       "    <tr>\n",
       "      <th>880</th>\n",
       "      <td>4.7</td>\n",
       "      <td>3</td>\n",
       "      <td>52</td>\n",
       "      <td>0</td>\n",
       "      <td>0</td>\n",
       "      <td>1</td>\n",
       "      <td>0</td>\n",
       "      <td>0</td>\n",
       "      <td>0</td>\n",
       "      <td>0</td>\n",
       "      <td>...</td>\n",
       "      <td>0</td>\n",
       "      <td>0</td>\n",
       "      <td>0</td>\n",
       "      <td>0</td>\n",
       "      <td>0</td>\n",
       "      <td>0</td>\n",
       "      <td>0</td>\n",
       "      <td>0</td>\n",
       "      <td>1</td>\n",
       "      <td>0</td>\n",
       "    </tr>\n",
       "    <tr>\n",
       "      <th>881</th>\n",
       "      <td>4.3</td>\n",
       "      <td>21</td>\n",
       "      <td>52</td>\n",
       "      <td>0</td>\n",
       "      <td>0</td>\n",
       "      <td>0</td>\n",
       "      <td>0</td>\n",
       "      <td>0</td>\n",
       "      <td>1</td>\n",
       "      <td>0</td>\n",
       "      <td>...</td>\n",
       "      <td>0</td>\n",
       "      <td>0</td>\n",
       "      <td>0</td>\n",
       "      <td>0</td>\n",
       "      <td>0</td>\n",
       "      <td>0</td>\n",
       "      <td>0</td>\n",
       "      <td>0</td>\n",
       "      <td>1</td>\n",
       "      <td>2</td>\n",
       "    </tr>\n",
       "    <tr>\n",
       "      <th>882</th>\n",
       "      <td>1</td>\n",
       "      <td>10</td>\n",
       "      <td>52</td>\n",
       "      <td>0</td>\n",
       "      <td>0</td>\n",
       "      <td>0</td>\n",
       "      <td>0</td>\n",
       "      <td>0</td>\n",
       "      <td>0</td>\n",
       "      <td>0</td>\n",
       "      <td>...</td>\n",
       "      <td>0</td>\n",
       "      <td>0</td>\n",
       "      <td>0</td>\n",
       "      <td>0</td>\n",
       "      <td>0</td>\n",
       "      <td>0</td>\n",
       "      <td>0</td>\n",
       "      <td>0</td>\n",
       "      <td>1</td>\n",
       "      <td>0</td>\n",
       "    </tr>\n",
       "    <tr>\n",
       "      <th>883</th>\n",
       "      <td>4.0</td>\n",
       "      <td>21</td>\n",
       "      <td>44</td>\n",
       "      <td>1</td>\n",
       "      <td>0</td>\n",
       "      <td>0</td>\n",
       "      <td>0</td>\n",
       "      <td>0</td>\n",
       "      <td>0</td>\n",
       "      <td>0</td>\n",
       "      <td>...</td>\n",
       "      <td>0</td>\n",
       "      <td>0</td>\n",
       "      <td>0</td>\n",
       "      <td>0</td>\n",
       "      <td>0</td>\n",
       "      <td>0</td>\n",
       "      <td>0</td>\n",
       "      <td>0</td>\n",
       "      <td>0</td>\n",
       "      <td>2</td>\n",
       "    </tr>\n",
       "    <tr>\n",
       "      <th>884</th>\n",
       "      <td>3.8</td>\n",
       "      <td>3</td>\n",
       "      <td>17</td>\n",
       "      <td>0</td>\n",
       "      <td>0</td>\n",
       "      <td>0</td>\n",
       "      <td>0</td>\n",
       "      <td>1</td>\n",
       "      <td>0</td>\n",
       "      <td>0</td>\n",
       "      <td>...</td>\n",
       "      <td>0</td>\n",
       "      <td>0</td>\n",
       "      <td>0</td>\n",
       "      <td>0</td>\n",
       "      <td>0</td>\n",
       "      <td>0</td>\n",
       "      <td>0</td>\n",
       "      <td>0</td>\n",
       "      <td>0</td>\n",
       "      <td>5</td>\n",
       "    </tr>\n",
       "  </tbody>\n",
       "</table>\n",
       "<p>5 rows × 513 columns</p>\n",
       "</div>"
      ],
      "text/plain": [
       "    Rating  Location  Industry Python R Prog Excel Hadoop SQL SAS  \\\n",
       "880    4.7         3        52      0      0     1      0   0   0   \n",
       "881    4.3        21        52      0      0     0      0   0   1   \n",
       "882      1        10        52      0      0     0      0   0   0   \n",
       "883    4.0        21        44      1      0     0      0   0   0   \n",
       "884    3.8         3        17      0      0     0      0   1   0   \n",
       "\n",
       "     Job.Title_Data Analyst  ...  Sector_Media  Sector_Mining & Metals  \\\n",
       "880                       0  ...             0                       0   \n",
       "881                       0  ...             0                       0   \n",
       "882                       0  ...             0                       0   \n",
       "883                       0  ...             0                       0   \n",
       "884                       0  ...             0                       0   \n",
       "\n",
       "     Sector_Oil, Gas, Energy & Utilities  Sector_Real Estate  Sector_Retail  \\\n",
       "880                                    0                   0              0   \n",
       "881                                    0                   0              0   \n",
       "882                                    0                   0              0   \n",
       "883                                    0                   0              0   \n",
       "884                                    0                   0              0   \n",
       "\n",
       "     Sector_Telecommunications  Sector_Transportation & Logistics  \\\n",
       "880                          0                                  0   \n",
       "881                          0                                  0   \n",
       "882                          0                                  0   \n",
       "883                          0                                  0   \n",
       "884                          0                                  0   \n",
       "\n",
       "     Sector_Travel & Tourism  Sector_not mentioned  Cluster  \n",
       "880                        0                     1        0  \n",
       "881                        0                     1        2  \n",
       "882                        0                     1        0  \n",
       "883                        0                     0        2  \n",
       "884                        0                     0        5  \n",
       "\n",
       "[5 rows x 513 columns]"
      ]
     },
     "execution_count": 61,
     "metadata": {},
     "output_type": "execute_result"
    }
   ],
   "source": [
    "df1_cat.tail()\n",
    "#df1_cat is raw clean dataset"
   ]
  },
  {
   "cell_type": "code",
   "execution_count": null,
   "metadata": {},
   "outputs": [],
   "source": []
  },
  {
   "cell_type": "code",
   "execution_count": 161,
   "metadata": {},
   "outputs": [],
   "source": [
    "# All the observations are clustered in 6 clusters.\n",
    "# We will analyse "
   ]
  },
  {
   "cell_type": "code",
   "execution_count": 62,
   "metadata": {
    "scrolled": true
   },
   "outputs": [
    {
     "data": {
      "text/html": [
       "<div>\n",
       "<style scoped>\n",
       "    .dataframe tbody tr th:only-of-type {\n",
       "        vertical-align: middle;\n",
       "    }\n",
       "\n",
       "    .dataframe tbody tr th {\n",
       "        vertical-align: top;\n",
       "    }\n",
       "\n",
       "    .dataframe thead th {\n",
       "        text-align: right;\n",
       "    }\n",
       "</style>\n",
       "<table border=\"1\" class=\"dataframe\">\n",
       "  <thead>\n",
       "    <tr style=\"text-align: right;\">\n",
       "      <th></th>\n",
       "      <th>Location</th>\n",
       "      <th>Industry</th>\n",
       "      <th>Job.Title_Data Analyst</th>\n",
       "      <th>Job.Title_Data Engineer</th>\n",
       "      <th>Job.Title_Data Scientist</th>\n",
       "      <th>Job.Title_Machine Learning Engineer</th>\n",
       "      <th>Company.Name_6sense</th>\n",
       "      <th>Company.Name_ADCI - Karnataka</th>\n",
       "      <th>Company.Name_ADCI HYD 13 SEZ</th>\n",
       "      <th>Company.Name_ADmyBRAND</th>\n",
       "      <th>...</th>\n",
       "      <th>Sector_Media</th>\n",
       "      <th>Sector_Mining &amp; Metals</th>\n",
       "      <th>Sector_Oil, Gas, Energy &amp; Utilities</th>\n",
       "      <th>Sector_Real Estate</th>\n",
       "      <th>Sector_Retail</th>\n",
       "      <th>Sector_Telecommunications</th>\n",
       "      <th>Sector_Transportation &amp; Logistics</th>\n",
       "      <th>Sector_Travel &amp; Tourism</th>\n",
       "      <th>Sector_not mentioned</th>\n",
       "      <th>Cluster</th>\n",
       "    </tr>\n",
       "  </thead>\n",
       "  <tbody>\n",
       "    <tr>\n",
       "      <th>count</th>\n",
       "      <td>228.000000</td>\n",
       "      <td>228.000000</td>\n",
       "      <td>228.000000</td>\n",
       "      <td>228.000000</td>\n",
       "      <td>228.000000</td>\n",
       "      <td>228.000000</td>\n",
       "      <td>228.0</td>\n",
       "      <td>228.000000</td>\n",
       "      <td>228.000000</td>\n",
       "      <td>228.000000</td>\n",
       "      <td>...</td>\n",
       "      <td>228.000000</td>\n",
       "      <td>228.0</td>\n",
       "      <td>228.0</td>\n",
       "      <td>228.000000</td>\n",
       "      <td>228.000000</td>\n",
       "      <td>228.000000</td>\n",
       "      <td>228.000000</td>\n",
       "      <td>228.000000</td>\n",
       "      <td>228.000000</td>\n",
       "      <td>228.0</td>\n",
       "    </tr>\n",
       "    <tr>\n",
       "      <th>mean</th>\n",
       "      <td>4.969298</td>\n",
       "      <td>50.092105</td>\n",
       "      <td>0.201754</td>\n",
       "      <td>0.021930</td>\n",
       "      <td>0.706140</td>\n",
       "      <td>0.070175</td>\n",
       "      <td>0.0</td>\n",
       "      <td>0.008772</td>\n",
       "      <td>0.004386</td>\n",
       "      <td>0.004386</td>\n",
       "      <td>...</td>\n",
       "      <td>0.035088</td>\n",
       "      <td>0.0</td>\n",
       "      <td>0.0</td>\n",
       "      <td>0.004386</td>\n",
       "      <td>0.004386</td>\n",
       "      <td>0.013158</td>\n",
       "      <td>0.008772</td>\n",
       "      <td>0.048246</td>\n",
       "      <td>0.710526</td>\n",
       "      <td>0.0</td>\n",
       "    </tr>\n",
       "    <tr>\n",
       "      <th>std</th>\n",
       "      <td>3.208459</td>\n",
       "      <td>3.395427</td>\n",
       "      <td>0.402193</td>\n",
       "      <td>0.146777</td>\n",
       "      <td>0.456531</td>\n",
       "      <td>0.256004</td>\n",
       "      <td>0.0</td>\n",
       "      <td>0.093452</td>\n",
       "      <td>0.066227</td>\n",
       "      <td>0.066227</td>\n",
       "      <td>...</td>\n",
       "      <td>0.184406</td>\n",
       "      <td>0.0</td>\n",
       "      <td>0.0</td>\n",
       "      <td>0.066227</td>\n",
       "      <td>0.066227</td>\n",
       "      <td>0.114201</td>\n",
       "      <td>0.093452</td>\n",
       "      <td>0.214756</td>\n",
       "      <td>0.454516</td>\n",
       "      <td>0.0</td>\n",
       "    </tr>\n",
       "    <tr>\n",
       "      <th>min</th>\n",
       "      <td>0.000000</td>\n",
       "      <td>39.000000</td>\n",
       "      <td>0.000000</td>\n",
       "      <td>0.000000</td>\n",
       "      <td>0.000000</td>\n",
       "      <td>0.000000</td>\n",
       "      <td>0.0</td>\n",
       "      <td>0.000000</td>\n",
       "      <td>0.000000</td>\n",
       "      <td>0.000000</td>\n",
       "      <td>...</td>\n",
       "      <td>0.000000</td>\n",
       "      <td>0.0</td>\n",
       "      <td>0.0</td>\n",
       "      <td>0.000000</td>\n",
       "      <td>0.000000</td>\n",
       "      <td>0.000000</td>\n",
       "      <td>0.000000</td>\n",
       "      <td>0.000000</td>\n",
       "      <td>0.000000</td>\n",
       "      <td>0.0</td>\n",
       "    </tr>\n",
       "    <tr>\n",
       "      <th>25%</th>\n",
       "      <td>3.000000</td>\n",
       "      <td>50.000000</td>\n",
       "      <td>0.000000</td>\n",
       "      <td>0.000000</td>\n",
       "      <td>0.000000</td>\n",
       "      <td>0.000000</td>\n",
       "      <td>0.0</td>\n",
       "      <td>0.000000</td>\n",
       "      <td>0.000000</td>\n",
       "      <td>0.000000</td>\n",
       "      <td>...</td>\n",
       "      <td>0.000000</td>\n",
       "      <td>0.0</td>\n",
       "      <td>0.0</td>\n",
       "      <td>0.000000</td>\n",
       "      <td>0.000000</td>\n",
       "      <td>0.000000</td>\n",
       "      <td>0.000000</td>\n",
       "      <td>0.000000</td>\n",
       "      <td>0.000000</td>\n",
       "      <td>0.0</td>\n",
       "    </tr>\n",
       "    <tr>\n",
       "      <th>50%</th>\n",
       "      <td>3.000000</td>\n",
       "      <td>52.000000</td>\n",
       "      <td>0.000000</td>\n",
       "      <td>0.000000</td>\n",
       "      <td>1.000000</td>\n",
       "      <td>0.000000</td>\n",
       "      <td>0.0</td>\n",
       "      <td>0.000000</td>\n",
       "      <td>0.000000</td>\n",
       "      <td>0.000000</td>\n",
       "      <td>...</td>\n",
       "      <td>0.000000</td>\n",
       "      <td>0.0</td>\n",
       "      <td>0.0</td>\n",
       "      <td>0.000000</td>\n",
       "      <td>0.000000</td>\n",
       "      <td>0.000000</td>\n",
       "      <td>0.000000</td>\n",
       "      <td>0.000000</td>\n",
       "      <td>1.000000</td>\n",
       "      <td>0.0</td>\n",
       "    </tr>\n",
       "    <tr>\n",
       "      <th>75%</th>\n",
       "      <td>9.000000</td>\n",
       "      <td>52.000000</td>\n",
       "      <td>0.000000</td>\n",
       "      <td>0.000000</td>\n",
       "      <td>1.000000</td>\n",
       "      <td>0.000000</td>\n",
       "      <td>0.0</td>\n",
       "      <td>0.000000</td>\n",
       "      <td>0.000000</td>\n",
       "      <td>0.000000</td>\n",
       "      <td>...</td>\n",
       "      <td>0.000000</td>\n",
       "      <td>0.0</td>\n",
       "      <td>0.0</td>\n",
       "      <td>0.000000</td>\n",
       "      <td>0.000000</td>\n",
       "      <td>0.000000</td>\n",
       "      <td>0.000000</td>\n",
       "      <td>0.000000</td>\n",
       "      <td>1.000000</td>\n",
       "      <td>0.0</td>\n",
       "    </tr>\n",
       "    <tr>\n",
       "      <th>max</th>\n",
       "      <td>14.000000</td>\n",
       "      <td>52.000000</td>\n",
       "      <td>1.000000</td>\n",
       "      <td>1.000000</td>\n",
       "      <td>1.000000</td>\n",
       "      <td>1.000000</td>\n",
       "      <td>0.0</td>\n",
       "      <td>1.000000</td>\n",
       "      <td>1.000000</td>\n",
       "      <td>1.000000</td>\n",
       "      <td>...</td>\n",
       "      <td>1.000000</td>\n",
       "      <td>0.0</td>\n",
       "      <td>0.0</td>\n",
       "      <td>1.000000</td>\n",
       "      <td>1.000000</td>\n",
       "      <td>1.000000</td>\n",
       "      <td>1.000000</td>\n",
       "      <td>1.000000</td>\n",
       "      <td>1.000000</td>\n",
       "      <td>0.0</td>\n",
       "    </tr>\n",
       "  </tbody>\n",
       "</table>\n",
       "<p>8 rows × 506 columns</p>\n",
       "</div>"
      ],
      "text/plain": [
       "         Location    Industry  Job.Title_Data Analyst  \\\n",
       "count  228.000000  228.000000              228.000000   \n",
       "mean     4.969298   50.092105                0.201754   \n",
       "std      3.208459    3.395427                0.402193   \n",
       "min      0.000000   39.000000                0.000000   \n",
       "25%      3.000000   50.000000                0.000000   \n",
       "50%      3.000000   52.000000                0.000000   \n",
       "75%      9.000000   52.000000                0.000000   \n",
       "max     14.000000   52.000000                1.000000   \n",
       "\n",
       "       Job.Title_Data Engineer  Job.Title_Data Scientist  \\\n",
       "count               228.000000                228.000000   \n",
       "mean                  0.021930                  0.706140   \n",
       "std                   0.146777                  0.456531   \n",
       "min                   0.000000                  0.000000   \n",
       "25%                   0.000000                  0.000000   \n",
       "50%                   0.000000                  1.000000   \n",
       "75%                   0.000000                  1.000000   \n",
       "max                   1.000000                  1.000000   \n",
       "\n",
       "       Job.Title_Machine Learning Engineer  Company.Name_6sense  \\\n",
       "count                           228.000000                228.0   \n",
       "mean                              0.070175                  0.0   \n",
       "std                               0.256004                  0.0   \n",
       "min                               0.000000                  0.0   \n",
       "25%                               0.000000                  0.0   \n",
       "50%                               0.000000                  0.0   \n",
       "75%                               0.000000                  0.0   \n",
       "max                               1.000000                  0.0   \n",
       "\n",
       "       Company.Name_ADCI - Karnataka  Company.Name_ADCI HYD 13 SEZ  \\\n",
       "count                     228.000000                    228.000000   \n",
       "mean                        0.008772                      0.004386   \n",
       "std                         0.093452                      0.066227   \n",
       "min                         0.000000                      0.000000   \n",
       "25%                         0.000000                      0.000000   \n",
       "50%                         0.000000                      0.000000   \n",
       "75%                         0.000000                      0.000000   \n",
       "max                         1.000000                      1.000000   \n",
       "\n",
       "       Company.Name_ADmyBRAND  ...  Sector_Media  Sector_Mining & Metals  \\\n",
       "count              228.000000  ...    228.000000                   228.0   \n",
       "mean                 0.004386  ...      0.035088                     0.0   \n",
       "std                  0.066227  ...      0.184406                     0.0   \n",
       "min                  0.000000  ...      0.000000                     0.0   \n",
       "25%                  0.000000  ...      0.000000                     0.0   \n",
       "50%                  0.000000  ...      0.000000                     0.0   \n",
       "75%                  0.000000  ...      0.000000                     0.0   \n",
       "max                  1.000000  ...      1.000000                     0.0   \n",
       "\n",
       "       Sector_Oil, Gas, Energy & Utilities  Sector_Real Estate  Sector_Retail  \\\n",
       "count                                228.0          228.000000     228.000000   \n",
       "mean                                   0.0            0.004386       0.004386   \n",
       "std                                    0.0            0.066227       0.066227   \n",
       "min                                    0.0            0.000000       0.000000   \n",
       "25%                                    0.0            0.000000       0.000000   \n",
       "50%                                    0.0            0.000000       0.000000   \n",
       "75%                                    0.0            0.000000       0.000000   \n",
       "max                                    0.0            1.000000       1.000000   \n",
       "\n",
       "       Sector_Telecommunications  Sector_Transportation & Logistics  \\\n",
       "count                 228.000000                         228.000000   \n",
       "mean                    0.013158                           0.008772   \n",
       "std                     0.114201                           0.093452   \n",
       "min                     0.000000                           0.000000   \n",
       "25%                     0.000000                           0.000000   \n",
       "50%                     0.000000                           0.000000   \n",
       "75%                     0.000000                           0.000000   \n",
       "max                     1.000000                           1.000000   \n",
       "\n",
       "       Sector_Travel & Tourism  Sector_not mentioned  Cluster  \n",
       "count               228.000000            228.000000    228.0  \n",
       "mean                  0.048246              0.710526      0.0  \n",
       "std                   0.214756              0.454516      0.0  \n",
       "min                   0.000000              0.000000      0.0  \n",
       "25%                   0.000000              0.000000      0.0  \n",
       "50%                   0.000000              1.000000      0.0  \n",
       "75%                   0.000000              1.000000      0.0  \n",
       "max                   1.000000              1.000000      0.0  \n",
       "\n",
       "[8 rows x 506 columns]"
      ]
     },
     "execution_count": 62,
     "metadata": {},
     "output_type": "execute_result"
    }
   ],
   "source": [
    "df1_cat.loc[df1_cat['Cluster']==0].describe()"
   ]
  },
  {
   "cell_type": "code",
   "execution_count": null,
   "metadata": {},
   "outputs": [],
   "source": [
    "#There are 228 datapoints in cluster 0.\n",
    "#The job related data in cluster 0 is different from job related data in cluster 1 and other clusters.\n",
    "#Industry is label encoded.SO do not make inference from mean,median value .It will give wrong inference.\n",
    "#For all teh encoded cate variables u must focus on min and max values only.\n",
    "#Mean,median values of encoded cate vars will give wrog inference.\n",
    "#"
   ]
  },
  {
   "cell_type": "code",
   "execution_count": 63,
   "metadata": {},
   "outputs": [],
   "source": [
    "df_0=df1_cat.loc[df1_cat['Cluster']==0]"
   ]
  },
  {
   "cell_type": "code",
   "execution_count": 64,
   "metadata": {
    "scrolled": true
   },
   "outputs": [
    {
     "data": {
      "text/html": [
       "<div>\n",
       "<style scoped>\n",
       "    .dataframe tbody tr th:only-of-type {\n",
       "        vertical-align: middle;\n",
       "    }\n",
       "\n",
       "    .dataframe tbody tr th {\n",
       "        vertical-align: top;\n",
       "    }\n",
       "\n",
       "    .dataframe thead th {\n",
       "        text-align: right;\n",
       "    }\n",
       "</style>\n",
       "<table border=\"1\" class=\"dataframe\">\n",
       "  <thead>\n",
       "    <tr style=\"text-align: right;\">\n",
       "      <th></th>\n",
       "      <th>Rating</th>\n",
       "      <th>Location</th>\n",
       "      <th>Industry</th>\n",
       "      <th>Python</th>\n",
       "      <th>R Prog</th>\n",
       "      <th>Excel</th>\n",
       "      <th>Hadoop</th>\n",
       "      <th>SQL</th>\n",
       "      <th>SAS</th>\n",
       "      <th>Job.Title_Data Analyst</th>\n",
       "      <th>...</th>\n",
       "      <th>Sector_Media</th>\n",
       "      <th>Sector_Mining &amp; Metals</th>\n",
       "      <th>Sector_Oil, Gas, Energy &amp; Utilities</th>\n",
       "      <th>Sector_Real Estate</th>\n",
       "      <th>Sector_Retail</th>\n",
       "      <th>Sector_Telecommunications</th>\n",
       "      <th>Sector_Transportation &amp; Logistics</th>\n",
       "      <th>Sector_Travel &amp; Tourism</th>\n",
       "      <th>Sector_not mentioned</th>\n",
       "      <th>Cluster</th>\n",
       "    </tr>\n",
       "  </thead>\n",
       "  <tbody>\n",
       "    <tr>\n",
       "      <th>4</th>\n",
       "      <td>3.3</td>\n",
       "      <td>10</td>\n",
       "      <td>44</td>\n",
       "      <td>1</td>\n",
       "      <td>0</td>\n",
       "      <td>1</td>\n",
       "      <td>0</td>\n",
       "      <td>0</td>\n",
       "      <td>1</td>\n",
       "      <td>0</td>\n",
       "      <td>...</td>\n",
       "      <td>0</td>\n",
       "      <td>0</td>\n",
       "      <td>0</td>\n",
       "      <td>0</td>\n",
       "      <td>0</td>\n",
       "      <td>0</td>\n",
       "      <td>0</td>\n",
       "      <td>0</td>\n",
       "      <td>0</td>\n",
       "      <td>0</td>\n",
       "    </tr>\n",
       "    <tr>\n",
       "      <th>15</th>\n",
       "      <td>3.4</td>\n",
       "      <td>10</td>\n",
       "      <td>43</td>\n",
       "      <td>1</td>\n",
       "      <td>0</td>\n",
       "      <td>1</td>\n",
       "      <td>1</td>\n",
       "      <td>0</td>\n",
       "      <td>0</td>\n",
       "      <td>0</td>\n",
       "      <td>...</td>\n",
       "      <td>0</td>\n",
       "      <td>0</td>\n",
       "      <td>0</td>\n",
       "      <td>0</td>\n",
       "      <td>1</td>\n",
       "      <td>0</td>\n",
       "      <td>0</td>\n",
       "      <td>0</td>\n",
       "      <td>0</td>\n",
       "      <td>0</td>\n",
       "    </tr>\n",
       "    <tr>\n",
       "      <th>25</th>\n",
       "      <td>4.1</td>\n",
       "      <td>9</td>\n",
       "      <td>52</td>\n",
       "      <td>1</td>\n",
       "      <td>0</td>\n",
       "      <td>0</td>\n",
       "      <td>0</td>\n",
       "      <td>0</td>\n",
       "      <td>1</td>\n",
       "      <td>0</td>\n",
       "      <td>...</td>\n",
       "      <td>0</td>\n",
       "      <td>0</td>\n",
       "      <td>0</td>\n",
       "      <td>0</td>\n",
       "      <td>0</td>\n",
       "      <td>0</td>\n",
       "      <td>0</td>\n",
       "      <td>0</td>\n",
       "      <td>1</td>\n",
       "      <td>0</td>\n",
       "    </tr>\n",
       "    <tr>\n",
       "      <th>30</th>\n",
       "      <td>3.9</td>\n",
       "      <td>10</td>\n",
       "      <td>52</td>\n",
       "      <td>0</td>\n",
       "      <td>0</td>\n",
       "      <td>0</td>\n",
       "      <td>0</td>\n",
       "      <td>0</td>\n",
       "      <td>0</td>\n",
       "      <td>0</td>\n",
       "      <td>...</td>\n",
       "      <td>0</td>\n",
       "      <td>0</td>\n",
       "      <td>0</td>\n",
       "      <td>0</td>\n",
       "      <td>0</td>\n",
       "      <td>0</td>\n",
       "      <td>0</td>\n",
       "      <td>0</td>\n",
       "      <td>1</td>\n",
       "      <td>0</td>\n",
       "    </tr>\n",
       "    <tr>\n",
       "      <th>37</th>\n",
       "      <td>3.5</td>\n",
       "      <td>11</td>\n",
       "      <td>52</td>\n",
       "      <td>1</td>\n",
       "      <td>0</td>\n",
       "      <td>1</td>\n",
       "      <td>0</td>\n",
       "      <td>1</td>\n",
       "      <td>0</td>\n",
       "      <td>0</td>\n",
       "      <td>...</td>\n",
       "      <td>0</td>\n",
       "      <td>0</td>\n",
       "      <td>0</td>\n",
       "      <td>0</td>\n",
       "      <td>0</td>\n",
       "      <td>0</td>\n",
       "      <td>0</td>\n",
       "      <td>0</td>\n",
       "      <td>1</td>\n",
       "      <td>0</td>\n",
       "    </tr>\n",
       "  </tbody>\n",
       "</table>\n",
       "<p>5 rows × 513 columns</p>\n",
       "</div>"
      ],
      "text/plain": [
       "   Rating  Location  Industry Python R Prog Excel Hadoop SQL SAS  \\\n",
       "4     3.3        10        44      1      0     1      0   0   1   \n",
       "15    3.4        10        43      1      0     1      1   0   0   \n",
       "25    4.1         9        52      1      0     0      0   0   1   \n",
       "30    3.9        10        52      0      0     0      0   0   0   \n",
       "37    3.5        11        52      1      0     1      0   1   0   \n",
       "\n",
       "    Job.Title_Data Analyst  ...  Sector_Media  Sector_Mining & Metals  \\\n",
       "4                        0  ...             0                       0   \n",
       "15                       0  ...             0                       0   \n",
       "25                       0  ...             0                       0   \n",
       "30                       0  ...             0                       0   \n",
       "37                       0  ...             0                       0   \n",
       "\n",
       "    Sector_Oil, Gas, Energy & Utilities  Sector_Real Estate  Sector_Retail  \\\n",
       "4                                     0                   0              0   \n",
       "15                                    0                   0              1   \n",
       "25                                    0                   0              0   \n",
       "30                                    0                   0              0   \n",
       "37                                    0                   0              0   \n",
       "\n",
       "    Sector_Telecommunications  Sector_Transportation & Logistics  \\\n",
       "4                           0                                  0   \n",
       "15                          0                                  0   \n",
       "25                          0                                  0   \n",
       "30                          0                                  0   \n",
       "37                          0                                  0   \n",
       "\n",
       "    Sector_Travel & Tourism  Sector_not mentioned  Cluster  \n",
       "4                         0                     0        0  \n",
       "15                        0                     0        0  \n",
       "25                        0                     1        0  \n",
       "30                        0                     1        0  \n",
       "37                        0                     1        0  \n",
       "\n",
       "[5 rows x 513 columns]"
      ]
     },
     "execution_count": 64,
     "metadata": {},
     "output_type": "execute_result"
    }
   ],
   "source": [
    "df_0.head()#this df has data points in cluster 0"
   ]
  },
  {
   "cell_type": "code",
   "execution_count": 183,
   "metadata": {},
   "outputs": [],
   "source": [
    "# df_0.loc[df_0['Job.Title_Data Scientist']==1].head(3)"
   ]
  },
  {
   "cell_type": "code",
   "execution_count": 184,
   "metadata": {
    "scrolled": false
   },
   "outputs": [],
   "source": [
    "#df_0.loc[df_0['Job.Title_Data Scientist']==1]['Job.Title_Data Scientist']"
   ]
  },
  {
   "cell_type": "code",
   "execution_count": 65,
   "metadata": {},
   "outputs": [
    {
     "data": {
      "text/plain": [
       "161"
      ]
     },
     "execution_count": 65,
     "metadata": {},
     "output_type": "execute_result"
    }
   ],
   "source": [
    "len(df_0.loc[df_0['Job.Title_Data Scientist']==1]['Job.Title_Data Scientist'])"
   ]
  },
  {
   "cell_type": "code",
   "execution_count": null,
   "metadata": {},
   "outputs": [],
   "source": [
    "#There are 161 Data Scientist roles in cluster 0."
   ]
  },
  {
   "cell_type": "code",
   "execution_count": 66,
   "metadata": {
    "scrolled": true
   },
   "outputs": [
    {
     "data": {
      "text/plain": [
       "100"
      ]
     },
     "execution_count": 66,
     "metadata": {},
     "output_type": "execute_result"
    }
   ],
   "source": [
    "len(df_0.loc[((df_0['Job.Title_Data Scientist']==1)&(df_0['Python']==1))])"
   ]
  },
  {
   "cell_type": "code",
   "execution_count": 67,
   "metadata": {
    "scrolled": true
   },
   "outputs": [
    {
     "name": "stdout",
     "output_type": "stream",
     "text": [
      "Percentage of Data Scientist job roles where python skill is must  62.11180124223602\n"
     ]
    }
   ],
   "source": [
    "print(\"Percentage of Data Scientist job roles where python skill is must \",(100/161*100))\n",
    "#In cluster 0,62 percentage of DS roles require python skill."
   ]
  },
  {
   "cell_type": "markdown",
   "metadata": {},
   "source": [
    "Inference 1:\n",
    "In cluster 0,the count of data scientist jobs which require python skill(compulsary) is 100."
   ]
  },
  {
   "cell_type": "code",
   "execution_count": null,
   "metadata": {},
   "outputs": [],
   "source": []
  },
  {
   "cell_type": "code",
   "execution_count": 191,
   "metadata": {},
   "outputs": [],
   "source": [
    "#df_0.columns[450:500]"
   ]
  },
  {
   "cell_type": "code",
   "execution_count": 68,
   "metadata": {},
   "outputs": [
    {
     "data": {
      "text/plain": [
       "5"
      ]
     },
     "execution_count": 68,
     "metadata": {},
     "output_type": "execute_result"
    }
   ],
   "source": [
    "len(df_0.loc[((df_0['Job.Title_Data Scientist']==1)&(df_0['Revenue_500+ billion (INR)']==1))])"
   ]
  },
  {
   "cell_type": "code",
   "execution_count": 174,
   "metadata": {},
   "outputs": [
    {
     "data": {
      "text/plain": [
       "0.031055900621118012"
      ]
     },
     "execution_count": 174,
     "metadata": {},
     "output_type": "execute_result"
    }
   ],
   "source": [
    "5/161"
   ]
  },
  {
   "cell_type": "code",
   "execution_count": 69,
   "metadata": {},
   "outputs": [
    {
     "name": "stdout",
     "output_type": "stream",
     "text": [
      "Percentage of data scientist jobs in high revenue generating companies wrt count of ds jobs in cluster 0  3.1055900621118013\n"
     ]
    }
   ],
   "source": [
    "print(\"Percentage of data scientist jobs in high revenue generating companies wrt count of ds jobs in cluster 0 \",(5/161)*100)"
   ]
  },
  {
   "cell_type": "markdown",
   "metadata": {},
   "source": [
    "Inference 2:\n",
    "In cluster 0,count of data scientist job roles in high revenue companies is just 5."
   ]
  },
  {
   "cell_type": "code",
   "execution_count": null,
   "metadata": {},
   "outputs": [],
   "source": [
    "#df1.Sector.value_counts()\n",
    "#How many data Scientist jobs are there in IT sector\n",
    "#Howmany D Scientits jobs are there in Business Services sector?\n",
    "#use this concept in clustrer 0 \n",
    "#apply df.loc[with 2 conditions] three times in cluster 0\n",
    "#apply df.loc[with 2 conditions] three times in cluster 1\n",
    "#In cluster 0,count of d scientitst job vacancies in sector of IT is say 20\n",
    "#In cluster 1,count of d scientist job vacanciser in IT is say 30\n",
    "##In cluster 0,count of d scientitst job vacancies in sector of Business is say 20\n",
    "#In cluster 1,count of d scientist job vacanciser in business is say 30\n",
    "#calculate the percentage value for previsou s4 sentences."
   ]
  },
  {
   "cell_type": "code",
   "execution_count": 186,
   "metadata": {},
   "outputs": [],
   "source": [
    "#df_0.columns[400:500]"
   ]
  },
  {
   "cell_type": "code",
   "execution_count": 70,
   "metadata": {},
   "outputs": [
    {
     "data": {
      "text/plain": [
       "6"
      ]
     },
     "execution_count": 70,
     "metadata": {},
     "output_type": "execute_result"
    }
   ],
   "source": [
    "len(df_0.loc[((df_0['Job.Title_Data Scientist']==1)&(df_0['Size_10000+ employees']==1))])"
   ]
  },
  {
   "cell_type": "code",
   "execution_count": null,
   "metadata": {},
   "outputs": [],
   "source": [
    "In cluster 0,count of Data Scientist roles in companies with Size_10000+ employees is just 6.\n",
    "Few Ds job titles are present in bulk companies.(companies with many employees)"
   ]
  },
  {
   "cell_type": "markdown",
   "metadata": {},
   "source": [
    "Inference 3:\n",
    "In cluster0,count of Data Scientist roles in high size companies is just 6."
   ]
  },
  {
   "cell_type": "code",
   "execution_count": 198,
   "metadata": {
    "scrolled": true
   },
   "outputs": [],
   "source": [
    "#df_0.head(2)# df1.Size.value_counts() # df_0['Company.Name_Amazon'].value_counts() \n",
    "#In cluster 0 no data scientist job is available in amazon company.\n",
    "# df_0.loc[(df_0['Company.Name_Amazon']==1) # df_0.loc[((df_0['Job.Title_Data Scientist']==1)&(df_0['Company.Name_Amazon']==1))]"
   ]
  },
  {
   "cell_type": "code",
   "execution_count": 71,
   "metadata": {
    "scrolled": true
   },
   "outputs": [
    {
     "data": {
      "text/html": [
       "<div>\n",
       "<style scoped>\n",
       "    .dataframe tbody tr th:only-of-type {\n",
       "        vertical-align: middle;\n",
       "    }\n",
       "\n",
       "    .dataframe tbody tr th {\n",
       "        vertical-align: top;\n",
       "    }\n",
       "\n",
       "    .dataframe thead th {\n",
       "        text-align: right;\n",
       "    }\n",
       "</style>\n",
       "<table border=\"1\" class=\"dataframe\">\n",
       "  <thead>\n",
       "    <tr style=\"text-align: right;\">\n",
       "      <th></th>\n",
       "      <th>Location</th>\n",
       "      <th>Industry</th>\n",
       "      <th>Job.Title_Data Analyst</th>\n",
       "      <th>Job.Title_Data Engineer</th>\n",
       "      <th>Job.Title_Data Scientist</th>\n",
       "      <th>Job.Title_Machine Learning Engineer</th>\n",
       "      <th>Company.Name_6sense</th>\n",
       "      <th>Company.Name_ADCI - Karnataka</th>\n",
       "      <th>Company.Name_ADCI HYD 13 SEZ</th>\n",
       "      <th>Company.Name_ADmyBRAND</th>\n",
       "      <th>...</th>\n",
       "      <th>Sector_Media</th>\n",
       "      <th>Sector_Mining &amp; Metals</th>\n",
       "      <th>Sector_Oil, Gas, Energy &amp; Utilities</th>\n",
       "      <th>Sector_Real Estate</th>\n",
       "      <th>Sector_Retail</th>\n",
       "      <th>Sector_Telecommunications</th>\n",
       "      <th>Sector_Transportation &amp; Logistics</th>\n",
       "      <th>Sector_Travel &amp; Tourism</th>\n",
       "      <th>Sector_not mentioned</th>\n",
       "      <th>Cluster</th>\n",
       "    </tr>\n",
       "  </thead>\n",
       "  <tbody>\n",
       "    <tr>\n",
       "      <th>count</th>\n",
       "      <td>154.000000</td>\n",
       "      <td>154.000000</td>\n",
       "      <td>154.000000</td>\n",
       "      <td>154.000000</td>\n",
       "      <td>154.000000</td>\n",
       "      <td>154.000000</td>\n",
       "      <td>154.0</td>\n",
       "      <td>154.0</td>\n",
       "      <td>154.0</td>\n",
       "      <td>154.0</td>\n",
       "      <td>...</td>\n",
       "      <td>154.0</td>\n",
       "      <td>154.0</td>\n",
       "      <td>154.000000</td>\n",
       "      <td>154.0</td>\n",
       "      <td>154.000000</td>\n",
       "      <td>154.0</td>\n",
       "      <td>154.0</td>\n",
       "      <td>154.0</td>\n",
       "      <td>154.0</td>\n",
       "      <td>154.0</td>\n",
       "    </tr>\n",
       "    <tr>\n",
       "      <th>mean</th>\n",
       "      <td>5.006494</td>\n",
       "      <td>26.227273</td>\n",
       "      <td>0.129870</td>\n",
       "      <td>0.181818</td>\n",
       "      <td>0.662338</td>\n",
       "      <td>0.025974</td>\n",
       "      <td>0.0</td>\n",
       "      <td>0.0</td>\n",
       "      <td>0.0</td>\n",
       "      <td>0.0</td>\n",
       "      <td>...</td>\n",
       "      <td>0.0</td>\n",
       "      <td>0.0</td>\n",
       "      <td>0.025974</td>\n",
       "      <td>0.0</td>\n",
       "      <td>0.012987</td>\n",
       "      <td>0.0</td>\n",
       "      <td>0.0</td>\n",
       "      <td>0.0</td>\n",
       "      <td>0.0</td>\n",
       "      <td>1.0</td>\n",
       "    </tr>\n",
       "    <tr>\n",
       "      <th>std</th>\n",
       "      <td>3.119613</td>\n",
       "      <td>2.747602</td>\n",
       "      <td>0.337257</td>\n",
       "      <td>0.386953</td>\n",
       "      <td>0.474456</td>\n",
       "      <td>0.159577</td>\n",
       "      <td>0.0</td>\n",
       "      <td>0.0</td>\n",
       "      <td>0.0</td>\n",
       "      <td>0.0</td>\n",
       "      <td>...</td>\n",
       "      <td>0.0</td>\n",
       "      <td>0.0</td>\n",
       "      <td>0.159577</td>\n",
       "      <td>0.0</td>\n",
       "      <td>0.113588</td>\n",
       "      <td>0.0</td>\n",
       "      <td>0.0</td>\n",
       "      <td>0.0</td>\n",
       "      <td>0.0</td>\n",
       "      <td>0.0</td>\n",
       "    </tr>\n",
       "    <tr>\n",
       "      <th>min</th>\n",
       "      <td>0.000000</td>\n",
       "      <td>19.000000</td>\n",
       "      <td>0.000000</td>\n",
       "      <td>0.000000</td>\n",
       "      <td>0.000000</td>\n",
       "      <td>0.000000</td>\n",
       "      <td>0.0</td>\n",
       "      <td>0.0</td>\n",
       "      <td>0.0</td>\n",
       "      <td>0.0</td>\n",
       "      <td>...</td>\n",
       "      <td>0.0</td>\n",
       "      <td>0.0</td>\n",
       "      <td>0.000000</td>\n",
       "      <td>0.0</td>\n",
       "      <td>0.000000</td>\n",
       "      <td>0.0</td>\n",
       "      <td>0.0</td>\n",
       "      <td>0.0</td>\n",
       "      <td>0.0</td>\n",
       "      <td>1.0</td>\n",
       "    </tr>\n",
       "    <tr>\n",
       "      <th>25%</th>\n",
       "      <td>3.000000</td>\n",
       "      <td>25.000000</td>\n",
       "      <td>0.000000</td>\n",
       "      <td>0.000000</td>\n",
       "      <td>0.000000</td>\n",
       "      <td>0.000000</td>\n",
       "      <td>0.0</td>\n",
       "      <td>0.0</td>\n",
       "      <td>0.0</td>\n",
       "      <td>0.0</td>\n",
       "      <td>...</td>\n",
       "      <td>0.0</td>\n",
       "      <td>0.0</td>\n",
       "      <td>0.000000</td>\n",
       "      <td>0.0</td>\n",
       "      <td>0.000000</td>\n",
       "      <td>0.0</td>\n",
       "      <td>0.0</td>\n",
       "      <td>0.0</td>\n",
       "      <td>0.0</td>\n",
       "      <td>1.0</td>\n",
       "    </tr>\n",
       "    <tr>\n",
       "      <th>50%</th>\n",
       "      <td>3.000000</td>\n",
       "      <td>25.000000</td>\n",
       "      <td>0.000000</td>\n",
       "      <td>0.000000</td>\n",
       "      <td>1.000000</td>\n",
       "      <td>0.000000</td>\n",
       "      <td>0.0</td>\n",
       "      <td>0.0</td>\n",
       "      <td>0.0</td>\n",
       "      <td>0.0</td>\n",
       "      <td>...</td>\n",
       "      <td>0.0</td>\n",
       "      <td>0.0</td>\n",
       "      <td>0.000000</td>\n",
       "      <td>0.0</td>\n",
       "      <td>0.000000</td>\n",
       "      <td>0.0</td>\n",
       "      <td>0.0</td>\n",
       "      <td>0.0</td>\n",
       "      <td>0.0</td>\n",
       "      <td>1.0</td>\n",
       "    </tr>\n",
       "    <tr>\n",
       "      <th>75%</th>\n",
       "      <td>6.000000</td>\n",
       "      <td>28.000000</td>\n",
       "      <td>0.000000</td>\n",
       "      <td>0.000000</td>\n",
       "      <td>1.000000</td>\n",
       "      <td>0.000000</td>\n",
       "      <td>0.0</td>\n",
       "      <td>0.0</td>\n",
       "      <td>0.0</td>\n",
       "      <td>0.0</td>\n",
       "      <td>...</td>\n",
       "      <td>0.0</td>\n",
       "      <td>0.0</td>\n",
       "      <td>0.000000</td>\n",
       "      <td>0.0</td>\n",
       "      <td>0.000000</td>\n",
       "      <td>0.0</td>\n",
       "      <td>0.0</td>\n",
       "      <td>0.0</td>\n",
       "      <td>0.0</td>\n",
       "      <td>1.0</td>\n",
       "    </tr>\n",
       "    <tr>\n",
       "      <th>max</th>\n",
       "      <td>13.000000</td>\n",
       "      <td>37.000000</td>\n",
       "      <td>1.000000</td>\n",
       "      <td>1.000000</td>\n",
       "      <td>1.000000</td>\n",
       "      <td>1.000000</td>\n",
       "      <td>0.0</td>\n",
       "      <td>0.0</td>\n",
       "      <td>0.0</td>\n",
       "      <td>0.0</td>\n",
       "      <td>...</td>\n",
       "      <td>0.0</td>\n",
       "      <td>0.0</td>\n",
       "      <td>1.000000</td>\n",
       "      <td>0.0</td>\n",
       "      <td>1.000000</td>\n",
       "      <td>0.0</td>\n",
       "      <td>0.0</td>\n",
       "      <td>0.0</td>\n",
       "      <td>0.0</td>\n",
       "      <td>1.0</td>\n",
       "    </tr>\n",
       "  </tbody>\n",
       "</table>\n",
       "<p>8 rows × 506 columns</p>\n",
       "</div>"
      ],
      "text/plain": [
       "         Location    Industry  Job.Title_Data Analyst  \\\n",
       "count  154.000000  154.000000              154.000000   \n",
       "mean     5.006494   26.227273                0.129870   \n",
       "std      3.119613    2.747602                0.337257   \n",
       "min      0.000000   19.000000                0.000000   \n",
       "25%      3.000000   25.000000                0.000000   \n",
       "50%      3.000000   25.000000                0.000000   \n",
       "75%      6.000000   28.000000                0.000000   \n",
       "max     13.000000   37.000000                1.000000   \n",
       "\n",
       "       Job.Title_Data Engineer  Job.Title_Data Scientist  \\\n",
       "count               154.000000                154.000000   \n",
       "mean                  0.181818                  0.662338   \n",
       "std                   0.386953                  0.474456   \n",
       "min                   0.000000                  0.000000   \n",
       "25%                   0.000000                  0.000000   \n",
       "50%                   0.000000                  1.000000   \n",
       "75%                   0.000000                  1.000000   \n",
       "max                   1.000000                  1.000000   \n",
       "\n",
       "       Job.Title_Machine Learning Engineer  Company.Name_6sense  \\\n",
       "count                           154.000000                154.0   \n",
       "mean                              0.025974                  0.0   \n",
       "std                               0.159577                  0.0   \n",
       "min                               0.000000                  0.0   \n",
       "25%                               0.000000                  0.0   \n",
       "50%                               0.000000                  0.0   \n",
       "75%                               0.000000                  0.0   \n",
       "max                               1.000000                  0.0   \n",
       "\n",
       "       Company.Name_ADCI - Karnataka  Company.Name_ADCI HYD 13 SEZ  \\\n",
       "count                          154.0                         154.0   \n",
       "mean                             0.0                           0.0   \n",
       "std                              0.0                           0.0   \n",
       "min                              0.0                           0.0   \n",
       "25%                              0.0                           0.0   \n",
       "50%                              0.0                           0.0   \n",
       "75%                              0.0                           0.0   \n",
       "max                              0.0                           0.0   \n",
       "\n",
       "       Company.Name_ADmyBRAND  ...  Sector_Media  Sector_Mining & Metals  \\\n",
       "count                   154.0  ...         154.0                   154.0   \n",
       "mean                      0.0  ...           0.0                     0.0   \n",
       "std                       0.0  ...           0.0                     0.0   \n",
       "min                       0.0  ...           0.0                     0.0   \n",
       "25%                       0.0  ...           0.0                     0.0   \n",
       "50%                       0.0  ...           0.0                     0.0   \n",
       "75%                       0.0  ...           0.0                     0.0   \n",
       "max                       0.0  ...           0.0                     0.0   \n",
       "\n",
       "       Sector_Oil, Gas, Energy & Utilities  Sector_Real Estate  Sector_Retail  \\\n",
       "count                           154.000000               154.0     154.000000   \n",
       "mean                              0.025974                 0.0       0.012987   \n",
       "std                               0.159577                 0.0       0.113588   \n",
       "min                               0.000000                 0.0       0.000000   \n",
       "25%                               0.000000                 0.0       0.000000   \n",
       "50%                               0.000000                 0.0       0.000000   \n",
       "75%                               0.000000                 0.0       0.000000   \n",
       "max                               1.000000                 0.0       1.000000   \n",
       "\n",
       "       Sector_Telecommunications  Sector_Transportation & Logistics  \\\n",
       "count                      154.0                              154.0   \n",
       "mean                         0.0                                0.0   \n",
       "std                          0.0                                0.0   \n",
       "min                          0.0                                0.0   \n",
       "25%                          0.0                                0.0   \n",
       "50%                          0.0                                0.0   \n",
       "75%                          0.0                                0.0   \n",
       "max                          0.0                                0.0   \n",
       "\n",
       "       Sector_Travel & Tourism  Sector_not mentioned  Cluster  \n",
       "count                    154.0                 154.0    154.0  \n",
       "mean                       0.0                   0.0      1.0  \n",
       "std                        0.0                   0.0      0.0  \n",
       "min                        0.0                   0.0      1.0  \n",
       "25%                        0.0                   0.0      1.0  \n",
       "50%                        0.0                   0.0      1.0  \n",
       "75%                        0.0                   0.0      1.0  \n",
       "max                        0.0                   0.0      1.0  \n",
       "\n",
       "[8 rows x 506 columns]"
      ]
     },
     "execution_count": 71,
     "metadata": {},
     "output_type": "execute_result"
    }
   ],
   "source": [
    "df1_cat.loc[df1_cat['Cluster']==1].describe()"
   ]
  },
  {
   "cell_type": "code",
   "execution_count": 72,
   "metadata": {
    "scrolled": true
   },
   "outputs": [],
   "source": [
    "df_1=df1_cat.loc[df1_cat['Cluster']==1]"
   ]
  },
  {
   "cell_type": "code",
   "execution_count": 73,
   "metadata": {
    "scrolled": true
   },
   "outputs": [
    {
     "data": {
      "text/plain": [
       "154"
      ]
     },
     "execution_count": 73,
     "metadata": {},
     "output_type": "execute_result"
    }
   ],
   "source": [
    "len(df_1)"
   ]
  },
  {
   "cell_type": "code",
   "execution_count": 227,
   "metadata": {},
   "outputs": [],
   "source": [
    "#There are 154 data points in cluster 1"
   ]
  },
  {
   "cell_type": "code",
   "execution_count": 228,
   "metadata": {},
   "outputs": [],
   "source": [
    "#df_1 is a df which has cluster 1 ka data."
   ]
  },
  {
   "cell_type": "code",
   "execution_count": 74,
   "metadata": {},
   "outputs": [
    {
     "data": {
      "text/plain": [
       "2      1\n",
       "3      1\n",
       "14     1\n",
       "16     1\n",
       "22     1\n",
       "      ..\n",
       "754    1\n",
       "784    1\n",
       "814    1\n",
       "844    1\n",
       "874    1\n",
       "Name: Job.Title_Data Scientist, Length: 102, dtype: uint8"
      ]
     },
     "execution_count": 74,
     "metadata": {},
     "output_type": "execute_result"
    }
   ],
   "source": [
    "df_1.loc[df_1['Job.Title_Data Scientist']==1]['Job.Title_Data Scientist']"
   ]
  },
  {
   "cell_type": "code",
   "execution_count": 75,
   "metadata": {
    "scrolled": true
   },
   "outputs": [
    {
     "data": {
      "text/plain": [
       "102"
      ]
     },
     "execution_count": 75,
     "metadata": {},
     "output_type": "execute_result"
    }
   ],
   "source": [
    "len(df_1.loc[df_1['Job.Title_Data Scientist']==1])\n",
    "#In cluster 1 i display data scientist data.\n",
    "#Count of data scientists in cluster 1 are 102 while there are 161 ds roles in cluster 0.clustering is good and proper."
   ]
  },
  {
   "cell_type": "code",
   "execution_count": null,
   "metadata": {},
   "outputs": [],
   "source": []
  },
  {
   "cell_type": "markdown",
   "metadata": {},
   "source": [
    "There are 102 Data Scientist roles in cluster 1."
   ]
  },
  {
   "cell_type": "code",
   "execution_count": 76,
   "metadata": {},
   "outputs": [
    {
     "data": {
      "text/plain": [
       "77"
      ]
     },
     "execution_count": 76,
     "metadata": {},
     "output_type": "execute_result"
    }
   ],
   "source": [
    "len(df_1.loc[((df_1['Job.Title_Data Scientist']==1)&(df_1['Python']==1))])"
   ]
  },
  {
   "cell_type": "code",
   "execution_count": 77,
   "metadata": {},
   "outputs": [
    {
     "name": "stdout",
     "output_type": "stream",
     "text": [
      "Percentage of data Scientist job roles  where python skill is must is  75.49019607843137\n"
     ]
    }
   ],
   "source": [
    "print(\"Percentage of data Scientist job roles  where python skill is must is \",(77/102)*100)\n"
   ]
  },
  {
   "cell_type": "markdown",
   "metadata": {},
   "source": [
    "In cluster 1,the count of data scientist jobs which require python skill(compulsary) is 77."
   ]
  },
  {
   "cell_type": "code",
   "execution_count": null,
   "metadata": {},
   "outputs": [],
   "source": [
    "#COunt of Data Scientist jobs which require python skill is just 77 compared too 100 in cluster 0.\n",
    "#The data points in cluster 0 have different properties compared to data points in cluster 1."
   ]
  },
  {
   "cell_type": "code",
   "execution_count": 78,
   "metadata": {},
   "outputs": [
    {
     "data": {
      "text/plain": [
       "31"
      ]
     },
     "execution_count": 78,
     "metadata": {},
     "output_type": "execute_result"
    }
   ],
   "source": [
    "len(df_1.loc[((df_1['Job.Title_Data Scientist']==1)&(df_1['Revenue_500+ billion (INR)']==1))])"
   ]
  },
  {
   "cell_type": "code",
   "execution_count": 156,
   "metadata": {},
   "outputs": [],
   "source": [
    "#2 cate vars.cross tab?\n",
    "#pd.cross tab?\n",
    "####pd.cross tab function"
   ]
  },
  {
   "cell_type": "code",
   "execution_count": 155,
   "metadata": {
    "scrolled": true
   },
   "outputs": [],
   "source": [
    "#df1_cat.iloc[[9],[15]]#i access row index 9 value in column index 15.df1_cat.iloc[:,:60]"
   ]
  },
  {
   "cell_type": "code",
   "execution_count": 154,
   "metadata": {
    "scrolled": true
   },
   "outputs": [],
   "source": [
    "#161:5  cluster 0\n",
    "#102:31 cluster 1"
   ]
  },
  {
   "cell_type": "code",
   "execution_count": null,
   "metadata": {},
   "outputs": [],
   "source": [
    "#focus on cluster number 3 and 4"
   ]
  },
  {
   "cell_type": "code",
   "execution_count": 165,
   "metadata": {
    "scrolled": true
   },
   "outputs": [
    {
     "data": {
      "text/plain": [
       "0    228\n",
       "5    225\n",
       "1    154\n",
       "2    127\n",
       "3     94\n",
       "4     57\n",
       "Name: Cluster, dtype: int64"
      ]
     },
     "execution_count": 165,
     "metadata": {},
     "output_type": "execute_result"
    }
   ],
   "source": [
    "df1_cat.Cluster.value_counts()"
   ]
  },
  {
   "cell_type": "code",
   "execution_count": 79,
   "metadata": {
    "scrolled": true
   },
   "outputs": [],
   "source": [
    "df_3=df1_cat.loc[df1_cat['Cluster']==3]"
   ]
  },
  {
   "cell_type": "code",
   "execution_count": 209,
   "metadata": {
    "scrolled": false
   },
   "outputs": [
    {
     "data": {
      "text/html": [
       "<div>\n",
       "<style scoped>\n",
       "    .dataframe tbody tr th:only-of-type {\n",
       "        vertical-align: middle;\n",
       "    }\n",
       "\n",
       "    .dataframe tbody tr th {\n",
       "        vertical-align: top;\n",
       "    }\n",
       "\n",
       "    .dataframe thead th {\n",
       "        text-align: right;\n",
       "    }\n",
       "</style>\n",
       "<table border=\"1\" class=\"dataframe\">\n",
       "  <thead>\n",
       "    <tr style=\"text-align: right;\">\n",
       "      <th></th>\n",
       "      <th>Rating</th>\n",
       "      <th>Location</th>\n",
       "      <th>Industry</th>\n",
       "      <th>Python</th>\n",
       "      <th>R Prog</th>\n",
       "      <th>Excel</th>\n",
       "      <th>Hadoop</th>\n",
       "      <th>SQL</th>\n",
       "      <th>SAS</th>\n",
       "      <th>Job.Title_Data Analyst</th>\n",
       "      <th>...</th>\n",
       "      <th>Sector_Media</th>\n",
       "      <th>Sector_Mining &amp; Metals</th>\n",
       "      <th>Sector_Oil, Gas, Energy &amp; Utilities</th>\n",
       "      <th>Sector_Real Estate</th>\n",
       "      <th>Sector_Retail</th>\n",
       "      <th>Sector_Telecommunications</th>\n",
       "      <th>Sector_Transportation &amp; Logistics</th>\n",
       "      <th>Sector_Travel &amp; Tourism</th>\n",
       "      <th>Sector_not mentioned</th>\n",
       "      <th>Cluster</th>\n",
       "    </tr>\n",
       "  </thead>\n",
       "  <tbody>\n",
       "    <tr>\n",
       "      <th>19</th>\n",
       "      <td>3.6</td>\n",
       "      <td>21</td>\n",
       "      <td>25</td>\n",
       "      <td>1</td>\n",
       "      <td>0</td>\n",
       "      <td>0</td>\n",
       "      <td>0</td>\n",
       "      <td>1</td>\n",
       "      <td>0</td>\n",
       "      <td>0</td>\n",
       "      <td>...</td>\n",
       "      <td>0</td>\n",
       "      <td>0</td>\n",
       "      <td>0</td>\n",
       "      <td>0</td>\n",
       "      <td>0</td>\n",
       "      <td>0</td>\n",
       "      <td>0</td>\n",
       "      <td>0</td>\n",
       "      <td>0</td>\n",
       "      <td>3</td>\n",
       "    </tr>\n",
       "    <tr>\n",
       "      <th>29</th>\n",
       "      <td>4.0</td>\n",
       "      <td>21</td>\n",
       "      <td>18</td>\n",
       "      <td>1</td>\n",
       "      <td>0</td>\n",
       "      <td>1</td>\n",
       "      <td>0</td>\n",
       "      <td>1</td>\n",
       "      <td>1</td>\n",
       "      <td>0</td>\n",
       "      <td>...</td>\n",
       "      <td>1</td>\n",
       "      <td>0</td>\n",
       "      <td>0</td>\n",
       "      <td>0</td>\n",
       "      <td>0</td>\n",
       "      <td>0</td>\n",
       "      <td>0</td>\n",
       "      <td>0</td>\n",
       "      <td>0</td>\n",
       "      <td>3</td>\n",
       "    </tr>\n",
       "    <tr>\n",
       "      <th>32</th>\n",
       "      <td>3.3</td>\n",
       "      <td>27</td>\n",
       "      <td>25</td>\n",
       "      <td>1</td>\n",
       "      <td>0</td>\n",
       "      <td>0</td>\n",
       "      <td>0</td>\n",
       "      <td>0</td>\n",
       "      <td>0</td>\n",
       "      <td>0</td>\n",
       "      <td>...</td>\n",
       "      <td>0</td>\n",
       "      <td>0</td>\n",
       "      <td>0</td>\n",
       "      <td>0</td>\n",
       "      <td>0</td>\n",
       "      <td>0</td>\n",
       "      <td>0</td>\n",
       "      <td>0</td>\n",
       "      <td>0</td>\n",
       "      <td>3</td>\n",
       "    </tr>\n",
       "  </tbody>\n",
       "</table>\n",
       "<p>3 rows × 513 columns</p>\n",
       "</div>"
      ],
      "text/plain": [
       "   Rating  Location  Industry Python R Prog Excel Hadoop SQL SAS  \\\n",
       "19    3.6        21        25      1      0     0      0   1   0   \n",
       "29    4.0        21        18      1      0     1      0   1   1   \n",
       "32    3.3        27        25      1      0     0      0   0   0   \n",
       "\n",
       "    Job.Title_Data Analyst  ...  Sector_Media  Sector_Mining & Metals  \\\n",
       "19                       0  ...             0                       0   \n",
       "29                       0  ...             1                       0   \n",
       "32                       0  ...             0                       0   \n",
       "\n",
       "    Sector_Oil, Gas, Energy & Utilities  Sector_Real Estate  Sector_Retail  \\\n",
       "19                                    0                   0              0   \n",
       "29                                    0                   0              0   \n",
       "32                                    0                   0              0   \n",
       "\n",
       "    Sector_Telecommunications  Sector_Transportation & Logistics  \\\n",
       "19                          0                                  0   \n",
       "29                          0                                  0   \n",
       "32                          0                                  0   \n",
       "\n",
       "    Sector_Travel & Tourism  Sector_not mentioned  Cluster  \n",
       "19                        0                     0        3  \n",
       "29                        0                     0        3  \n",
       "32                        0                     0        3  \n",
       "\n",
       "[3 rows x 513 columns]"
      ]
     },
     "execution_count": 209,
     "metadata": {},
     "output_type": "execute_result"
    }
   ],
   "source": [
    "df_3.head(3)"
   ]
  },
  {
   "cell_type": "code",
   "execution_count": 105,
   "metadata": {},
   "outputs": [
    {
     "data": {
      "text/plain": [
       "94"
      ]
     },
     "execution_count": 105,
     "metadata": {},
     "output_type": "execute_result"
    }
   ],
   "source": [
    "len(df_3)"
   ]
  },
  {
   "cell_type": "code",
   "execution_count": 80,
   "metadata": {},
   "outputs": [
    {
     "data": {
      "text/plain": [
       "35"
      ]
     },
     "execution_count": 80,
     "metadata": {},
     "output_type": "execute_result"
    }
   ],
   "source": [
    "len(df_3.loc[((df_3['Job.Title_Data Scientist']==1)&(df_3['Python']==1))])"
   ]
  },
  {
   "cell_type": "code",
   "execution_count": 81,
   "metadata": {},
   "outputs": [
    {
     "data": {
      "text/plain": [
       "40"
      ]
     },
     "execution_count": 81,
     "metadata": {},
     "output_type": "execute_result"
    }
   ],
   "source": [
    "len(df_3.loc[df_3['Job.Title_Data Scientist']==1])"
   ]
  },
  {
   "cell_type": "code",
   "execution_count": null,
   "metadata": {},
   "outputs": [],
   "source": []
  },
  {
   "cell_type": "code",
   "execution_count": 82,
   "metadata": {},
   "outputs": [
    {
     "name": "stdout",
     "output_type": "stream",
     "text": [
      "Percentage of Data Scientist job roles where python skill is must  87.5 percentage\n"
     ]
    }
   ],
   "source": [
    "print(\"Percentage of Data Scientist job roles where python skill is must \",(35/40)*100,\"percentage\")\n",
    "#In cluster 3,87.5 percentage of DS roles require python skill"
   ]
  },
  {
   "cell_type": "code",
   "execution_count": 100,
   "metadata": {},
   "outputs": [
    {
     "data": {
      "text/plain": [
       "5"
      ]
     },
     "execution_count": 100,
     "metadata": {},
     "output_type": "execute_result"
    }
   ],
   "source": [
    "len(df_3.loc[((df_3['Job.Title_Data Scientist']==1)&(df_3['Size_10000+ employees']==1))])"
   ]
  },
  {
   "cell_type": "code",
   "execution_count": 101,
   "metadata": {},
   "outputs": [
    {
     "data": {
      "text/plain": [
       "4"
      ]
     },
     "execution_count": 101,
     "metadata": {},
     "output_type": "execute_result"
    }
   ],
   "source": [
    "len(df_3.loc[((df_3['Job.Title_Data Scientist']==1)&(df_3['Size_5001 to 10000 employees']==1))])"
   ]
  },
  {
   "cell_type": "code",
   "execution_count": null,
   "metadata": {},
   "outputs": [],
   "source": [
    "#In cluster 3,only 9 data scientist job roles are present in large size companies.\n",
    "#"
   ]
  },
  {
   "cell_type": "code",
   "execution_count": 102,
   "metadata": {},
   "outputs": [],
   "source": [
    "#df_3.columns[400:500]"
   ]
  },
  {
   "cell_type": "code",
   "execution_count": 103,
   "metadata": {},
   "outputs": [],
   "source": [
    "df_4=df1_cat.loc[df1_cat['Cluster']==4]"
   ]
  },
  {
   "cell_type": "code",
   "execution_count": 104,
   "metadata": {
    "scrolled": true
   },
   "outputs": [
    {
     "data": {
      "text/plain": [
       "57"
      ]
     },
     "execution_count": 104,
     "metadata": {},
     "output_type": "execute_result"
    }
   ],
   "source": [
    "len(df_4)"
   ]
  },
  {
   "cell_type": "code",
   "execution_count": 106,
   "metadata": {},
   "outputs": [
    {
     "data": {
      "text/plain": [
       "18"
      ]
     },
     "execution_count": 106,
     "metadata": {},
     "output_type": "execute_result"
    }
   ],
   "source": [
    "len(df_4.loc[((df_4['Job.Title_Data Scientist']==1)&(df_4['Size_10000+ employees']==1))])"
   ]
  },
  {
   "cell_type": "code",
   "execution_count": 107,
   "metadata": {
    "scrolled": true
   },
   "outputs": [
    {
     "data": {
      "text/plain": [
       "6"
      ]
     },
     "execution_count": 107,
     "metadata": {},
     "output_type": "execute_result"
    }
   ],
   "source": [
    "len(df_4.loc[((df_4['Size_5001 to 10000 employees']==1)&(df_4['Size_5001 to 10000 employees']==1))])"
   ]
  },
  {
   "cell_type": "code",
   "execution_count": null,
   "metadata": {},
   "outputs": [],
   "source": [
    "# # plot the lmplot to visualize the clusters\n",
    "# # pass the different markers to display the points in each cluster with different shapes\n",
    "# # the 'hue' parameter returns colors for each cluster\n",
    "# sns.lmplot(x = 'Cust_Spend_Score', y = 'Yearly_Income', data = df1_num, hue = 'Cluster', \n",
    "#                 markers = ['*', ',', '^', '.', '+',',','+'], fit_reg = False, size = 10)\n",
    "\n",
    "# # set the axes and plot labels\n",
    "# # set the font size using 'fontsize'\n",
    "# plt.title('K-means Clustering (for K=7)', fontsize = 15)\n",
    "# plt.xlabel('Spending Score', fontsize = 15)\n",
    "# plt.ylabel('Annual Income', fontsize = 15)\n",
    "\n",
    "# # display the plot\n",
    "# plt.show()"
   ]
  },
  {
   "cell_type": "code",
   "execution_count": null,
   "metadata": {},
   "outputs": [],
   "source": [
    "#In cluster 4,24 data scientist job vacancies are present in large size companies.24 out of 57 .\n",
    "#almost half.high fraction value in cluster 4 compared to cluster 3."
   ]
  },
  {
   "cell_type": "markdown",
   "metadata": {},
   "source": [
    "Innovative techniques applied in new project:"
   ]
  },
  {
   "cell_type": "markdown",
   "metadata": {},
   "source": [
    "\n",
    "We have build K means algorithm in this DS project.In existing system Data preprocessing,Feature engineering and Exploratory Data\n",
    "Analysis was performed.We have used Elbow plot,Silhouette scores to analyse the properties of data in each cluster.\n",
    "Data patterns in each clusters are different.We can analyse the properties of data in each clusters to obtain meaningfull\n",
    "insights for business."
   ]
  },
  {
   "cell_type": "code",
   "execution_count": null,
   "metadata": {},
   "outputs": [],
   "source": []
  }
 ],
 "metadata": {
  "accelerator": "GPU",
  "colab": {
   "gpuType": "T4",
   "provenance": []
  },
  "kernelspec": {
   "display_name": "Python 3",
   "language": "python",
   "name": "python3"
  },
  "language_info": {
   "codemirror_mode": {
    "name": "ipython",
    "version": 3
   },
   "file_extension": ".py",
   "mimetype": "text/x-python",
   "name": "python",
   "nbconvert_exporter": "python",
   "pygments_lexer": "ipython3",
   "version": "3.8.5"
  }
 },
 "nbformat": 4,
 "nbformat_minor": 1
}
